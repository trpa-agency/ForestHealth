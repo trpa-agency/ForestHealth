{
 "cells": [
  {
   "cell_type": "markdown",
   "metadata": {},
   "source": [
    "# Tahoe Forest Health Threshold Analysis\n",
    "* Mason Bindl, mbindl@trpa.gov\n",
    "* Andrew McClary, amcclary@trpa.gov"
   ]
  },
  {
   "cell_type": "markdown",
   "metadata": {},
   "source": [
    "### Setup"
   ]
  },
  {
   "cell_type": "code",
   "execution_count": null,
   "metadata": {
    "ExecuteTime": {
     "end_time": "2023-08-22T18:43:34.294636Z",
     "start_time": "2023-08-22T18:43:30.642045Z"
    }
   },
   "outputs": [],
   "source": [
    "# import packages\n",
    "import arcpy\n",
    "from arcpy.sa import *\n",
    "from arcpy.ia import *\n",
    "from arcpy.ddd import *\n",
    "import pandas as pd\n",
    "# setup workspace variables\n",
    "arcpy.env.workspace = r\"F:\\\\GIS\\\\PROJECTS\\\\ForestHealth_Intiative\\\\ThresholdUpdate\\\\Data\\\\ForestHealth_ThresholdUpdate.gdb\"\n",
    "arcpy.env.overwriteOutput = True\n",
    "workspace = r\"F:\\GIS\\PROJECTS\\ForestHealth_Intiative\\ThresholdUpdate\\Data\\ForestHealth_ThresholdUpdate.gdb\"\n",
    "downloads = r\"F:\\GIS\\PROJECTS\\ForestHealth_Intiative\\ThresholdUpdate\\Data\\Download\\SNVRRK_2020\""
   ]
  },
  {
   "cell_type": "code",
   "execution_count": null,
   "metadata": {
    "ExecuteTime": {
     "end_time": "2023-06-01T17:54:57.176613Z",
     "start_time": "2023-06-01T17:54:57.8828Z"
    }
   },
   "outputs": [],
   "source": [
    "# get field names to loop through and create rasters from\n",
    "field_names = [f.name for f in arcpy.ListFields(\"ClimateClass_Tahoe\")]\n",
    "print(field_names)"
   ]
  },
  {
   "cell_type": "code",
   "execution_count": null,
   "metadata": {
    "ExecuteTime": {
     "end_time": "2023-08-22T18:43:53.853550Z",
     "start_time": "2023-08-22T18:43:53.353852Z"
    }
   },
   "outputs": [],
   "source": [
    "# functions\n",
    "# iterate over raster attribute table \n",
    "def export_attributes_as_rasters(in_raster, output_folder):\n",
    "    # Set local variables\n",
    "    arcpy.env.workspace = output_folder\n",
    "    # get field names to loop through and create rasters from\n",
    "    field_names = [f.name for f in arcpy.ListFields(featureclass)]\n",
    "    fields_to_remove = ['OBJECTID', 'Value', 'Count']\n",
    "    fields = [x for x in field_names if x not in fields_to_remove]\n",
    "    # Iterate over the unique attribute values and export each as a separate raster\n",
    "\n",
    "    for field in fields:\n",
    "        # Execute Lookup\n",
    "        out_raster = Lookup(in_raster, field, value)\n",
    "        # Save the output raster\n",
    "        out_raster_path = f\"{in_raster}_{field}\"\n",
    "        out_raster.save(out_raster_path)\n",
    "        print(\"Exported raster for field: \", field)\n",
    "\n",
    "        \n",
    "# function to classify raw raster into desired condition categories based on 90th and 10th percentile value comaprison \n",
    "def raster_categorize(input_raster, upper_raster, lower_raster, output_raster_name):\n",
    "    input_raster_obj = Raster(input_raster)\n",
    "    lower_raster_obj = Raster(lower_raster)\n",
    "    upper_raster_obj = Raster(upper_raster)\n",
    "    output_raster_obj = Con(input_raster_obj < lower_raster_obj, -1,\n",
    "                        Con(input_raster_obj > upper_raster_obj, 1, 0))\n",
    "    output_raster_obj.save(output_raster_name)\n",
    "\n",
    "# calculate new field - acres\n",
    "def add_acres(inFeatures):\n",
    "    fieldName2 = \"Acres\"\n",
    "    fieldPrecision = 18\n",
    "    fieldScale = 11\n",
    "    arcpy.management.AddField(inFeatures, fieldName2, \"DOUBLE\", fieldPrecision, fieldScale)\n",
    "    arcpy.management.CalculateField(inFeatures, fieldName2,\"!Count! * 0.222395\", \"PYTHON3\")\n",
    "\n",
    "# calculate category field for desire condition - target, low, high\n",
    "def add_category(inFeatures, lookup_dict):\n",
    "    arcpy.AddField_management(inFeatures, \"Category\", \"TEXT\")\n",
    "    with arcpy.da.UpdateCursor(inFeatures, [\"Value\", \"Category\"]) as cursor:\n",
    "        for row in cursor:\n",
    "            if row[0] in lookup_dict:\n",
    "                row[1] = lookup_dict[row[0]]\n",
    "            cursor.updateRow(row)\n",
    "\n",
    "# \n",
    "def CreateRasterLookup(raster, field, name):\n",
    "    Lookup(\n",
    "        in_raster    =raster,\n",
    "        lookup_field =field,\n",
    "        out_raster   =name\n",
    "    )"
   ]
  },
  {
   "cell_type": "markdown",
   "metadata": {},
   "source": [
    "### Raster Processing"
   ]
  },
  {
   "cell_type": "code",
   "execution_count": null,
   "metadata": {},
   "outputs": [],
   "source": [
    "## TCSI Raster Processing\n",
    "tphTCSI   = os.path.join(downloads, \"\\PROMOTE\\tcsi_tph.tif\")\n",
    "seralTCSI = "
   ]
  },
  {
   "cell_type": "code",
   "execution_count": null,
   "metadata": {},
   "outputs": [],
   "source": [
    "# resample to 30m cell size\n",
    "arcpy.management.Resample(\n",
    "    in_raster= os.path.join(downlaods, \"\")\n",
    "    out_raster=\"TreesPerHectare_TCSI\",\n",
    "    cell_size=\"30 30\",\n",
    "    resampling_type=\"NEAREST\"\n",
    ")\n",
    "\n"
   ]
  },
  {
   "cell_type": "markdown",
   "metadata": {},
   "source": [
    "#### Preprocessing Methods\n",
    "* Extract existing condition and climate class rasters to Tahoe extent, save in project file geodatabase\n",
    "* Convert data to single band integer or float rasters, save in the project file geodatabase\n",
    "* Combine reference sites and climate class\n"
   ]
  },
  {
   "cell_type": "code",
   "execution_count": null,
   "metadata": {
    "ExecuteTime": {
     "end_time": "2023-05-31T00:39:39.975424Z",
     "start_time": "2023-05-31T00:37:39.121532Z"
    }
   },
   "outputs": [],
   "source": [
    "# process climate class data\n",
    "\n",
    "# resample to 30m cell size\n",
    "arcpy.management.Resample(\n",
    "    in_raster=r\"F:\\GIS\\PROJECTS\\ForestHealth_Intiative\\ThresholdUpdate\\Data\\Download\\kmeans_15cl_diag_rscl_smooth.tif\",\n",
    "    out_raster=\"ClimateClasses_15class_ACCEL_30m_SierraNevada\",\n",
    "    cell_size=\"30 30\",\n",
    "    resampling_type=\"NEAREST\"\n",
    ")\n",
    "\n",
    "# extract by mask to Tahoe\n",
    "climateClassTahoe = ExtractByMask(\n",
    "    in_raster=\"ClimateClasses_15class_ACCEL_30m_SierraNevada\",\n",
    "    in_mask_data=r\"F:\\GIS\\DB_CONNECT\\Vector.sde\\sde.SDE.Jurisdictions\\sde.SDE.TRPA_bdy\",\n",
    "    extraction_area=\"INSIDE\",\n",
    "    analysis_extent='-214749.813147473 -338358.008101731 228897.27559438 457005.517540967 PROJCS[\"NAD_1983_California_Teale_Albers\",GEOGCS[\"GCS_North_American_1983\",DATUM[\"D_North_American_1983\",SPHEROID[\"GRS_1980\",6378137.0,298.257222101]],PRIMEM[\"Greenwich\",0.0],UNIT[\"Degree\",0.0174532925199433]],PROJECTION[\"Albers\"],PARAMETER[\"False_Easting\",0.0],PARAMETER[\"False_Northing\",-4000000.0],PARAMETER[\"Central_Meridian\",-120.0],PARAMETER[\"Standard_Parallel_1\",34.0],PARAMETER[\"Standard_Parallel_2\",40.5],PARAMETER[\"Latitude_Of_Origin\",0.0],UNIT[\"Meter\",1.0]]'\n",
    ")\n",
    "# save tahoe climate class raster\n",
    "climateClassTahoe.save(\"ClimateClass_Tahoe\")"
   ]
  },
  {
   "cell_type": "code",
   "execution_count": null,
   "metadata": {
    "ExecuteTime": {
     "end_time": "2023-05-25T04:58:13.406724Z",
     "start_time": "2023-05-25T04:46:31.615754Z"
    },
    "scrolled": true
   },
   "outputs": [],
   "source": [
    "# process reference sites\n",
    "Int(\n",
    "    in_raster_or_constant=r\"F:\\GIS\\PROJECTS\\ForestHealth_Intiative\\ThresholdUpdate\\Data\\Download\\referenceYesNo_3crit.tif\",\n",
    "    out_raster=\"referencesites_int\"\n",
    ")\n",
    "\n",
    "arcpy.conversion.PolygonToRaster(\n",
    "    in_features=\"F:\\GIS\\PROJECTS\\ForestHealth_Intiative\\ThresholdUpdate\\Data\\Download\\contemporary_reference_sites.shp\",\n",
    "    value_field=\"site_id\",\n",
    "    out_rasterdataset=\"referencesites_contemporary_int\",\n",
    "    cell_assignment=\"CELL_CENTER\",\n",
    "    priority_field=\"NONE\",\n",
    "    cellsize=30,\n",
    "    build_rat=\"BUILD\"\n",
    ")\n",
    "\n",
    "arcpy.management.MosaicToNewRaster(\n",
    "    input_rasters=\"referencesites_contemporary_int;referencesites_int\",\n",
    "    output_location=r\"F:\\GIS\\PROJECTS\\ForestHealth_Intiative\\ThresholdUpdate\\Data\\ForestHealth_ThresholdUpdate.gdb\",\n",
    "    raster_dataset_name_with_extension=\"Mosaic_ReferenceSites_ACCEL_30m_SierraNevada\",\n",
    "    coordinate_system_for_the_raster='PROJCS[\"NAD_1983_UTM_Zone_10N\",GEOGCS[\"GCS_North_American_1983\",DATUM[\"D_North_American_1983\",SPHEROID[\"GRS_1980\",6378137.0,298.257222101]],PRIMEM[\"Greenwich\",0.0],UNIT[\"Degree\",0.0174532925199433]],PROJECTION[\"Transverse_Mercator\"],PARAMETER[\"False_Easting\",500000.0],PARAMETER[\"False_Northing\",0.0],PARAMETER[\"Central_Meridian\",-123.0],PARAMETER[\"Scale_Factor\",0.9996],PARAMETER[\"Latitude_Of_Origin\",0.0],UNIT[\"Meter\",1.0]]',\n",
    "    pixel_type=\"8_BIT_UNSIGNED\",\n",
    "    cellsize=30,\n",
    "    number_of_bands=1,\n",
    "    mosaic_method=\"LAST\",\n",
    "    mosaic_colormap_mode=\"FIRST\"\n",
    ")\n",
    "\n",
    "Reclassify(\n",
    "    in_raster=\"Mosaic_ReferenceSites_ACCEL_30m_SierraNevada\",\n",
    "    reclass_field=\"Value\",\n",
    "    remap=\"1 119 1\",\n",
    "    out_raster = \"ReferenceSites_ACCEL_30m_SierraNevada\",\n",
    "    missing_values=\"DATA\"\n",
    ")"
   ]
  },
  {
   "cell_type": "markdown",
   "metadata": {
    "ExecuteTime": {
     "end_time": "2023-06-01T18:04:44.407116Z",
     "start_time": "2023-06-01T18:04:44.405374Z"
    }
   },
   "source": [
    "#### Process Climate Classes"
   ]
  },
  {
   "cell_type": "code",
   "execution_count": null,
   "metadata": {},
   "outputs": [],
   "source": []
  },
  {
   "cell_type": "code",
   "execution_count": null,
   "metadata": {
    "ExecuteTime": {
     "end_time": "2023-05-30T21:20:13.203832Z",
     "start_time": "2023-05-30T21:17:53.983567Z"
    }
   },
   "outputs": [],
   "source": [
    "ExtractClimateClassesbyReferenceSites = ExtractByMask(\n",
    "    in_raster=\"ClimateClasses_15class_ACCEL_30m_SierraNevada\",\n",
    "    in_mask_data=\"ReferenceSites_ACCEL_30m_SierraNevada\",\n",
    "    extraction_area=\"INSIDE\",\n",
    "    analysis_extent='-214749.813147473 -338358.008101731 228897.27559438 457005.517540967 PROJCS[\"NAD_1983_California_Teale_Albers\",GEOGCS[\"GCS_North_American_1983\",DATUM[\"D_North_American_1983\",SPHEROID[\"GRS_1980\",6378137.0,298.257222101]],PRIMEM[\"Greenwich\",0.0],UNIT[\"Degree\",0.0174532925199433]],PROJECTION[\"Albers\"],PARAMETER[\"False_Easting\",0.0],PARAMETER[\"False_Northing\",-4000000.0],PARAMETER[\"Central_Meridian\",-120.0],PARAMETER[\"Standard_Parallel_1\",34.0],PARAMETER[\"Standard_Parallel_2\",40.5],PARAMETER[\"Latitude_Of_Origin\",0.0],UNIT[\"Meter\",1.0]]'\n",
    ")\n",
    "ExtractClimateClassesbyReferenceSites.save(\"ExtractByMask_ClimateClasses_ReferenceSites_ACCEL_30m_SierraNevada\")"
   ]
  },
  {
   "cell_type": "code",
   "execution_count": null,
   "metadata": {
    "ExecuteTime": {
     "end_time": "2023-06-01T17:55:25.499534Z",
     "start_time": "2023-06-01T17:55:25.488649Z"
    }
   },
   "outputs": [],
   "source": [
    "# get field names to loop through and create rasters from\n",
    "field_names = [f.name for f in arcpy.ListFields(\"ClimateClass_Tahoe\")]\n",
    "print(field_names)"
   ]
  },
  {
   "cell_type": "code",
   "execution_count": null,
   "metadata": {
    "ExecuteTime": {
     "end_time": "2023-05-31T00:35:57.513656Z",
     "start_time": "2023-05-31T00:35:45.487834Z"
    }
   },
   "outputs": [],
   "source": [
    "fcList = [\"ClimateClass_Tahoe\"]\n",
    "for fc in fcList:\n",
    "    fields_to_delete = [field.name for field in arcpy.ListFields(fc) if not field.required]\n",
    "#     fields_to_delete.pop() #Keep one non-required field\n",
    "    for field in fields_to_delete:\n",
    "        arcpy.DeleteField_management(fc, field)"
   ]
  },
  {
   "cell_type": "code",
   "execution_count": null,
   "metadata": {},
   "outputs": [],
   "source": [
    "keep_fields = [\"\",\"\"]\n",
    "fieldNameList = []\n",
    "fieldObjList = arcpy.ListFields(table)\n",
    "\n",
    "for field in fieldObjList:\n",
    "    if (not field.name in keep_fields) and (not field.required):\n",
    "        fieldNameList.append(field.name)\n",
    "\n",
    "arcpy.DeleteField_management(table,fieldNameList)"
   ]
  },
  {
   "cell_type": "code",
   "execution_count": null,
   "metadata": {
    "ExecuteTime": {
     "end_time": "2023-06-01T17:55:52.361880Z",
     "start_time": "2023-06-01T17:55:39.530328Z"
    }
   },
   "outputs": [],
   "source": [
    "add_acres(\"ClimateClass_Tahoe\")"
   ]
  },
  {
   "cell_type": "code",
   "execution_count": null,
   "metadata": {},
   "outputs": [],
   "source": [
    "arcpy.conversion.ExportTable(\n",
    "    in_table=r\"Boundaries\\Climate Classes - Tahoe\",\n",
    "    out_table=r\"F:\\GIS\\PROJECTS\\ForestHealth_Intiative\\ThresholdUpdate\\AnalysisProduct\\ClimateClasses_TahoeValues.csv\",\n",
    "    where_clause=\"\",\n",
    "    use_field_alias_as_name=\"NOT_USE_ALIAS\",\n",
    "    field_mapping=r'Value \"Value\" false true false 4 Long 0 0,First,#,Boundaries\\Climate Classes - Tahoe,Value,-1,-1;Count \"Count\" false true false 8 Double 0 0,First,#,Boundaries\\Climate Classes - Tahoe,Count,-1,-1;StandDensity10thPercentile \"StandDensity10thPercentile\" true true false 4 Long 0 0,First,#,Boundaries\\Climate Classes - Tahoe,StandDensity10thPercentile,-1,-1;StandDensity90thPercentile \"StandDensity90thPercentile\" true true false 4 Long 0 0,First,#,Boundaries\\Climate Classes - Tahoe,StandDensity90thPercentile,-1,-1;LargeTreeDensity10thPercentile \"LargeTreeDensity10thPercentile\" true true false 4 Long 0 0,First,#,Boundaries\\Climate Classes - Tahoe,LargeTreeDensity10thPercentile,-1,-1;LargeTreeDensity20thPercentile \"LargeTreeDensity20thPercentile\" true true false 4 Long 0 0,First,#,Boundaries\\Climate Classes - Tahoe,LargeTreeDensity20thPercentile,-1,-1;LargeTreeDensity80thPercentile \"LargeTreeDensity80thPercentile\" true true false 4 Long 0 0,First,#,Boundaries\\Climate Classes - Tahoe,LargeTreeDensity80thPercentile,-1,-1;LargeTreeDensity90thPercentile \"LargeTreeDensity90thPercentile\" true true false 4 Long 0 0,First,#,Boundaries\\Climate Classes - Tahoe,LargeTreeDensity90thPercentile,-1,-1;FractalIndex10thPercentile \"FractalIndex10thPercentile\" true true false 8 Double 0 0,First,#,Boundaries\\Climate Classes - Tahoe,FractalIndex10thPercentile,-1,-1;FractalIndex20thPercentile \"FractalIndex20thPercentile\" true true false 8 Double 0 0,First,#,Boundaries\\Climate Classes - Tahoe,FractalIndex20thPercentile,-1,-1;FractalIndex80thPercentile \"FractalIndex80thPercentile\" true true false 8 Double 0 0,First,#,Boundaries\\Climate Classes - Tahoe,FractalIndex80thPercentile,-1,-1;FractalIndex90thPercentile \"FractalIndex90thPercentile\" true true false 8 Double 0 0,First,#,Boundaries\\Climate Classes - Tahoe,FractalIndex90thPercentile,-1,-1;Acres \"Acres\" true true false 8 Double 0 0,First,#,Boundaries\\Climate Classes - Tahoe,Acres,-1,-1',\n",
    "    sort_field=None\n",
    ")"
   ]
  },
  {
   "cell_type": "markdown",
   "metadata": {
    "heading_collapsed": true
   },
   "source": [
    "## Stand Density"
   ]
  },
  {
   "cell_type": "code",
   "execution_count": null,
   "metadata": {
    "hidden": true
   },
   "outputs": [],
   "source": [
    "## TCSI Data "
   ]
  },
  {
   "cell_type": "code",
   "execution_count": null,
   "metadata": {
    "hidden": true
   },
   "outputs": [],
   "source": []
  },
  {
   "cell_type": "markdown",
   "metadata": {
    "hidden": true
   },
   "source": [
    "### Methods\n",
    "* Extracted climate classes by contemporary reference sites to use as the zonal input to calculate 10th and 90th percentile of Trees Per Acres\n",
    "* Extract by mask Tahoe Climate Classes and Tahoe Trees Per Acre values\n",
    "* Classify new rasters of 10th and 90th percentile for Tahoe by climate class\n",
    "* Compare current Tahoe Trees Per Acre pixel values to 10th and 90th percentile climate class/reference site values and classify whether the pixel is below target (<10th percentile), at target (between 10th and 90th percentile, or above target (>90th percentile)"
   ]
  },
  {
   "cell_type": "code",
   "execution_count": null,
   "metadata": {
    "ExecuteTime": {
     "end_time": "2023-08-22T18:56:13.752491Z",
     "start_time": "2023-08-22T18:48:49.620757Z"
    },
    "hidden": true
   },
   "outputs": [],
   "source": [
    "# input Tahoe ACCEL Climate Class Raster\n",
    "climateClass = \"ClimateClass_Tahoe\"\n",
    "\n",
    "# input zones\n",
    "zones        = \"ExtractByMask_ClimateClasses_ReferenceSites_ACCEL_30m_SierraNevada\"\n",
    "\n",
    "# output zonal stats table\n",
    "zonalStats   = \"ZonalStats_ReferenceSiteClimateClass_StandDensity_Percentile\"\n",
    "\n",
    "# out field names\n",
    "field10th    = 'StandDensity10thPercentile'\n",
    "field90th    = 'StandDensity90thPercentile'\n",
    "\n",
    "# name the output climate class/reference site metric stat rasters\n",
    "name10th     = os.path.join(workspace, f\"ClimateClassTahoe_{field10th}\")\n",
    "name90th     = os.path.join(workspace, f\"ClimateClassTahoe_{field90th}\")\n",
    "\n",
    "# declare rasters to use as inputs\n",
    "standDensitySierra = Raster(\"StandDensity_TPA_ACCEL_30m_SierraNevada\")\n",
    "standDensityTahoe  = Raster(\"StandDensity_TPA_ACCEL_30m_Tahoe\")\n",
    "standDensity10th   = Raster(name10th)\n",
    "standDensity90th   = Raster(name90th)\n",
    "\n",
    "# name output classified raster\n",
    "standDensityName   = \"StandDensity_TPA_Classified_30m_Tahoe_9010\"\n",
    "\n",
    "# run zonal stats\n",
    "ZonalStatisticsAsTable(\n",
    "    in_zone_data=zones,\n",
    "    zone_field=\"Value\",\n",
    "    in_value_raster=standDensitySierra,\n",
    "    out_table=zonalStats,\n",
    "    ignore_nodata=\"DATA\",\n",
    "    statistics_type=\"PERCENTILE\",\n",
    "    process_as_multidimensional=\"CURRENT_SLICE\",\n",
    "    percentile_values=[90,10],\n",
    "    percentile_interpolation_type=\"AUTO_DETECT\",\n",
    "    circular_calculation=\"ARITHMETIC\",\n",
    "    circular_wrap_value=360\n",
    ")\n",
    "\n",
    "# delete field\n",
    "arcpy.DeleteField_management(climateClass, \n",
    "                             [field10th])\n",
    "\n",
    "# add field\n",
    "arcpy.management.AddField(climateClass, \n",
    "                          field10th, \n",
    "                          \"LONG\"\n",
    "                         )\n",
    "\n",
    "# delete field\n",
    "arcpy.DeleteField_management(climateClass, \n",
    "                             [field90th])\n",
    "\n",
    "# add field\n",
    "arcpy.management.AddField(climateClass, \n",
    "                          field90th, \n",
    "                          \"LONG\"\n",
    "                         )\n",
    "\n",
    "\n",
    "# add join to zonal stats table\n",
    "arcpy.management.AddJoin(\n",
    "    in_layer_or_view= climateClass,\n",
    "    in_field= \"Value\",\n",
    "    join_table= zonalStats,\n",
    "    join_field= \"Value\",\n",
    "    join_type= \"KEEP_ALL\",\n",
    "    index_join_fields=\"NO_INDEX_JOIN_FIELDS\"\n",
    ")\n",
    "\n",
    "# calc fields\n",
    "arcpy.management.CalculateField(\n",
    "    in_table=\"ClimateClass_Tahoe_Layer\",\n",
    "    field=f\"VAT_ClimateClass_Tahoe.{field90th}\",\n",
    "    expression=\"!ZonalStats_ReferenceSiteClimateClass_StandDensity_Percentile.PCT90!\",\n",
    "    expression_type=\"PYTHON3\",\n",
    "    code_block=\"\",\n",
    "    field_type=\"LONG\"\n",
    ")\n",
    "arcpy.management.CalculateField(\n",
    "    in_table=\"ClimateClass_Tahoe_Layer\",\n",
    "    field=f\"VAT_ClimateClass_Tahoe.{field10th}\",\n",
    "    expression=\"!ZonalStats_ReferenceSiteClimateClass_StandDensity_Percentile.PCT10!\",\n",
    "    expression_type=\"PYTHON3\",\n",
    "    code_block=\"\",\n",
    "    field_type=\"LONG\"\n",
    ")\n",
    "\n",
    "# remove the join\n",
    "arcpy.RemoveJoin_management(\"ClimateClass_Tahoe_Layer\", \n",
    "                            zonalStats)\n",
    "\n",
    "# save rasters for lookup\n",
    "Lookup(\n",
    "    in_raster=climateClass,\n",
    "    lookup_field=field10th,\n",
    "    out_raster=name10th\n",
    ")\n",
    "print(f\"Exported raster for {field10th} and saved it here {name10th}\")\n",
    "# \n",
    "Lookup(\n",
    "    in_raster=climateClass,\n",
    "    lookup_field=field90th,\n",
    "    out_raster=name90th\n",
    ")\n",
    "print(f\"Exported raster for {field90th} and saved it here {name90th}\")\n",
    "\n",
    "\n",
    "# Use the Con function to classify the raster based on reference condition range values\n",
    "# -1 represents less than 10th percentile, 1 is greater than 90th, 0 is target\n",
    "standDensityClass = Con(standDensityTahoe < standDensity10th, -1,\n",
    "                    Con(standDensityTahoe > standDensity90th, 1, 0))\n",
    "\n",
    "# Save the output raster to the geodatabase\n",
    "standDensityClass.save(standDensityName)\n",
    "print(f\"Exported raster: {standDensityName}\")\n",
    "\n",
    "# lookup value category\n",
    "lookup_dict = {-1:\"Below Target\", 0:\"Target\", 1:\"Above Target\"}\n",
    "# build an attribute table\n",
    "arcpy.BuildRasterAttributeTable_management(standDensityName, \"Overwrite\")\n",
    "# calc Acres field\n",
    "add_acres(standDensityName)\n",
    "# add and calc category field\n",
    "add_category(standDensityName, lookup_dict)"
   ]
  },
  {
   "cell_type": "code",
   "execution_count": null,
   "metadata": {
    "ExecuteTime": {
     "end_time": "2023-08-22T18:48:00.563034Z",
     "start_time": "2023-08-22T18:47:59.538109Z"
    },
    "hidden": true
   },
   "outputs": [],
   "source": [
    "# input Tahoe ACCEL Climate Class Raster\n",
    "climateClass = \"ClimateClass_Tahoe\"\n",
    "\n",
    "# input zones\n",
    "zones        = \"ExtractByMask_ClimateClasses_ReferenceSites_ACCEL_30m_SierraNevada\"\n",
    "\n",
    "# output zonal stats table\n",
    "zonalStats   = \"ZonalStats_ReferenceSiteClimateClass_StandDensity_Percentile\"\n",
    "\n",
    "# out field names\n",
    "field30th    = 'StandDensity30thPercentile'\n",
    "field70th    = 'StandDensity70thPercentile'\n",
    "\n",
    "# name the output climate class/reference site metric stat rasters\n",
    "name30th     = os.path.join(workspace, f\"ClimateClassTahoe_{field30th}\")\n",
    "name70th     = os.path.join(workspace, f\"ClimateClassTahoe_{field70th}\")\n",
    "\n",
    "# declare rasters to use as inputs\n",
    "standDensitySierra = Raster(\"StandDensity_TPA_ACCEL_30m_SierraNevada\")\n",
    "standDensityTahoe  = Raster(\"StandDensity_TPA_ACCEL_30m_Tahoe\")\n",
    "standDensity30th   = Raster(name30th)\n",
    "standDensity70th   = Raster(name70th)\n",
    "\n",
    "# name output classified raster\n",
    "standDensityName   = \"StandDensity_TPA_Classified_30m_Tahoe_7030\"\n",
    "\n",
    "# run zonal stats\n",
    "ZonalStatisticsAsTable(\n",
    "    in_zone_data=zones,\n",
    "    zone_field=\"Value\",\n",
    "    in_value_raster=standDensitySierra,\n",
    "    out_table=zonalStats,\n",
    "    ignore_nodata=\"DATA\",\n",
    "    statistics_type=\"PERCENTILE\",\n",
    "    process_as_multidimensional=\"CURRENT_SLICE\",\n",
    "    percentile_values=[90,80,70,60,50,40,30,20,10],\n",
    "    percentile_interpolation_type=\"AUTO_DETECT\",\n",
    "    circular_calculation=\"ARITHMETIC\",\n",
    "    circular_wrap_value=360\n",
    ")\n",
    "\n",
    "# delete field\n",
    "arcpy.DeleteField_management(climateClass, \n",
    "                             [field30th])\n",
    "\n",
    "# add field\n",
    "arcpy.management.AddField(climateClass, \n",
    "                          field30th, \n",
    "                          \"LONG\"\n",
    "                         )\n",
    "\n",
    "# delete field\n",
    "arcpy.DeleteField_management(climateClass, \n",
    "                             [field70th])\n",
    "\n",
    "# add field\n",
    "arcpy.management.AddField(climateClass, \n",
    "                          field70th, \n",
    "                          \"LONG\"\n",
    "                         )\n",
    "\n",
    "\n",
    "# add join to zonal stats table\n",
    "arcpy.management.AddJoin(\n",
    "    in_layer_or_view= climateClass,\n",
    "    in_field= \"Value\",\n",
    "    join_table= zonalStats,\n",
    "    join_field= \"Value\",\n",
    "    join_type= \"KEEP_ALL\",\n",
    "    index_join_fields=\"NO_INDEX_JOIN_FIELDS\"\n",
    ")\n",
    "\n",
    "# calc fields\n",
    "arcpy.management.CalculateField(\n",
    "    in_table=\"ClimateClass_Tahoe_Layer\",\n",
    "    field=f\"VAT_ClimateClass_Tahoe.{field70th}\",\n",
    "    expression=\"!ZonalStats_ReferenceSiteClimateClass_StandDensity_Percentile.PCT70!\",\n",
    "    expression_type=\"PYTHON3\",\n",
    "    code_block=\"\",\n",
    "    field_type=\"LONG\"\n",
    ")\n",
    "arcpy.management.CalculateField(\n",
    "    in_table=\"ClimateClass_Tahoe_Layer\",\n",
    "    field=f\"VAT_ClimateClass_Tahoe.{field30th}\",\n",
    "    expression=\"!ZonalStats_ReferenceSiteClimateClass_StandDensity_Percentile.PCT30!\",\n",
    "    expression_type=\"PYTHON3\",\n",
    "    code_block=\"\",\n",
    "    field_type=\"LONG\"\n",
    ")\n",
    "\n",
    "# remove the join\n",
    "arcpy.RemoveJoin_management(\"ClimateClass_Tahoe_Layer\", \n",
    "                            zonalStats)\n",
    "\n",
    "# save rasters for lookup\n",
    "Lookup(\n",
    "    in_raster=climateClass,\n",
    "    lookup_field=field30th,\n",
    "    out_raster=name10th\n",
    ")\n",
    "print(f\"Exported raster for {field30th} and saved it here {name30th}\")\n",
    "# \n",
    "Lookup(\n",
    "    in_raster=climateClass,\n",
    "    lookup_field=field70th,\n",
    "    out_raster=name90th\n",
    ")\n",
    "print(f\"Exported raster for {field70th} and saved it here {name70th}\")\n",
    "\n",
    "\n",
    "# Use the Con function to classify the raster based on reference condition range values\n",
    "# -1 represents less than 10th percentile, 1 is greater than 90th, 0 is target\n",
    "standDensityClass = Con(standDensityTahoe < standDensity30th, -1,\n",
    "                    Con(standDensityTahoe > standDensity70th, 1, 0))\n",
    "\n",
    "# Save the output raster to the geodatabase\n",
    "standDensityClass.save(standDensityName)\n",
    "print(f\"Exported raster: {standDensityName}\")\n",
    "\n",
    "# lookup value category\n",
    "lookup_dict = {-1:\"Below Target\", 0:\"Target\", 1:\"Above Target\"}\n",
    "# build an attribute table\n",
    "arcpy.BuildRasterAttributeTable_management(standDensityName, \"Overwrite\")\n",
    "# calc Acres field\n",
    "add_acres(standDensityName)\n",
    "# add and calc category field\n",
    "add_category(standDensityName, lookup_dict)"
   ]
  },
  {
   "cell_type": "code",
   "execution_count": null,
   "metadata": {
    "hidden": true
   },
   "outputs": [],
   "source": []
  },
  {
   "cell_type": "code",
   "execution_count": null,
   "metadata": {
    "ExecuteTime": {
     "end_time": "2023-05-31T16:56:00.957244Z",
     "start_time": "2023-05-31T16:55:50.229473Z"
    },
    "hidden": true
   },
   "outputs": [],
   "source": [
    "arcpy.conversion.ExportTable(\n",
    "    in_table=\"StandDensity_TPA_Classified_30m_Tahoe\",\n",
    "    out_table=r\"F:\\GIS\\PROJECTS\\ForestHealth_Intiative\\ThresholdUpdate\\AnalysisProduct\\StandDensity_TPA_Classified_30m_Tahoe.csv\",\n",
    ")\n"
   ]
  },
  {
   "cell_type": "code",
   "execution_count": null,
   "metadata": {
    "ExecuteTime": {
     "end_time": "2023-05-31T16:56:19.147840Z",
     "start_time": "2023-05-31T16:56:19.125763Z"
    },
    "hidden": true
   },
   "outputs": [],
   "source": [
    "dfTPA = pd.read_csv(r\"F:\\GIS\\PROJECTS\\ForestHealth_Intiative\\ThresholdUpdate\\AnalysisProduct\\StandDensity_TPA_Classified_30m_Tahoe.csv\")"
   ]
  },
  {
   "cell_type": "code",
   "execution_count": null,
   "metadata": {
    "ExecuteTime": {
     "end_time": "2023-05-31T16:56:25.435049Z",
     "start_time": "2023-05-31T16:56:25.394446Z"
    },
    "hidden": true
   },
   "outputs": [],
   "source": [
    "dfTPA"
   ]
  },
  {
   "cell_type": "markdown",
   "metadata": {
    "heading_collapsed": true
   },
   "source": [
    "## Large Tree Density"
   ]
  },
  {
   "cell_type": "markdown",
   "metadata": {
    "hidden": true
   },
   "source": [
    "### Methods\n",
    "* Extracted climate classes by contemporary reference sites to use as the zonal input to calculate 10th and 90th percentile of number of Trees Per Acre >30in DBH\n",
    "* Extract by mask Tahoe Climate Classes and Tahoe number of Trees Per Acre >30in DBH values\n",
    "* Classify new rasters of 10th and 90th percentile for Tahoe by climate class\n",
    "* Compare current Tahoe number of Trees Per Acre >30in DBH pixel values to 10th and 90th percentile climate class/reference site values and classify whether the pixel is below target (<10th percentile), at target (between 10th and 90th percentile, or above target (>90th percentile)"
   ]
  },
  {
   "cell_type": "code",
   "execution_count": null,
   "metadata": {
    "ExecuteTime": {
     "end_time": "2023-05-30T18:45:14.192442Z",
     "start_time": "2023-05-30T18:41:36.909876Z"
    },
    "hidden": true
   },
   "outputs": [],
   "source": [
    "# save integer version of large tree density and extract by mask to Tahoe\n",
    "Int(\n",
    "    in_raster_or_constant=\"F:\\\\GIS\\\\PROJECTS\\\\ForestHealth_Intiative\\\\ThresholdUpdate\\\\Data\\\\Download\\\\ACCEL\\\\DensityLargeTrees\\\\TPA_30in_up_2021_30m.tif\",\n",
    "    out_raster=\"LargeTreeDensity_TPA30inUp_ACCEL_30m_SierraNevada\"\n",
    ")\n",
    "# extract by mask to Tahoe extent\n",
    "out_raster = ExtractByMask(\n",
    "    in_raster=\"LargeTreeDensity_TPA30inUp_ACCEL_30m_SierraNevada\",\n",
    "    in_mask_data=r\"F:\\GIS\\DB_CONNECT\\Vector.sde\\sde.SDE.Jurisdictions\\sde.SDE.TRPA_bdy\",\n",
    "    extraction_area=\"INSIDE\",\n",
    "    analysis_extent='-214749.813147473 -338358.008101731 228897.27559438 457005.517540967 PROJCS[\"NAD_1983_California_Teale_Albers\",GEOGCS[\"GCS_North_American_1983\",DATUM[\"D_North_American_1983\",SPHEROID[\"GRS_1980\",6378137.0,298.257222101]],PRIMEM[\"Greenwich\",0.0],UNIT[\"Degree\",0.0174532925199433]],PROJECTION[\"Albers\"],PARAMETER[\"False_Easting\",0.0],PARAMETER[\"False_Northing\",-4000000.0],PARAMETER[\"Central_Meridian\",-120.0],PARAMETER[\"Standard_Parallel_1\",34.0],PARAMETER[\"Standard_Parallel_2\",40.5],PARAMETER[\"Latitude_Of_Origin\",0.0],UNIT[\"Meter\",1.0]]'\n",
    ")\n",
    "# save.\n",
    "out_raster.save(\"LargeTreeDensity_TPA30inUp_ACCEL_30m_Tahoe\")"
   ]
  },
  {
   "cell_type": "code",
   "execution_count": null,
   "metadata": {
    "ExecuteTime": {
     "end_time": "2023-05-31T03:18:32.110025Z",
     "start_time": "2023-05-31T03:07:58.767084Z"
    },
    "hidden": true
   },
   "outputs": [],
   "source": [
    "# input Tahoe ACCEL Climate Class Raster\n",
    "climateClass = \"ClimateClass_Tahoe\"\n",
    "\n",
    "# input zones\n",
    "zones        = \"ExtractByMask_ClimateClasses_ReferenceSites_ACCEL_30m_SierraNevada\"\n",
    "\n",
    "# output zonal stats table\n",
    "zonalStats   = \"ZonalStats_ReferenceSiteClimateClass_LargeTreeDensity_Percentile\"\n",
    "\n",
    "# out field names\n",
    "field10th    = 'LargeTreeDensity10thPercentile'\n",
    "field20th    = 'LargeTreeDensity20thPercentile'\n",
    "field80th    = 'LargeTreeDensity80thPercentile'\n",
    "field90th    = 'LargeTreeDensity90thPercentile'\n",
    "\n",
    "# name the output climate class/reference site metric stat rasters\n",
    "name10th     = os.path.join(workspace, f\"ClimateClassTahoe_{field10th}\")\n",
    "name20th     = os.path.join(workspace, f\"ClimateClassTahoe_{field20th}\")\n",
    "name80th     = os.path.join(workspace, f\"ClimateClassTahoe_{field80th}\")\n",
    "name90th     = os.path.join(workspace, f\"ClimateClassTahoe_{field90th}\")\n",
    "\n",
    "# lookup value category\n",
    "lookup_dict = {-1:\"Below Target\", 0:\"Target\", 1:\"Above Target\"}\n",
    "\n",
    "# declare rasters to use as inputs\n",
    "largetreeDensitySierra = Raster(\"LargeTreeDensity_TPA30inUp_ACCEL_30m_SierraNevada\")\n",
    "largetreeDensityTahoe  = Raster(\"LargeTreeDensity_TPA30inUp_ACCEL_30m_Tahoe\")\n",
    "\n",
    "# name output classified raster\n",
    "largetreeDensityName1090   = \"LargeTreeDensity_TPA_Classified_30m_Tahoe_1090\"\n",
    "\n",
    "# name output classified raster\n",
    "largetreeDensityName2080   = \"LargeTreeDensity_TPA_Classified_30m_Tahoe_2080\"\n",
    "\n",
    "# run zonal stats\n",
    "ZonalStatisticsAsTable(\n",
    "    in_zone_data=zones,\n",
    "    zone_field=\"Value\",\n",
    "    in_value_raster=largetreeDensitySierra,\n",
    "    out_table=zonalStats,\n",
    "    ignore_nodata=\"DATA\",\n",
    "    statistics_type=\"PERCENTILE\",\n",
    "    process_as_multidimensional=\"CURRENT_SLICE\",\n",
    "    percentile_values=[10, 20, 80, 90],\n",
    "    percentile_interpolation_type=\"AUTO_DETECT\",\n",
    "    circular_calculation=\"ARITHMETIC\",\n",
    "    circular_wrap_value=360\n",
    ")\n",
    "\n",
    "# delete field\n",
    "arcpy.DeleteField_management(climateClass, \n",
    "                             [field10th])\n",
    "\n",
    "# add field\n",
    "arcpy.management.AddField(climateClass, \n",
    "                          field10th, \n",
    "                          \"LONG\"\n",
    "                         )\n",
    "\n",
    "# delete field\n",
    "arcpy.DeleteField_management(climateClass, \n",
    "                             [field20th])\n",
    "\n",
    "# add field\n",
    "arcpy.management.AddField(climateClass, \n",
    "                          field20th, \n",
    "                          \"LONG\"\n",
    "                         )\n",
    "# delete field\n",
    "arcpy.DeleteField_management(climateClass, \n",
    "                             [field80th])\n",
    "\n",
    "# add field\n",
    "arcpy.management.AddField(climateClass, \n",
    "                          field80th, \n",
    "                          \"LONG\"\n",
    "                         )\n",
    "\n",
    "# delete field\n",
    "arcpy.DeleteField_management(climateClass, \n",
    "                             [field90th])\n",
    "\n",
    "# add field\n",
    "arcpy.management.AddField(climateClass, \n",
    "                          field90th, \n",
    "                          \"LONG\"\n",
    "                         )\n",
    "\n",
    "\n",
    "# add join to zonal stats table\n",
    "arcpy.management.AddJoin(\n",
    "    in_layer_or_view= climateClass,\n",
    "    in_field= \"Value\",\n",
    "    join_table= zonalStats,\n",
    "    join_field= \"Value\",\n",
    "    join_type= \"KEEP_ALL\",\n",
    "    index_join_fields=\"NO_INDEX_JOIN_FIELDS\"\n",
    ")\n",
    "\n",
    "# calc fields\n",
    "arcpy.management.CalculateField(\n",
    "    in_table=\"ClimateClass_Tahoe_Layer\",\n",
    "    field=f\"VAT_ClimateClass_Tahoe.{field10th}\",\n",
    "    expression=\"!ZonalStats_ReferenceSiteClimateClass_LargeTreeDensity_Percentile.PCT10!\",\n",
    "    expression_type=\"PYTHON3\",\n",
    "    code_block=\"\",\n",
    "    field_type=\"LONG\"\n",
    ")\n",
    "arcpy.management.CalculateField(\n",
    "    in_table=\"ClimateClass_Tahoe_Layer\",\n",
    "    field=f\"VAT_ClimateClass_Tahoe.{field20th}\",\n",
    "    expression=\"!ZonalStats_ReferenceSiteClimateClass_LargeTreeDensity_Percentile.PCT20!\",\n",
    "    expression_type=\"PYTHON3\",\n",
    "    code_block=\"\",\n",
    "    field_type=\"LONG\"\n",
    ")\n",
    "arcpy.management.CalculateField(\n",
    "    in_table=\"ClimateClass_Tahoe_Layer\",\n",
    "    field=f\"VAT_ClimateClass_Tahoe.{field80th}\",\n",
    "    expression=\"!ZonalStats_ReferenceSiteClimateClass_LargeTreeDensity_Percentile.PCT80!\",\n",
    "    expression_type=\"PYTHON3\",\n",
    "    code_block=\"\",\n",
    "    field_type=\"LONG\"\n",
    ")\n",
    "arcpy.management.CalculateField(\n",
    "    in_table=\"ClimateClass_Tahoe_Layer\",\n",
    "    field=f\"VAT_ClimateClass_Tahoe.{field90th}\",\n",
    "    expression=\"!ZonalStats_ReferenceSiteClimateClass_LargeTreeDensity_Percentile.PCT90!\",\n",
    "    expression_type=\"PYTHON3\",\n",
    "    code_block=\"\",\n",
    "    field_type=\"LONG\"\n",
    ")\n",
    "\n",
    "# remove the join\n",
    "arcpy.RemoveJoin_management(\"ClimateClass_Tahoe_Layer\", zonalStats)\n",
    "\n",
    "# save rasters for lookup\n",
    "Lookup(\n",
    "    in_raster=climateClass,\n",
    "    lookup_field=field10th,\n",
    "    out_raster=name10th\n",
    ")\n",
    "print(f\"Exported raster for {field10th} and saved it here {name10th}\")\n",
    "# \n",
    "Lookup(\n",
    "    in_raster=climateClass,\n",
    "    lookup_field=field20th,\n",
    "    out_raster=name20th\n",
    ")\n",
    "print(f\"Exported raster for {field20th} and saved it here {name20th}\")\n",
    "# \n",
    "Lookup(\n",
    "    in_raster=climateClass,\n",
    "    lookup_field=field80th,\n",
    "    out_raster=name80th\n",
    ")\n",
    "print(f\"Exported raster for {field80th} and saved it here {name80th}\")\n",
    "# \n",
    "Lookup(\n",
    "    in_raster=climateClass,\n",
    "    lookup_field=field90th,\n",
    "    out_raster=name90th\n",
    ")\n",
    "print(f\"Exported raster for {field90th} and saved it here {name90th}\")\n",
    "\n",
    "largetreeDensity10th   = Raster(name10th)\n",
    "largetreeDensity20th   = Raster(name20th)\n",
    "largetreeDensity80th   = Raster(name80th)\n",
    "largetreeDensity90th   = Raster(name90th)\n",
    "\n",
    "# Use the Con function to classify the raster based on reference condition range values\n",
    "# -1 represents less than 10th percentile, 1 is greater than 90th, 0 is target\n",
    "largetreeDensityClass1090 = Con(largetreeDensityTahoe < largetreeDensity10th, -1,\n",
    "                            Con(largetreeDensityTahoe > largetreeDensity90th, 1, 0))\n",
    "\n",
    "# Save the output raster to the geodatabase\n",
    "largetreeDensityClass1090.save(largetreeDensityName1090)\n",
    "print(f\"Exported raster: {largetreeDensityName1090}\")\n",
    "\n",
    "# build an attribute table\n",
    "arcpy.BuildRasterAttributeTable_management(largetreeDensityName1090, \"Overwrite\")\n",
    "# calc Acres field\n",
    "add_acres(largetreeDensityName1090)\n",
    "# add and calc category field\n",
    "add_category(largetreeDensityName1090, lookup_dict)\n",
    "\n",
    "\n",
    "# Use the Con function to classify the raster based on reference condition range values\n",
    "# -1 represents less than 10th percentile, 1 is greater than 90th, 0 is target\n",
    "largetreeDensityClass2080 = Con(largetreeDensityTahoe < largetreeDensity20th, -1,\n",
    "                            Con(largetreeDensityTahoe > largetreeDensity80th, 1, 0))\n",
    "\n",
    "# Save the output raster to the geodatabase\n",
    "largetreeDensityClass2080.save(largetreeDensityName2080)\n",
    "print(f\"Exported raster: {largetreeDensityName2080}\")\n",
    "\n",
    "# build an attribute table\n",
    "arcpy.BuildRasterAttributeTable_management(largetreeDensityName2080, \"Overwrite\")\n",
    "# calc Acres field\n",
    "add_acres(largetreeDensityName2080)\n",
    "# add and calc category field\n",
    "add_category(largetreeDensityName2080, lookup_dict)"
   ]
  },
  {
   "cell_type": "code",
   "execution_count": null,
   "metadata": {
    "ExecuteTime": {
     "end_time": "2023-05-31T04:05:20.809620Z",
     "start_time": "2023-05-31T04:05:06.348157Z"
    },
    "hidden": true
   },
   "outputs": [],
   "source": [
    "arcpy.conversion.ExportTable(\n",
    "    in_table=\"LargeTreeDensity_TPA_Classified_30m_Tahoe_1090\",\n",
    "    out_table=r\"F:\\GIS\\PROJECTS\\ForestHealth_Intiative\\ThresholdUpdate\\AnalysisProduct\\LargeTreeDensity_Class_10th90thPercentile.csv\",\n",
    ")\n",
    "arcpy.conversion.ExportTable(\n",
    "    in_table=\"LargeTreeDensity_TPA_Classified_30m_Tahoe_2080\",\n",
    "    out_table=r\"F:\\GIS\\PROJECTS\\ForestHealth_Intiative\\ThresholdUpdate\\AnalysisProduct\\LargeTreeDensity_Class_20th80thPercentile.csv\",\n",
    ")"
   ]
  },
  {
   "cell_type": "code",
   "execution_count": null,
   "metadata": {
    "ExecuteTime": {
     "end_time": "2023-05-31T04:08:43.137267Z",
     "start_time": "2023-05-31T04:08:43.114483Z"
    },
    "hidden": true
   },
   "outputs": [],
   "source": [
    "df10th90th = pd.read_csv(r\"F:\\GIS\\PROJECTS\\ForestHealth_Intiative\\ThresholdUpdate\\AnalysisProduct\\LargeTreeDensity_Class_10th90thPercentile.csv\")\n",
    "df20th80th = pd.read_csv(r\"F:\\GIS\\PROJECTS\\ForestHealth_Intiative\\ThresholdUpdate\\AnalysisProduct\\LargeTreeDensity_Class_20th80thPercentile.csv\")"
   ]
  },
  {
   "cell_type": "code",
   "execution_count": null,
   "metadata": {
    "ExecuteTime": {
     "end_time": "2023-05-31T04:08:52.603666Z",
     "start_time": "2023-05-31T04:08:52.571720Z"
    },
    "hidden": true
   },
   "outputs": [],
   "source": [
    "df20th80th"
   ]
  },
  {
   "cell_type": "code",
   "execution_count": null,
   "metadata": {
    "ExecuteTime": {
     "end_time": "2023-05-31T04:09:16.439000Z",
     "start_time": "2023-05-31T04:09:15.983188Z"
    },
    "hidden": true
   },
   "outputs": [],
   "source": [
    "df10th90th"
   ]
  },
  {
   "cell_type": "markdown",
   "metadata": {
    "heading_collapsed": true
   },
   "source": [
    "## Horizontal Heterogeneity"
   ]
  },
  {
   "cell_type": "code",
   "execution_count": null,
   "metadata": {
    "ExecuteTime": {
     "end_time": "2023-05-31T04:54:39.965234Z",
     "start_time": "2023-05-31T04:50:23.686278Z"
    },
    "hidden": true
   },
   "outputs": [],
   "source": [
    "# save integer version of large tree density and extract by mask to Tahoe\n",
    "Float(\n",
    "    in_raster_or_constant=\"F:\\\\GIS\\\\PROJECTS\\\\ForestHealth_Intiative\\\\ThresholdUpdate\\\\Data\\\\Download\\\\ACCEL\\\\FSHFineScaleHeterogeneityIndex\\\\fractal_dim_spring_2020_30m.tif\",\n",
    "    out_raster=\"HorizontalHeterogeneity_FractalIndex_ACCEL_30m_SierraNevada\"\n",
    ")\n",
    "# extract by mask to Tahoe extent\n",
    "out_raster = ExtractByMask(\n",
    "    in_raster=\"HorizontalHeterogeneity_FractalIndex_ACCEL_30m_SierraNevada\",\n",
    "    in_mask_data=r\"F:\\GIS\\DB_CONNECT\\Vector.sde\\sde.SDE.Jurisdictions\\sde.SDE.TRPA_bdy\",\n",
    "    extraction_area=\"INSIDE\",\n",
    "    analysis_extent='-214749.813147473 -338358.008101731 228897.27559438 457005.517540967 PROJCS[\"NAD_1983_California_Teale_Albers\",GEOGCS[\"GCS_North_American_1983\",DATUM[\"D_North_American_1983\",SPHEROID[\"GRS_1980\",6378137.0,298.257222101]],PRIMEM[\"Greenwich\",0.0],UNIT[\"Degree\",0.0174532925199433]],PROJECTION[\"Albers\"],PARAMETER[\"False_Easting\",0.0],PARAMETER[\"False_Northing\",-4000000.0],PARAMETER[\"Central_Meridian\",-120.0],PARAMETER[\"Standard_Parallel_1\",34.0],PARAMETER[\"Standard_Parallel_2\",40.5],PARAMETER[\"Latitude_Of_Origin\",0.0],UNIT[\"Meter\",1.0]]'\n",
    ")\n",
    "# save.\n",
    "out_raster.save(\"HorizontalHeterogeneity_FractalIndex_ACCEL_30m_Tahoe\")"
   ]
  },
  {
   "cell_type": "code",
   "execution_count": null,
   "metadata": {
    "ExecuteTime": {
     "end_time": "2023-05-31T05:04:10.309481Z",
     "start_time": "2023-05-31T04:55:35.246946Z"
    },
    "hidden": true
   },
   "outputs": [],
   "source": [
    "# input Tahoe ACCEL Climate Class Raster\n",
    "climateClass = \"ClimateClass_Tahoe\"\n",
    "\n",
    "# input zones\n",
    "zones        = \"ExtractByMask_ClimateClasses_ReferenceSites_ACCEL_30m_SierraNevada\"\n",
    "\n",
    "# output zonal stats table\n",
    "zonalStats   = \"ZonalStats_ReferenceSiteClimateClass_FractalIndex_Percentile\"\n",
    "\n",
    "# out field names\n",
    "field10th    = 'FractalIndex10thPercentile'\n",
    "field20th    = 'FractalIndex20thPercentile'\n",
    "field80th    = 'FractalIndex80thPercentile'\n",
    "field90th    = 'FractalIndex90thPercentile'\n",
    "\n",
    "# name the output climate class/reference site metric stat rasters\n",
    "name10th     = os.path.join(workspace, f\"ClimateClassTahoe_{field10th}\")\n",
    "name20th     = os.path.join(workspace, f\"ClimateClassTahoe_{field20th}\")\n",
    "name80th     = os.path.join(workspace, f\"ClimateClassTahoe_{field80th}\")\n",
    "name90th     = os.path.join(workspace, f\"ClimateClassTahoe_{field90th}\")\n",
    "\n",
    "# lookup value category\n",
    "lookup_dict = {-1:\"Below Target\", 0:\"Target\", 1:\"Above Target\"}\n",
    "\n",
    "# declare rasters to use as inputs\n",
    "fractalIndexSierra = Raster(\"HorizontalHeterogeneity_FractalIndex_ACCEL_30m_SierraNevada\")\n",
    "fractalIndexTahoe  = Raster(\"HorizontalHeterogeneity_FractalIndex_ACCEL_30m_Tahoe\")\n",
    "\n",
    "# name output classified raster\n",
    "fractalIndexName1090   = \"FractalIndex_Classified_Tahoe_1090\"\n",
    "\n",
    "# name output classified raster\n",
    "fractalIndexName2080   = \"FractalIndex_Classified_Tahoe_2080\"\n",
    "\n",
    "# run zonal stats\n",
    "ZonalStatisticsAsTable(\n",
    "    in_zone_data=zones,\n",
    "    zone_field=\"Value\",\n",
    "    in_value_raster=fractalIndexSierra,\n",
    "    out_table=zonalStats,\n",
    "    ignore_nodata=\"DATA\",\n",
    "    statistics_type=\"PERCENTILE\",\n",
    "    process_as_multidimensional=\"CURRENT_SLICE\",\n",
    "    percentile_values=[10, 20, 80, 90],\n",
    "    percentile_interpolation_type=\"AUTO_DETECT\",\n",
    "    circular_calculation=\"ARITHMETIC\",\n",
    "    circular_wrap_value=360\n",
    ")\n",
    "\n",
    "# delete field\n",
    "arcpy.DeleteField_management(climateClass, \n",
    "                             [field10th])\n",
    "\n",
    "# add field\n",
    "arcpy.management.AddField(climateClass, \n",
    "                          field10th, \n",
    "                          \"DOUBLE\"\n",
    "                         )\n",
    "\n",
    "# delete field\n",
    "arcpy.DeleteField_management(climateClass, \n",
    "                             [field20th])\n",
    "\n",
    "# add field\n",
    "arcpy.management.AddField(climateClass, \n",
    "                          field20th, \n",
    "                          \"DOUBLE\"\n",
    "                         )\n",
    "# delete field\n",
    "arcpy.DeleteField_management(climateClass, \n",
    "                             [field80th])\n",
    "\n",
    "# add field\n",
    "arcpy.management.AddField(climateClass, \n",
    "                          field80th, \n",
    "                          \"DOUBLE\"\n",
    "                         )\n",
    "\n",
    "# delete field\n",
    "arcpy.DeleteField_management(climateClass, \n",
    "                             [field90th])\n",
    "\n",
    "# add field\n",
    "arcpy.management.AddField(climateClass, \n",
    "                          field90th, \n",
    "                          \"DOUBLE\"\n",
    "                         )\n",
    "\n",
    "\n",
    "# add join to zonal stats table\n",
    "arcpy.management.AddJoin(\n",
    "    in_layer_or_view= climateClass,\n",
    "    in_field= \"Value\",\n",
    "    join_table= zonalStats,\n",
    "    join_field= \"Value\",\n",
    "    join_type= \"KEEP_ALL\",\n",
    "    index_join_fields=\"NO_INDEX_JOIN_FIELDS\"\n",
    ")\n",
    "\n",
    "# calc fields\n",
    "arcpy.management.CalculateField(\n",
    "    in_table=\"ClimateClass_Tahoe_Layer\",\n",
    "    field=f\"VAT_ClimateClass_Tahoe.{field10th}\",\n",
    "    expression=\"!ZonalStats_ReferenceSiteClimateClass_FractalIndex_Percentile.PCT10!\",\n",
    "    expression_type=\"PYTHON3\",\n",
    "    code_block=\"\",\n",
    "    field_type=\"DOUBLE\"\n",
    ")\n",
    "arcpy.management.CalculateField(\n",
    "    in_table=\"ClimateClass_Tahoe_Layer\",\n",
    "    field=f\"VAT_ClimateClass_Tahoe.{field20th}\",\n",
    "    expression=\"!ZonalStats_ReferenceSiteClimateClass_FractalIndex_Percentile.PCT20!\",\n",
    "    expression_type=\"PYTHON3\",\n",
    "    code_block=\"\",\n",
    "    field_type=\"DOUBLE\"\n",
    ")\n",
    "arcpy.management.CalculateField(\n",
    "    in_table=\"ClimateClass_Tahoe_Layer\",\n",
    "    field=f\"VAT_ClimateClass_Tahoe.{field80th}\",\n",
    "    expression=\"!ZonalStats_ReferenceSiteClimateClass_FractalIndex_Percentile.PCT80!\",\n",
    "    expression_type=\"PYTHON3\",\n",
    "    code_block=\"\",\n",
    "    field_type=\"DOUBLE\"\n",
    ")\n",
    "arcpy.management.CalculateField(\n",
    "    in_table=\"ClimateClass_Tahoe_Layer\",\n",
    "    field=f\"VAT_ClimateClass_Tahoe.{field90th}\",\n",
    "    expression=\"!ZonalStats_ReferenceSiteClimateClass_FractalIndex_Percentile.PCT90!\",\n",
    "    expression_type=\"PYTHON3\",\n",
    "    code_block=\"\",\n",
    "    field_type=\"DOUBLE\"\n",
    ")\n",
    "\n",
    "# remove the join\n",
    "arcpy.RemoveJoin_management(\"ClimateClass_Tahoe_Layer\", zonalStats)\n",
    "\n",
    "# save rasters for lookup\n",
    "Lookup(\n",
    "    in_raster=climateClass,\n",
    "    lookup_field=field10th,\n",
    "    out_raster=name10th\n",
    ")\n",
    "print(f\"Exported raster for {field10th} and saved it here {name10th}\")\n",
    "# \n",
    "Lookup(\n",
    "    in_raster=climateClass,\n",
    "    lookup_field=field20th,\n",
    "    out_raster=name20th\n",
    ")\n",
    "print(f\"Exported raster for {field20th} and saved it here {name20th}\")\n",
    "# \n",
    "Lookup(\n",
    "    in_raster=climateClass,\n",
    "    lookup_field=field80th,\n",
    "    out_raster=name80th\n",
    ")\n",
    "print(f\"Exported raster for {field80th} and saved it here {name80th}\")\n",
    "# \n",
    "Lookup(\n",
    "    in_raster=climateClass,\n",
    "    lookup_field=field90th,\n",
    "    out_raster=name90th\n",
    ")\n",
    "print(f\"Exported raster for {field90th} and saved it here {name90th}\")\n",
    "\n",
    "fractalIndex10th   = Raster(name10th)\n",
    "fractalIndex20th   = Raster(name20th)\n",
    "fractalIndex80th   = Raster(name80th)\n",
    "fractalIndex90th   = Raster(name90th)\n",
    "\n",
    "# Use the Con function to classify the raster based on reference condition range values\n",
    "# -1 represents less than 10th percentile, 1 is greater than 90th, 0 is target\n",
    "fractalIndexClass1090 = Con(fractalIndexTahoe < fractalIndex10th, -1,\n",
    "                            Con(fractalIndexTahoe > fractalIndex90th, 1, 0))\n",
    "\n",
    "# Save the output raster to the geodatabase\n",
    "fractalIndexClass1090.save(fractalIndexName1090)\n",
    "print(f\"Exported raster: {largetreeDensityName1090}\")\n",
    "\n",
    "# build an attribute table\n",
    "arcpy.BuildRasterAttributeTable_management(fractalIndexName1090, \"Overwrite\")\n",
    "# calc Acres field\n",
    "add_acres(fractalIndexName1090)\n",
    "# add and calc category field\n",
    "add_category(fractalIndexName1090, lookup_dict)\n",
    "\n",
    "\n",
    "# Use the Con function to classify the raster based on reference condition range values\n",
    "# -1 represents less than 10th percentile, 1 is greater than 90th, 0 is target\n",
    "fractalIndexClass2080 = Con(fractalIndexTahoe < fractalIndex20th, -1,\n",
    "                            Con(fractalIndexTahoe > fractalIndex80th, 1, 0))\n",
    "\n",
    "# Save the output raster to the geodatabase\n",
    "fractalIndexClass2080.save(fractalIndexName2080)\n",
    "print(f\"Exported raster: {fractalIndexName2080}\")\n",
    "\n",
    "# build an attribute table\n",
    "arcpy.BuildRasterAttributeTable_management(fractalIndexName2080, \"Overwrite\")\n",
    "# calc Acres field\n",
    "add_acres(fractalIndexName2080)\n",
    "# add and calc category field\n",
    "add_category(fractalIndexName2080, lookup_dict)"
   ]
  },
  {
   "cell_type": "code",
   "execution_count": null,
   "metadata": {
    "ExecuteTime": {
     "end_time": "2023-05-31T05:04:48.155820Z",
     "start_time": "2023-05-31T05:04:22.460703Z"
    },
    "hidden": true
   },
   "outputs": [],
   "source": [
    "arcpy.conversion.ExportTable(\n",
    "    in_table=\"FractalIndex_Classified_Tahoe_1090\",\n",
    "    out_table=r\"F:\\GIS\\PROJECTS\\ForestHealth_Intiative\\ThresholdUpdate\\AnalysisProduct\\FractalIndex_Class_10th90thPercentile.csv\",\n",
    ")\n",
    "arcpy.conversion.ExportTable(\n",
    "    in_table=\"FractalIndex_Classified_Tahoe_2080\",\n",
    "    out_table=r\"F:\\GIS\\PROJECTS\\ForestHealth_Intiative\\ThresholdUpdate\\AnalysisProduct\\FractalIndex_Class_20th80thPercentile.csv\",\n",
    ")"
   ]
  },
  {
   "cell_type": "code",
   "execution_count": null,
   "metadata": {
    "ExecuteTime": {
     "end_time": "2023-05-31T05:04:48.625394Z",
     "start_time": "2023-05-31T05:04:48.156623Z"
    },
    "hidden": true
   },
   "outputs": [],
   "source": [
    "df1090 = pd.read_csv(\"F:\\GIS\\PROJECTS\\ForestHealth_Intiative\\ThresholdUpdate\\AnalysisProduct\\FractalIndex_Class_10th90thPercentile.csv\")\n",
    "df2080 = pd.read_csv(\"F:\\GIS\\PROJECTS\\ForestHealth_Intiative\\ThresholdUpdate\\AnalysisProduct\\FractalIndex_Class_20th80thPercentile.csv\")"
   ]
  },
  {
   "cell_type": "code",
   "execution_count": null,
   "metadata": {
    "ExecuteTime": {
     "end_time": "2023-05-31T05:04:49.211180Z",
     "start_time": "2023-05-31T05:04:48.626200Z"
    },
    "hidden": true
   },
   "outputs": [],
   "source": [
    "df1090"
   ]
  },
  {
   "cell_type": "code",
   "execution_count": null,
   "metadata": {
    "ExecuteTime": {
     "end_time": "2023-05-31T05:04:49.445458Z",
     "start_time": "2023-05-31T05:04:49.22928Z"
    },
    "hidden": true
   },
   "outputs": [],
   "source": [
    "df2080"
   ]
  },
  {
   "cell_type": "markdown",
   "metadata": {
    "heading_collapsed": true
   },
   "source": [
    "## Seral Stage + Canopy Cover"
   ]
  },
  {
   "cell_type": "code",
   "execution_count": null,
   "metadata": {
    "hidden": true
   },
   "outputs": [],
   "source": []
  },
  {
   "cell_type": "code",
   "execution_count": null,
   "metadata": {
    "ExecuteTime": {
     "end_time": "2023-05-11T16:58:35.689822Z",
     "start_time": "2023-05-11T16:57:50.476376Z"
    },
    "hidden": true
   },
   "outputs": [],
   "source": [
    "Seral            = \"SeralStage_EML_2021_ACCEL_30m_Tahoe\"\n",
    "Canopy           = \"SeralStage_CPYCOVR_2021_ACCEL_30m_Tahoe\"\n",
    "\n",
    "# Set output raster\n",
    "output_raster40 = \"CanopyClass_40prcnt_30m_Tahoe\"\n",
    "\n",
    "# Use the Con function to set the output values 1=Early Seral Open, etc..\n",
    "SeralCanopy40 =         Con(((Raster(Seral) == 1) & (Raster(Canopy) <40)),1, \n",
    "                        Con(((Raster(Seral) == 1) & (Raster(Canopy)>=40)),2,\n",
    "                        Con(((Raster(Seral) == 2) & (Raster(Canopy) <40)),3, \n",
    "                        Con(((Raster(Seral) == 2) & (Raster(Canopy)>=40)),4,\n",
    "                        Con(((Raster(Seral) == 3) & (Raster(Canopy) <40)),5, \n",
    "                        Con(((Raster(Seral) == 3) & (Raster(Canopy)>=40)),6))))))\n",
    "\n",
    "# Save the output raster to the geodatabase\n",
    "SeralCanopy40.save(output_raster40)\n",
    "\n",
    "# Set output raster\n",
    "output_raster60 = \"CanopyClass_60prcnt_30m_Tahoe\"\n",
    "\n",
    "# Use the Con function to set the output values \n",
    "SeralCanopy60 =         Con(((Raster(Seral) == 1) & (Raster(Canopy) <60)),1, \n",
    "                        Con(((Raster(Seral) == 1) & (Raster(Canopy)>=60)),2,\n",
    "                        Con(((Raster(Seral) == 2) & (Raster(Canopy) <60)),3, \n",
    "                        Con(((Raster(Seral) == 2) & (Raster(Canopy)>=60)),4,\n",
    "                        Con(((Raster(Seral) == 3) & (Raster(Canopy) <60)),5, \n",
    "                        Con(((Raster(Seral) == 3) & (Raster(Canopy)>=60)),6))))))\n",
    "\n",
    "# Save the output raster to the geodatabase\n",
    "SeralCanopy60.save(output_raster60)"
   ]
  },
  {
   "cell_type": "code",
   "execution_count": null,
   "metadata": {
    "ExecuteTime": {
     "end_time": "2023-05-11T16:59:17.246148Z",
     "start_time": "2023-05-11T16:58:35.691064Z"
    },
    "hidden": true
   },
   "outputs": [],
   "source": []
  },
  {
   "cell_type": "markdown",
   "metadata": {},
   "source": [
    "## Functional Fire"
   ]
  },
  {
   "cell_type": "code",
   "execution_count": null,
   "metadata": {},
   "outputs": [],
   "source": []
  },
  {
   "cell_type": "code",
   "execution_count": null,
   "metadata": {},
   "outputs": [],
   "source": [
    "# Reclassify based on 60% cutoff\n",
    "outReclass = Reclassify(\"FunctionalFire_ProbHighSeverity_2022_ACCEL_30m_Tahoe\", \"Value\", \n",
    "                        RemapRange([[0,0.6,0],[0.6,1,1]])) \n",
    "# save raster\n",
    "outReclass.save(\"FunctionalFire_Reclass_High_60thPercentile\")"
   ]
  },
  {
   "cell_type": "code",
   "execution_count": null,
   "metadata": {
    "ExecuteTime": {
     "end_time": "2023-05-30T05:07:33.742882Z",
     "start_time": "2023-05-30T05:07:28.721Z"
    }
   },
   "outputs": [],
   "source": [
    "# reclassify based on 60 percent cutoff\n",
    "outReclass = Reclassify(\"FunctionalFire_ProbLowSeverity_2022_ACCEL_30m_Tahoe\", \"Value\", \n",
    "                        RemapRange([[0,0.6,0],[0.6,1,1]])) \n",
    "# save raster\n",
    "outReclass.save(\"FunctionalFire_Reclass_Low_60thPercentile\")"
   ]
  },
  {
   "cell_type": "code",
   "execution_count": null,
   "metadata": {
    "scrolled": true
   },
   "outputs": [],
   "source": [
    "attribute_tables=[\"FunctionalFire_Reclass_Low_60thPercentile\", \"FunctionalFire_Reclass_High_60thPercentile\", \"heterogeneity_category_fractal\", \"heterogeneity_category_canopycover\"]  \n",
    "lookup_Values - {-1:\"Lower\", 0:\"Target\", 1:\"Higher\"}\n",
    "\n",
    "for attribute_table in attribute_tables:\n",
    "    add_acres(attribute_table)\n",
    "    add_category(attribute_table, lookup_values)\n",
    "    "
   ]
  }
 ],
 "metadata": {
  "kernelspec": {
   "display_name": "arcgispro-py3",
   "language": "python",
   "name": "python3"
  },
  "language_info": {
   "codemirror_mode": {
    "name": "ipython",
    "version": 3
   },
   "file_extension": ".py",
   "mimetype": "text/x-python",
   "name": "python",
   "nbconvert_exporter": "python",
   "pygments_lexer": "ipython3",
   "version": "3.11.10"
  },
  "toc": {
   "base_numbering": 1,
   "nav_menu": {},
   "number_sections": true,
   "sideBar": true,
   "skip_h1_title": false,
   "title_cell": "Table of Contents",
   "title_sidebar": "Contents",
   "toc_cell": false,
   "toc_position": {},
   "toc_section_display": true,
   "toc_window_display": false
  }
 },
 "nbformat": 4,
 "nbformat_minor": 4
}
