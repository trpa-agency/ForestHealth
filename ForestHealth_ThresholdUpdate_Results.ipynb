{
 "cells": [
  {
   "cell_type": "markdown",
   "id": "1a00e503",
   "metadata": {},
   "source": [
    "## Forest Health Threshold Update - Results"
   ]
  },
  {
   "cell_type": "markdown",
   "id": "3d9d2483",
   "metadata": {
    "heading_collapsed": true
   },
   "source": [
    "### Setup"
   ]
  },
  {
   "cell_type": "code",
   "execution_count": null,
   "id": "4b9f2f3d",
   "metadata": {
    "ExecuteTime": {
     "end_time": "2023-06-01T20:57:05.600866Z",
     "start_time": "2023-06-01T20:57:04.730789Z"
    },
    "hidden": true
   },
   "outputs": [],
   "source": [
    "# import packages\n",
    "import arcpy\n",
    "import pandas as pd\n",
    "from pathlib import Path\n",
    "from utils import *\n",
    "import plotly.express as px\n",
    "import plotly.graph_objects as go\n",
    "from arcgis import GeoAccessor, GeoSeriesAccessor\n",
    "import pickle\n",
    "\n",
    "# setup workspace variables\n",
    "arcpy.env.workspace = r\"F:\\\\GIS\\\\PROJECTS\\\\ForestHealth_Intiative\\\\ThresholdUpdate\\\\Data\\\\ForestHealth_ThresholdUpdate.gdb\"\n",
    "arcpy.env.overwriteOutput = True\n",
    "\n",
    "#format paths\n",
    "sdeBase   = Path(\"F:\\GIS\\DB_CONNECT\\Vector.sde\")\n",
    "workspace = Path(\"F:\\GIS\\PROJECTS\\ForestHealth_Intiative\\ThresholdUpdate\\Data\\ForestHealth_ThresholdUpdate.gdb\")\n",
    "downloads = Path(\"F:\\GIS\\PROJECTS\\ForestHealth_Intiative\\ThresholdUpdate\\Data\\Download\\SNV_RRK\")\n",
    "output    = Path(\"F:\\GIS\\PROJECTS\\ForestHealth_Intiative\\ThresholdUpdate\\AnalysisProduct\")\n",
    "\n",
    "# set style variables\n",
    "template = 'plotly_white'\n",
    "font     = 'Calibri'\n",
    "# colors for tables\n",
    "headerColor = '#6680a8'\n",
    "rowColor = 'white'\n",
    "lastrowColor = '#eeeeee'"
   ]
  },
  {
   "cell_type": "code",
   "execution_count": null,
   "id": "bc447409",
   "metadata": {},
   "outputs": [],
   "source": [
    "# list datasets in workspace\n",
    "feature_data = arcpy.ListFeatureClasses()\n",
    "raster_data  = arcpy.ListRasters()\n",
    "table_data   = arcpy.ListTables()\n",
    "# print feature classes, then rasters, then tables\n",
    "print(\"Feature Classes:\")\n",
    "for fc in feature_data:\n",
    "    print(fc)\n",
    "print(\"\\nRasters:\")\n",
    "for raster in raster_data:\n",
    "    print(raster)\n",
    "print(\"\\nTables:\")\n",
    "for table in table_data:\n",
    "    print(table)"
   ]
  },
  {
   "cell_type": "markdown",
   "id": "611a6250",
   "metadata": {
    "heading_collapsed": true
   },
   "source": [
    "## Stand Density"
   ]
  },
  {
   "cell_type": "markdown",
   "id": "b43c6600",
   "metadata": {},
   "source": [
    "##### Stand Density Results - SNRRK"
   ]
  },
  {
   "cell_type": "code",
   "execution_count": null,
   "id": "97e77d17",
   "metadata": {},
   "outputs": [],
   "source": [
    "raster_path = \"StandDensity_VegType_Combined\"\n",
    "# Describe the raster and get the attribute table\n",
    "fields = [f.name for f in arcpy.ListFields(raster_path)]\n",
    "rows = arcpy.da.SearchCursor(raster_path, fields)\n",
    "\n",
    "# Build DataFrame\n",
    "data = [list(row) for row in rows]\n",
    "df = pd.DataFrame(data, columns=fields)\n",
    "\n",
    "# Apply the classification function to each ro\n",
    "df[\"TargetStatus\"] = df.apply(classify_snrrk_tpa, axis=1)\n",
    "#group by target status and acres\n",
    "df_grouped = df.groupby(\"TargetStatus\")[\"Acres\"].sum().reset_index()\n",
    "# calculate percentage of acres in each target status\n",
    "df_grouped[\"Percentage\"] = (df_grouped[\"Acres\"] / df_grouped[\"Acres\"].sum()) * 100\n",
    "# drop the Unknown category\n",
    "df_grouped = df_grouped[df_grouped[\"TargetStatus\"] != \"Unknown\"]\n",
    "# format the percentage column\n",
    "df_grouped[\"Percentage\"] = df_grouped[\"Percentage\"].round(1)\n",
    "\n",
    "# get copy for chart\n",
    "df = df_grouped.copy()\n",
    "# bar chart of target status by acres\n",
    "fig = px.bar(df, x=\"TargetStatus\", y=\"Acres\", \n",
    "            text=df['Percentage'].astype(str) + '%',\n",
    "            title=\"Stand Density\",\n",
    "            color_discrete_sequence=[\"#ABCD66\", \"#728944\"],\n",
    "            custom_data=[\"TargetStatus\"]\n",
    "            )\n",
    "fig.update_traces(marker_line_color='rgb(8,48,107)',\n",
    "                    marker_line_width=0.1, opacity=0.9,\n",
    "                    textfont_size=14, textposition=\"inside\",\n",
    "                    hovertemplate=\"<br>\".join(\n",
    "                        [\"<b>%{y:,.0f} acres</b> of the forested area are\", \n",
    "                            \"<i>%{customdata[0]}</i> for resilience\"]\n",
    "                    )\n",
    "                    + \"<extra></extra>\",\n",
    "            )\n",
    "fig.update_layout(title_x=0.5, title_font_size=20,\n",
    "                    uniformtext_minsize=8, uniformtext_mode='hide',\n",
    "                    title_font_color='#6680a8',\n",
    "                    xaxis_title=\"Stand Density - SNRRK\",\n",
    "                    yaxis_title=\"Acres\",\n",
    "                    hovermode=\"x unified\",\n",
    "                    template=template,\n",
    "                    legend=dict(title_text='',\n",
    "                                orientation=\"h\",\n",
    "                                yanchor=\"bottom\",\n",
    "                                y=1.02,\n",
    "                                xanchor=\"right\",\n",
    "                                x=1),\n",
    "                    legend_title_text='',\n",
    "                    font_family=font,\n",
    "                    font_color='#6680a8',\n",
    "                    plot_bgcolor='white',\n",
    "                    showlegend=True\n",
    "                        )\n",
    "# no legendd\n",
    "fig.update_traces(showlegend=False)\n",
    "fig.show()\n",
    "# save to HTML\n",
    "fig.write_html(config = {\"displayModeBar\": False},\n",
    "               file=\"DataVisualizations/StandDensity_Chart_SNRRK.html\", \n",
    "               full_html= False, \n",
    "               include_plotlyjs='cdn')"
   ]
  },
  {
   "cell_type": "markdown",
   "id": "5fcea2ef",
   "metadata": {
    "heading_collapsed": true
   },
   "source": [
    "## Seral Stage"
   ]
  },
  {
   "cell_type": "code",
   "execution_count": null,
   "id": "e188ceaf",
   "metadata": {},
   "outputs": [],
   "source": [
    "# stacked bar chart of seral stage by canopy cover class\n",
    "df = dfSeralCanopy60_Tahoe.copy()\n",
    "\n",
    "# classify seral stage by category Early Seral Opne - Early Seral, etch\n",
    "df['SeralStage'] = df['Category'].replace(\n",
    "    {'Early Seral Open':'Early Seral',\n",
    "        'Early Seral Closed':'Early Seral',\n",
    "        'Mid Seral Open':'Mid Seral',\n",
    "        'Mid Seral Closed':'Mid Seral',\n",
    "        'Late Seral Open':'Late Seral',\n",
    "        'Late Seral Closed':'Late Seral'\n",
    "    }\n",
    ")\n",
    "\n",
    "## get the percentage of acres in each category\n",
    "df['Percentage'] = ((df['Acres'] / df['Acres'].sum()) * 100).round(1)\n",
    "\n",
    "fig = px.bar(df, x=\"SeralStage\", y=\"Acres\", \n",
    "            color=\"Category\",\n",
    "            text=df['Percentage'].astype(str) + '%',\n",
    "            title=\"Composition & Age\",\n",
    "            color_discrete_sequence=[\"#ABCD66\", \"#728944\"],\n",
    "            custom_data=[\"Category\"],\n",
    "            )\n",
    "fig.update_traces(marker_line_color='rgb(8,48,107)',\n",
    "                    marker_line_width=0.1, opacity=0.9,\n",
    "                    textfont_size=14, textposition=\"inside\",\n",
    "                    hovertemplate=\"<br>\".join(\n",
    "                        [\"<b>%{y:,.0f}</b> acres of the forested area is\", \n",
    "                            \"in class <i>%{customdata[0]}</i>\"]\n",
    "                    )\n",
    "                    + \"<extra></extra>\",\n",
    "            )\n",
    "fig.update_layout(title_x=0.5, title_font_size=20,\n",
    "                    uniformtext_minsize=8, uniformtext_mode='hide',\n",
    "                    title_font_color='#6680a8',\n",
    "                    xaxis_title=\"Seral Stage\",\n",
    "                    yaxis_title=\"Acres\",\n",
    "                    hovermode=\"x unified\",\n",
    "                    template=template,\n",
    "                    legend=dict(title_text='',\n",
    "                                orientation=\"h\",\n",
    "                                yanchor=\"bottom\",\n",
    "                                y=1.02,\n",
    "                                xanchor=\"right\",\n",
    "                                x=1),\n",
    "                    legend_title_text='',\n",
    "                    font_family=font,\n",
    "                    font_color='#6680a8',\n",
    "                    plot_bgcolor='white',\n",
    "                    showlegend=True\n",
    "                        )\n",
    "# no legendd\n",
    "fig.update_traces(showlegend=False)\n",
    "fig.show()\n",
    "# save to HTML\n",
    "fig.write_html(config = {\"displayModeBar\": False},\n",
    "               file=\"DataVisualizations/CompositionAge_Chart_SNRRK.html\", \n",
    "               full_html= False, \n",
    "               include_plotlyjs='cdn')"
   ]
  },
  {
   "cell_type": "markdown",
   "id": "16babb88",
   "metadata": {
    "heading_collapsed": true
   },
   "source": [
    "## Functional Fire"
   ]
  },
  {
   "cell_type": "code",
   "execution_count": 1,
   "id": "ca652920",
   "metadata": {},
   "outputs": [
    {
     "ename": "NameError",
     "evalue": "name 'pd' is not defined",
     "output_type": "error",
     "traceback": [
      "\u001b[1;31m---------------------------------------------------------------------------\u001b[0m",
      "\u001b[1;31mNameError\u001b[0m                                 Traceback (most recent call last)",
      "Cell \u001b[1;32mIn[1], line 2\u001b[0m\n\u001b[0;32m      1\u001b[0m \u001b[38;5;66;03m# get data frame from feature class\u001b[39;00m\n\u001b[1;32m----> 2\u001b[0m df_fire \u001b[38;5;241m=\u001b[39m pd\u001b[38;5;241m.\u001b[39mDataFrame\u001b[38;5;241m.\u001b[39mspatial\u001b[38;5;241m.\u001b[39mfrom_featureclass(\u001b[38;5;124m\"\u001b[39m\u001b[38;5;124mID_MGMTzones_FunctionalFire_DominantClass_Tahoe_SNVRRK\u001b[39m\u001b[38;5;124m\"\u001b[39m)\n\u001b[0;32m      4\u001b[0m df_fire[\u001b[38;5;124m'\u001b[39m\u001b[38;5;124mName\u001b[39m\u001b[38;5;124m'\u001b[39m] \u001b[38;5;241m=\u001b[39m df_fire[\u001b[38;5;124m'\u001b[39m\u001b[38;5;124mName\u001b[39m\u001b[38;5;124m'\u001b[39m]\u001b[38;5;241m.\u001b[39mreplace(\n\u001b[0;32m      5\u001b[0m     to_replace\u001b[38;5;241m=\u001b[39m[\n\u001b[0;32m      6\u001b[0m         \u001b[38;5;124m\"\u001b[39m\u001b[38;5;124mDesolation Wilderness\u001b[39m\u001b[38;5;124m\"\u001b[39m,\n\u001b[1;32m   (...)\u001b[0m\n\u001b[0;32m     10\u001b[0m     value\u001b[38;5;241m=\u001b[39m\u001b[38;5;124m\"\u001b[39m\u001b[38;5;124mWilderness\u001b[39m\u001b[38;5;124m\"\u001b[39m\n\u001b[0;32m     11\u001b[0m )\n\u001b[0;32m     13\u001b[0m lookup_dict \u001b[38;5;241m=\u001b[39m {\n\u001b[0;32m     14\u001b[0m     \u001b[38;5;241m1\u001b[39m: \u001b[38;5;124m\"\u001b[39m\u001b[38;5;124mLow Severity\u001b[39m\u001b[38;5;124m\"\u001b[39m,\n\u001b[0;32m     15\u001b[0m     \u001b[38;5;241m2\u001b[39m: \u001b[38;5;124m\"\u001b[39m\u001b[38;5;124mModerate Severity\u001b[39m\u001b[38;5;124m\"\u001b[39m,\n\u001b[0;32m     16\u001b[0m     \u001b[38;5;241m3\u001b[39m: \u001b[38;5;124m\"\u001b[39m\u001b[38;5;124mHigh Severity\u001b[39m\u001b[38;5;124m\"\u001b[39m\n\u001b[0;32m     17\u001b[0m }\n",
      "\u001b[1;31mNameError\u001b[0m: name 'pd' is not defined"
     ]
    }
   ],
   "source": [
    "# get data frame from feature class\n",
    "df_fire = pd.DataFrame.spatial.from_featureclass(\"ID_MGMTzones_FunctionalFire_DominantClass_Tahoe_SNVRRK\")\n",
    "\n",
    "df_fire['Name'] = df_fire['Name'].replace(\n",
    "    to_replace=[\n",
    "        \"Desolation Wilderness\",\n",
    "        \"Granite Chief Wilderness\",\n",
    "        \"Mt. Rose Wilderness\"\n",
    "    ],\n",
    "    value=\"Wilderness\"\n",
    ")\n",
    "\n",
    "lookup_dict = {\n",
    "    1: \"Low Severity\",\n",
    "    2: \"Moderate Severity\",\n",
    "    3: \"High Severity\"\n",
    "}\n",
    "dfMgmt_Fire = df_fire.groupby(['Name', 'gridcode']).agg({'Acres': 'sum'}).reset_index()\n",
    "dfMgmt_Fire.rename(columns={\"gridcode\": \"Fire Severity\", \"Acres\": \"Acres\"}, inplace=True)\n",
    "dfMgmt_Fire['Fire Severity'] = dfMgmt_Fire['Fire Severity'].map(lookup_dict)\n",
    "dfMgmt_Fire['Percentage'] = ((dfMgmt_Fire['Acres'] / dfMgmt_Fire['Acres'].sum()) * 100).round(1)\n",
    "dfMgmt_Fire['Acres'] = dfMgmt_Fire['Acres'].round(1)\n",
    "# filter out Name ''\n",
    "dfMgmt_Fire = dfMgmt_Fire[dfMgmt_Fire['Name'] != '']\n",
    "dfMgmt_Fire.to_csv(output / \"FireSeverity_ManagementZones.csv\", index=False)"
   ]
  },
  {
   "cell_type": "code",
   "execution_count": null,
   "id": "6a397150",
   "metadata": {},
   "outputs": [],
   "source": [
    "# stacked bar chart of severity by management zone\n",
    "fig = px.bar(dfMgmt_Fire, x=\"Name\", y=\"Acres\", \n",
    "            color=\"Fire Severity\",\n",
    "            text=dfMgmt_Fire['Percentage'].astype(str) + '%',\n",
    "            title=\"Fire Severity Probability by Management Zone\",\n",
    "            labels={\"Acres\": \"Acres\", \"Name\": \"Management Zone\"},\n",
    "            color_discrete_sequence=[\"#91bfdb\", \"#ffffbf\", \"#fc8d59\"],\n",
    "            custom_data=[\"Fire Severity\"]\n",
    "            )\n",
    "fig.update_traces(marker_line_color='rgb(8,48,107)',\n",
    "                    marker_line_width=0.1, opacity=0.9,\n",
    "                    textfont_size=14, textposition=\"inside\",\n",
    "                    hovertemplate=\"<br>\".join(\n",
    "                        [\"<b>%{y:,.0f}</b> of the forested area is\", \n",
    "                            \"likely to burn at <i>%{customdata[0]}</i>\"]\n",
    "                    )\n",
    "                    + \"<extra></extra>\",\n",
    "            )\n",
    "fig.update_layout(title_x=0.5, title_font_size=20,\n",
    "                    uniformtext_minsize=8, uniformtext_mode='hide',\n",
    "                    title_font_color='#6680a8',\n",
    "                    xaxis_title=\"Management Zone\",\n",
    "                    yaxis_title=\"Acres\",\n",
    "                    hovermode=\"x unified\",\n",
    "                    template=template,\n",
    "                    legend=dict(title_text='',\n",
    "                                orientation=\"h\",\n",
    "                                yanchor=\"bottom\",\n",
    "                                y=1.02,\n",
    "                                xanchor=\"right\",\n",
    "                                x=1),\n",
    "                    legend_title_text='Fire Severity',\n",
    "                    font_family=font,\n",
    "                    font_color='#6680a8',\n",
    "                    plot_bgcolor='white',\n",
    "                    showlegend=True\n",
    "                        )\n",
    "fig.show()\n",
    "# save to HTML\n",
    "fig.write_html(config = {\"displayModeBar\": False},\n",
    "               file=\"DataVisualizations/FireSeverity_ManagementZone.html\", \n",
    "               full_html= False, \n",
    "               include_plotlyjs='cdn')"
   ]
  },
  {
   "cell_type": "markdown",
   "id": "642fad75",
   "metadata": {},
   "source": [
    "## Performance Meassures"
   ]
  },
  {
   "cell_type": "code",
   "execution_count": null,
   "id": "b00bee7f",
   "metadata": {},
   "outputs": [],
   "source": [
    "# Fuels Treatment Chart\n",
    "df = get_data_forest_fuel()\n",
    "plot_forest_fuel(df)"
   ]
  }
 ],
 "metadata": {
  "kernelspec": {
   "display_name": "Python 3",
   "language": "python",
   "name": "python3"
  },
  "language_info": {
   "codemirror_mode": {
    "name": "ipython",
    "version": 3
   },
   "file_extension": ".py",
   "mimetype": "text/x-python",
   "name": "python",
   "nbconvert_exporter": "python",
   "pygments_lexer": "ipython3",
   "version": "3.11.10"
  },
  "toc": {
   "base_numbering": 1,
   "nav_menu": {},
   "number_sections": true,
   "sideBar": true,
   "skip_h1_title": false,
   "title_cell": "Table of Contents",
   "title_sidebar": "Contents",
   "toc_cell": false,
   "toc_position": {},
   "toc_section_display": true,
   "toc_window_display": false
  }
 },
 "nbformat": 4,
 "nbformat_minor": 5
}
