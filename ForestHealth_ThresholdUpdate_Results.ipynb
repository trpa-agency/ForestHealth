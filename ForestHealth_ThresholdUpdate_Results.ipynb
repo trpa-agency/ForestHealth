{
 "cells": [
  {
   "cell_type": "markdown",
   "id": "1a00e503",
   "metadata": {},
   "source": [
    "## Forest Health Threshold Update - Results"
   ]
  },
  {
   "cell_type": "markdown",
   "id": "3d9d2483",
   "metadata": {
    "heading_collapsed": true
   },
   "source": [
    "### Setup"
   ]
  },
  {
   "cell_type": "code",
   "execution_count": 2,
   "id": "4b9f2f3d",
   "metadata": {
    "ExecuteTime": {
     "end_time": "2023-06-01T20:57:05.600866Z",
     "start_time": "2023-06-01T20:57:04.730789Z"
    },
    "hidden": true
   },
   "outputs": [],
   "source": [
    "# import packages\n",
    "import arcpy\n",
    "import pandas as pd\n",
    "from pathlib import Path\n",
    "from utils import *\n",
    "import plotly.express as px\n",
    "import plotly.graph_objects as go\n",
    "from arcgis import GeoAccessor, GeoSeriesAccessor\n",
    "import pickle\n",
    "\n",
    "# setup workspace variables\n",
    "arcpy.env.workspace = r\"F:\\\\GIS\\\\PROJECTS\\\\ForestHealth_Intiative\\\\ThresholdUpdate\\\\Data\\\\ForestHealth_ThresholdUpdate.gdb\"\n",
    "arcpy.env.overwriteOutput = True\n",
    "\n",
    "#format paths\n",
    "sdeBase   = Path(\"F:\\GIS\\DB_CONNECT\\Vector.sde\")\n",
    "# workspace = Path(\"F:\\GIS\\PROJECTS\\ForestHealth_Intiative\\ThresholdUpdate\\Data\\ForestHealth_ThresholdUpdate.gdb\")\n",
    "downloads = Path(\"F:\\GIS\\PROJECTS\\ForestHealth_Intiative\\ThresholdUpdate\\Data\\Download\\SNV_RRK\")\n",
    "output    = Path(\"F:\\GIS\\PROJECTS\\ForestHealth_Intiative\\ThresholdUpdate\\AnalysisProduct\")\n",
    "\n",
    "# set style variables\n",
    "template = 'plotly_white'\n",
    "font     = 'Calibri'\n",
    "# colors for tables\n",
    "headerColor = '#6680a8'\n",
    "rowColor = 'white'\n",
    "lastrowColor = '#eeeeee'"
   ]
  },
  {
   "cell_type": "code",
   "execution_count": null,
   "id": "bc447409",
   "metadata": {},
   "outputs": [],
   "source": [
    "# list datasets in workspace\n",
    "feature_data = arcpy.ListFeatureClasses()\n",
    "raster_data  = arcpy.ListRasters()\n",
    "table_data   = arcpy.ListTables()\n",
    "# print feature classes, then rasters, then tables\n",
    "print(\"Feature Classes:\")\n",
    "for fc in feature_data:\n",
    "    print(fc)\n",
    "print(\"\\nRasters:\")\n",
    "for raster in raster_data:\n",
    "    print(raster)\n",
    "print(\"\\nTables:\")\n",
    "for table in table_data:\n",
    "    print(table)"
   ]
  },
  {
   "cell_type": "markdown",
   "id": "611a6250",
   "metadata": {
    "heading_collapsed": true
   },
   "source": [
    "## Stand Density"
   ]
  },
  {
   "cell_type": "code",
   "execution_count": 3,
   "id": "fc21f858",
   "metadata": {},
   "outputs": [
    {
     "data": {
      "application/vnd.microsoft.datawrangler.viewer.v0+json": {
       "columns": [
        {
         "name": "index",
         "rawType": "int64",
         "type": "integer"
        },
        {
         "name": "OBJECTID",
         "rawType": "int64",
         "type": "integer"
        },
        {
         "name": "Value",
         "rawType": "int64",
         "type": "integer"
        },
        {
         "name": "Count",
         "rawType": "float64",
         "type": "float"
        },
        {
         "name": "Acres",
         "rawType": "float64",
         "type": "float"
        }
       ],
       "conversionMethod": "pd.DataFrame",
       "ref": "ce585830-be26-4ea8-9a75-f1e3bfa824d5",
       "rows": [
        [
         "0",
         "1",
         "0",
         "287827.0",
         "64011.285665"
        ],
        [
         "1",
         "2",
         "1",
         "340587.0",
         "75744.84586500001"
        ]
       ],
       "shape": {
        "columns": 4,
        "rows": 2
       }
      },
      "text/html": [
       "<div>\n",
       "<style scoped>\n",
       "    .dataframe tbody tr th:only-of-type {\n",
       "        vertical-align: middle;\n",
       "    }\n",
       "\n",
       "    .dataframe tbody tr th {\n",
       "        vertical-align: top;\n",
       "    }\n",
       "\n",
       "    .dataframe thead th {\n",
       "        text-align: right;\n",
       "    }\n",
       "</style>\n",
       "<table border=\"1\" class=\"dataframe\">\n",
       "  <thead>\n",
       "    <tr style=\"text-align: right;\">\n",
       "      <th></th>\n",
       "      <th>OBJECTID</th>\n",
       "      <th>Value</th>\n",
       "      <th>Count</th>\n",
       "      <th>Acres</th>\n",
       "    </tr>\n",
       "  </thead>\n",
       "  <tbody>\n",
       "    <tr>\n",
       "      <th>0</th>\n",
       "      <td>1</td>\n",
       "      <td>0</td>\n",
       "      <td>287827.0</td>\n",
       "      <td>64011.285665</td>\n",
       "    </tr>\n",
       "    <tr>\n",
       "      <th>1</th>\n",
       "      <td>2</td>\n",
       "      <td>1</td>\n",
       "      <td>340587.0</td>\n",
       "      <td>75744.845865</td>\n",
       "    </tr>\n",
       "  </tbody>\n",
       "</table>\n",
       "</div>"
      ],
      "text/plain": [
       "   OBJECTID  Value     Count         Acres\n",
       "0         1      0  287827.0  64011.285665\n",
       "1         2      1  340587.0  75744.845865"
      ]
     },
     "execution_count": 3,
     "metadata": {},
     "output_type": "execute_result"
    }
   ],
   "source": [
    "# \n",
    "raster_path = \"stand_density_threshold_assessment\"\n",
    "\n",
    "# Describe the raster and get the attribute table\n",
    "fields = [f.name for f in arcpy.ListFields(raster_path)]\n",
    "rows = arcpy.da.SearchCursor(raster_path, fields)\n",
    "\n",
    "# Build DataFrame\n",
    "data = [list(row) for row in rows]\n",
    "df = pd.DataFrame(data, columns=fields)\n",
    "df"
   ]
  },
  {
   "cell_type": "code",
   "execution_count": 4,
   "id": "97e77d17",
   "metadata": {},
   "outputs": [
    {
     "data": {
      "application/vnd.plotly.v1+json": {
       "config": {
        "plotlyServerURL": "https://plot.ly"
       },
       "data": [
        {
         "customdata": [
          [
           "Above Threshold"
          ],
          [
           "Below Threshold"
          ]
         ],
         "hovertemplate": "<b>%{y:,.0f} acres</b> of the forested area are<br><i>%{customdata[0]}</i> for resilience<extra></extra>",
         "legendgroup": "",
         "marker": {
          "color": "#ABCD66",
          "line": {
           "color": "rgb(8,48,107)",
           "width": 0.1
          },
          "pattern": {
           "shape": ""
          }
         },
         "name": "",
         "opacity": 0.9,
         "orientation": "v",
         "showlegend": false,
         "text": [
          "45.8%",
          "54.2%"
         ],
         "textfont": {
          "size": 14
         },
         "textposition": "inside",
         "type": "bar",
         "x": [
          "Above Threshold",
          "Below Threshold"
         ],
         "xaxis": "x",
         "y": {
          "bdata": "FO0qJGlB70D+vKmIDX7yQA==",
          "dtype": "f8"
         },
         "yaxis": "y"
        }
       ],
       "layout": {
        "barmode": "relative",
        "font": {
         "color": "#6680a8",
         "family": "Calibri"
        },
        "hovermode": "x unified",
        "legend": {
         "orientation": "h",
         "title": {
          "text": ""
         },
         "tracegroupgap": 0,
         "x": 1,
         "xanchor": "right",
         "y": 1.02,
         "yanchor": "bottom"
        },
        "plot_bgcolor": "white",
        "showlegend": true,
        "template": {
         "data": {
          "bar": [
           {
            "error_x": {
             "color": "#2a3f5f"
            },
            "error_y": {
             "color": "#2a3f5f"
            },
            "marker": {
             "line": {
              "color": "white",
              "width": 0.5
             },
             "pattern": {
              "fillmode": "overlay",
              "size": 10,
              "solidity": 0.2
             }
            },
            "type": "bar"
           }
          ],
          "barpolar": [
           {
            "marker": {
             "line": {
              "color": "white",
              "width": 0.5
             },
             "pattern": {
              "fillmode": "overlay",
              "size": 10,
              "solidity": 0.2
             }
            },
            "type": "barpolar"
           }
          ],
          "carpet": [
           {
            "aaxis": {
             "endlinecolor": "#2a3f5f",
             "gridcolor": "#C8D4E3",
             "linecolor": "#C8D4E3",
             "minorgridcolor": "#C8D4E3",
             "startlinecolor": "#2a3f5f"
            },
            "baxis": {
             "endlinecolor": "#2a3f5f",
             "gridcolor": "#C8D4E3",
             "linecolor": "#C8D4E3",
             "minorgridcolor": "#C8D4E3",
             "startlinecolor": "#2a3f5f"
            },
            "type": "carpet"
           }
          ],
          "choropleth": [
           {
            "colorbar": {
             "outlinewidth": 0,
             "ticks": ""
            },
            "type": "choropleth"
           }
          ],
          "contour": [
           {
            "colorbar": {
             "outlinewidth": 0,
             "ticks": ""
            },
            "colorscale": [
             [
              0,
              "#0d0887"
             ],
             [
              0.1111111111111111,
              "#46039f"
             ],
             [
              0.2222222222222222,
              "#7201a8"
             ],
             [
              0.3333333333333333,
              "#9c179e"
             ],
             [
              0.4444444444444444,
              "#bd3786"
             ],
             [
              0.5555555555555556,
              "#d8576b"
             ],
             [
              0.6666666666666666,
              "#ed7953"
             ],
             [
              0.7777777777777778,
              "#fb9f3a"
             ],
             [
              0.8888888888888888,
              "#fdca26"
             ],
             [
              1,
              "#f0f921"
             ]
            ],
            "type": "contour"
           }
          ],
          "contourcarpet": [
           {
            "colorbar": {
             "outlinewidth": 0,
             "ticks": ""
            },
            "type": "contourcarpet"
           }
          ],
          "heatmap": [
           {
            "colorbar": {
             "outlinewidth": 0,
             "ticks": ""
            },
            "colorscale": [
             [
              0,
              "#0d0887"
             ],
             [
              0.1111111111111111,
              "#46039f"
             ],
             [
              0.2222222222222222,
              "#7201a8"
             ],
             [
              0.3333333333333333,
              "#9c179e"
             ],
             [
              0.4444444444444444,
              "#bd3786"
             ],
             [
              0.5555555555555556,
              "#d8576b"
             ],
             [
              0.6666666666666666,
              "#ed7953"
             ],
             [
              0.7777777777777778,
              "#fb9f3a"
             ],
             [
              0.8888888888888888,
              "#fdca26"
             ],
             [
              1,
              "#f0f921"
             ]
            ],
            "type": "heatmap"
           }
          ],
          "histogram": [
           {
            "marker": {
             "pattern": {
              "fillmode": "overlay",
              "size": 10,
              "solidity": 0.2
             }
            },
            "type": "histogram"
           }
          ],
          "histogram2d": [
           {
            "colorbar": {
             "outlinewidth": 0,
             "ticks": ""
            },
            "colorscale": [
             [
              0,
              "#0d0887"
             ],
             [
              0.1111111111111111,
              "#46039f"
             ],
             [
              0.2222222222222222,
              "#7201a8"
             ],
             [
              0.3333333333333333,
              "#9c179e"
             ],
             [
              0.4444444444444444,
              "#bd3786"
             ],
             [
              0.5555555555555556,
              "#d8576b"
             ],
             [
              0.6666666666666666,
              "#ed7953"
             ],
             [
              0.7777777777777778,
              "#fb9f3a"
             ],
             [
              0.8888888888888888,
              "#fdca26"
             ],
             [
              1,
              "#f0f921"
             ]
            ],
            "type": "histogram2d"
           }
          ],
          "histogram2dcontour": [
           {
            "colorbar": {
             "outlinewidth": 0,
             "ticks": ""
            },
            "colorscale": [
             [
              0,
              "#0d0887"
             ],
             [
              0.1111111111111111,
              "#46039f"
             ],
             [
              0.2222222222222222,
              "#7201a8"
             ],
             [
              0.3333333333333333,
              "#9c179e"
             ],
             [
              0.4444444444444444,
              "#bd3786"
             ],
             [
              0.5555555555555556,
              "#d8576b"
             ],
             [
              0.6666666666666666,
              "#ed7953"
             ],
             [
              0.7777777777777778,
              "#fb9f3a"
             ],
             [
              0.8888888888888888,
              "#fdca26"
             ],
             [
              1,
              "#f0f921"
             ]
            ],
            "type": "histogram2dcontour"
           }
          ],
          "mesh3d": [
           {
            "colorbar": {
             "outlinewidth": 0,
             "ticks": ""
            },
            "type": "mesh3d"
           }
          ],
          "parcoords": [
           {
            "line": {
             "colorbar": {
              "outlinewidth": 0,
              "ticks": ""
             }
            },
            "type": "parcoords"
           }
          ],
          "pie": [
           {
            "automargin": true,
            "type": "pie"
           }
          ],
          "scatter": [
           {
            "fillpattern": {
             "fillmode": "overlay",
             "size": 10,
             "solidity": 0.2
            },
            "type": "scatter"
           }
          ],
          "scatter3d": [
           {
            "line": {
             "colorbar": {
              "outlinewidth": 0,
              "ticks": ""
             }
            },
            "marker": {
             "colorbar": {
              "outlinewidth": 0,
              "ticks": ""
             }
            },
            "type": "scatter3d"
           }
          ],
          "scattercarpet": [
           {
            "marker": {
             "colorbar": {
              "outlinewidth": 0,
              "ticks": ""
             }
            },
            "type": "scattercarpet"
           }
          ],
          "scattergeo": [
           {
            "marker": {
             "colorbar": {
              "outlinewidth": 0,
              "ticks": ""
             }
            },
            "type": "scattergeo"
           }
          ],
          "scattergl": [
           {
            "marker": {
             "colorbar": {
              "outlinewidth": 0,
              "ticks": ""
             }
            },
            "type": "scattergl"
           }
          ],
          "scattermap": [
           {
            "marker": {
             "colorbar": {
              "outlinewidth": 0,
              "ticks": ""
             }
            },
            "type": "scattermap"
           }
          ],
          "scattermapbox": [
           {
            "marker": {
             "colorbar": {
              "outlinewidth": 0,
              "ticks": ""
             }
            },
            "type": "scattermapbox"
           }
          ],
          "scatterpolar": [
           {
            "marker": {
             "colorbar": {
              "outlinewidth": 0,
              "ticks": ""
             }
            },
            "type": "scatterpolar"
           }
          ],
          "scatterpolargl": [
           {
            "marker": {
             "colorbar": {
              "outlinewidth": 0,
              "ticks": ""
             }
            },
            "type": "scatterpolargl"
           }
          ],
          "scatterternary": [
           {
            "marker": {
             "colorbar": {
              "outlinewidth": 0,
              "ticks": ""
             }
            },
            "type": "scatterternary"
           }
          ],
          "surface": [
           {
            "colorbar": {
             "outlinewidth": 0,
             "ticks": ""
            },
            "colorscale": [
             [
              0,
              "#0d0887"
             ],
             [
              0.1111111111111111,
              "#46039f"
             ],
             [
              0.2222222222222222,
              "#7201a8"
             ],
             [
              0.3333333333333333,
              "#9c179e"
             ],
             [
              0.4444444444444444,
              "#bd3786"
             ],
             [
              0.5555555555555556,
              "#d8576b"
             ],
             [
              0.6666666666666666,
              "#ed7953"
             ],
             [
              0.7777777777777778,
              "#fb9f3a"
             ],
             [
              0.8888888888888888,
              "#fdca26"
             ],
             [
              1,
              "#f0f921"
             ]
            ],
            "type": "surface"
           }
          ],
          "table": [
           {
            "cells": {
             "fill": {
              "color": "#EBF0F8"
             },
             "line": {
              "color": "white"
             }
            },
            "header": {
             "fill": {
              "color": "#C8D4E3"
             },
             "line": {
              "color": "white"
             }
            },
            "type": "table"
           }
          ]
         },
         "layout": {
          "annotationdefaults": {
           "arrowcolor": "#2a3f5f",
           "arrowhead": 0,
           "arrowwidth": 1
          },
          "autotypenumbers": "strict",
          "coloraxis": {
           "colorbar": {
            "outlinewidth": 0,
            "ticks": ""
           }
          },
          "colorscale": {
           "diverging": [
            [
             0,
             "#8e0152"
            ],
            [
             0.1,
             "#c51b7d"
            ],
            [
             0.2,
             "#de77ae"
            ],
            [
             0.3,
             "#f1b6da"
            ],
            [
             0.4,
             "#fde0ef"
            ],
            [
             0.5,
             "#f7f7f7"
            ],
            [
             0.6,
             "#e6f5d0"
            ],
            [
             0.7,
             "#b8e186"
            ],
            [
             0.8,
             "#7fbc41"
            ],
            [
             0.9,
             "#4d9221"
            ],
            [
             1,
             "#276419"
            ]
           ],
           "sequential": [
            [
             0,
             "#0d0887"
            ],
            [
             0.1111111111111111,
             "#46039f"
            ],
            [
             0.2222222222222222,
             "#7201a8"
            ],
            [
             0.3333333333333333,
             "#9c179e"
            ],
            [
             0.4444444444444444,
             "#bd3786"
            ],
            [
             0.5555555555555556,
             "#d8576b"
            ],
            [
             0.6666666666666666,
             "#ed7953"
            ],
            [
             0.7777777777777778,
             "#fb9f3a"
            ],
            [
             0.8888888888888888,
             "#fdca26"
            ],
            [
             1,
             "#f0f921"
            ]
           ],
           "sequentialminus": [
            [
             0,
             "#0d0887"
            ],
            [
             0.1111111111111111,
             "#46039f"
            ],
            [
             0.2222222222222222,
             "#7201a8"
            ],
            [
             0.3333333333333333,
             "#9c179e"
            ],
            [
             0.4444444444444444,
             "#bd3786"
            ],
            [
             0.5555555555555556,
             "#d8576b"
            ],
            [
             0.6666666666666666,
             "#ed7953"
            ],
            [
             0.7777777777777778,
             "#fb9f3a"
            ],
            [
             0.8888888888888888,
             "#fdca26"
            ],
            [
             1,
             "#f0f921"
            ]
           ]
          },
          "colorway": [
           "#636efa",
           "#EF553B",
           "#00cc96",
           "#ab63fa",
           "#FFA15A",
           "#19d3f3",
           "#FF6692",
           "#B6E880",
           "#FF97FF",
           "#FECB52"
          ],
          "font": {
           "color": "#2a3f5f"
          },
          "geo": {
           "bgcolor": "white",
           "lakecolor": "white",
           "landcolor": "white",
           "showlakes": true,
           "showland": true,
           "subunitcolor": "#C8D4E3"
          },
          "hoverlabel": {
           "align": "left"
          },
          "hovermode": "closest",
          "mapbox": {
           "style": "light"
          },
          "paper_bgcolor": "white",
          "plot_bgcolor": "white",
          "polar": {
           "angularaxis": {
            "gridcolor": "#EBF0F8",
            "linecolor": "#EBF0F8",
            "ticks": ""
           },
           "bgcolor": "white",
           "radialaxis": {
            "gridcolor": "#EBF0F8",
            "linecolor": "#EBF0F8",
            "ticks": ""
           }
          },
          "scene": {
           "xaxis": {
            "backgroundcolor": "white",
            "gridcolor": "#DFE8F3",
            "gridwidth": 2,
            "linecolor": "#EBF0F8",
            "showbackground": true,
            "ticks": "",
            "zerolinecolor": "#EBF0F8"
           },
           "yaxis": {
            "backgroundcolor": "white",
            "gridcolor": "#DFE8F3",
            "gridwidth": 2,
            "linecolor": "#EBF0F8",
            "showbackground": true,
            "ticks": "",
            "zerolinecolor": "#EBF0F8"
           },
           "zaxis": {
            "backgroundcolor": "white",
            "gridcolor": "#DFE8F3",
            "gridwidth": 2,
            "linecolor": "#EBF0F8",
            "showbackground": true,
            "ticks": "",
            "zerolinecolor": "#EBF0F8"
           }
          },
          "shapedefaults": {
           "line": {
            "color": "#2a3f5f"
           }
          },
          "ternary": {
           "aaxis": {
            "gridcolor": "#DFE8F3",
            "linecolor": "#A2B1C6",
            "ticks": ""
           },
           "baxis": {
            "gridcolor": "#DFE8F3",
            "linecolor": "#A2B1C6",
            "ticks": ""
           },
           "bgcolor": "white",
           "caxis": {
            "gridcolor": "#DFE8F3",
            "linecolor": "#A2B1C6",
            "ticks": ""
           }
          },
          "title": {
           "x": 0.05
          },
          "xaxis": {
           "automargin": true,
           "gridcolor": "#EBF0F8",
           "linecolor": "#EBF0F8",
           "ticks": "",
           "title": {
            "standoff": 15
           },
           "zerolinecolor": "#EBF0F8",
           "zerolinewidth": 2
          },
          "yaxis": {
           "automargin": true,
           "gridcolor": "#EBF0F8",
           "linecolor": "#EBF0F8",
           "ticks": "",
           "title": {
            "standoff": 15
           },
           "zerolinecolor": "#EBF0F8",
           "zerolinewidth": 2
          }
         }
        },
        "title": {
         "font": {
          "color": "#6680a8",
          "size": 20
         },
         "text": "Stand Density",
         "x": 0.5
        },
        "uniformtext": {
         "minsize": 8,
         "mode": "hide"
        },
        "xaxis": {
         "anchor": "y",
         "domain": [
          0,
          1
         ],
         "title": {
          "text": "Stand Density - SNRRK"
         }
        },
        "yaxis": {
         "anchor": "x",
         "domain": [
          0,
          1
         ],
         "title": {
          "text": "Acres"
         }
        }
       }
      }
     },
     "metadata": {},
     "output_type": "display_data"
    }
   ],
   "source": [
    "raster_path = \"stand_density_threshold_assessment\"\n",
    "# Describe the raster and get the attribute table\n",
    "fields = [f.name for f in arcpy.ListFields(raster_path)]\n",
    "rows = arcpy.da.SearchCursor(raster_path, fields)\n",
    "\n",
    "# Build DataFrame\n",
    "data = [list(row) for row in rows]\n",
    "df = pd.DataFrame(data, columns=fields)\n",
    "\n",
    "\n",
    "# define the target status based on the raster value\n",
    "df[\"TargetStatus\"] = df[\"Value\"].map({\n",
    "    1 : \"Below Threshold\",\n",
    "    0 : \"Above Threshold\",\n",
    "    -1: \"N/A\",\n",
    "})\n",
    "#group by target status and acres\n",
    "df_grouped = df.groupby(\"TargetStatus\")[\"Acres\"].sum().reset_index()\n",
    "# calculate percentage of acres in each target status\n",
    "df_grouped[\"Percentage\"] = (df_grouped[\"Acres\"] / df_grouped[\"Acres\"].sum()) * 100\n",
    "\n",
    "# format the percentage column\n",
    "df_grouped[\"Percentage\"] = df_grouped[\"Percentage\"].round(1)\n",
    "\n",
    "# get copy for chart\n",
    "df = df_grouped.copy()\n",
    "# bar chart of target status by acres\n",
    "fig = px.bar(df, x=\"TargetStatus\", y=\"Acres\", \n",
    "            text=df['Percentage'].astype(str) + '%',\n",
    "            title=\"Stand Density\",\n",
    "            color_discrete_sequence=[\"#ABCD66\", \"#728944\"],\n",
    "            custom_data=[\"TargetStatus\"]\n",
    "            )\n",
    "fig.update_traces(marker_line_color='rgb(8,48,107)',\n",
    "                    marker_line_width=0.1, opacity=0.9,\n",
    "                    textfont_size=14, textposition=\"inside\",\n",
    "                    hovertemplate=\"<br>\".join(\n",
    "                        [\"<b>%{y:,.0f} acres</b> of the forested area are\", \n",
    "                            \"<i>%{customdata[0]}</i> for resilience\"]\n",
    "                    )\n",
    "                    + \"<extra></extra>\",\n",
    "            )\n",
    "fig.update_layout(title_x=0.5, title_font_size=20,\n",
    "                    uniformtext_minsize=8, uniformtext_mode='hide',\n",
    "                    title_font_color='#6680a8',\n",
    "                    xaxis_title=\"Stand Density - SNRRK\",\n",
    "                    yaxis_title=\"Acres\",\n",
    "                    hovermode=\"x unified\",\n",
    "                    template=template,\n",
    "                    legend=dict(title_text='',\n",
    "                                orientation=\"h\",\n",
    "                                yanchor=\"bottom\",\n",
    "                                y=1.02,\n",
    "                                xanchor=\"right\",\n",
    "                                x=1),\n",
    "                    legend_title_text='',\n",
    "                    font_family=font,\n",
    "                    font_color='#6680a8',\n",
    "                    plot_bgcolor='white',\n",
    "                    showlegend=True\n",
    "                        )\n",
    "# no legendd\n",
    "fig.update_traces(showlegend=False)\n",
    "fig.show()\n",
    "# save to HTML\n",
    "fig.write_html(config = {\"displayModeBar\": False},\n",
    "               file=\"DataVisualizations/StandDensity_Chart_SNRRK.html\", \n",
    "               full_html= False, \n",
    "               include_plotlyjs='cdn')"
   ]
  },
  {
   "cell_type": "markdown",
   "id": "5fcea2ef",
   "metadata": {
    "heading_collapsed": true
   },
   "source": [
    "## Seral Stage"
   ]
  },
  {
   "cell_type": "code",
   "execution_count": 10,
   "id": "3dfbcb73",
   "metadata": {},
   "outputs": [
    {
     "data": {
      "text/plain": [
       "array(['Early', 'Mid (closed canopy)', 'Mid (open canopy)',\n",
       "       'Late (open canopy)', 'Late (closed canopy)'], dtype=object)"
      ]
     },
     "execution_count": 10,
     "metadata": {},
     "output_type": "execute_result"
    }
   ],
   "source": [
    "# stacked bar chart of seral stage by canopy cover class\n",
    "df = pd.read_csv(output / \"seral_stage_with_classification.csv\")\n",
    "df['Seral Stage'].unique()"
   ]
  },
  {
   "cell_type": "code",
   "execution_count": 13,
   "id": "d1cda5df",
   "metadata": {},
   "outputs": [
    {
     "data": {
      "application/vnd.microsoft.datawrangler.viewer.v0+json": {
       "columns": [
        {
         "name": "index",
         "rawType": "int64",
         "type": "integer"
        },
        {
         "name": "Forest Type",
         "rawType": "object",
         "type": "string"
        },
        {
         "name": "Category",
         "rawType": "object",
         "type": "string"
        },
        {
         "name": "Desired % Range",
         "rawType": "object",
         "type": "string"
        },
        {
         "name": "Classification",
         "rawType": "object",
         "type": "string"
        },
        {
         "name": "Current Area %",
         "rawType": "float64",
         "type": "float"
        },
        {
         "name": "Area (m²)",
         "rawType": "float64",
         "type": "float"
        },
        {
         "name": "Acres",
         "rawType": "float64",
         "type": "float"
        },
        {
         "name": "SeralStage",
         "rawType": "object",
         "type": "string"
        },
        {
         "name": "Percentage",
         "rawType": "float64",
         "type": "float"
        }
       ],
       "conversionMethod": "pd.DataFrame",
       "ref": "8209334e-cadf-4848-bb59-8bcd3ea5620f",
       "rows": [
        [
         "0",
         "Jeffrey Pine",
         "Early",
         "5–15%",
         "below target",
         "2.12",
         "3492900.0",
         "863.0",
         "Early Seral",
         "0.6"
        ],
        [
         "1",
         "Jeffrey Pine",
         "Mid (closed canopy)",
         "5–10%",
         "above target",
         "28.48",
         "46978200.0",
         "11609.0",
         "Mid Seral",
         "8.3"
        ],
        [
         "2",
         "Jeffrey Pine",
         "Mid (open canopy)",
         "25–30%",
         "on target",
         "27.75",
         "45772200.0",
         "11311.0",
         "Mid Seral",
         "8.1"
        ],
        [
         "3",
         "Jeffrey Pine",
         "Late (open canopy)",
         "45–50%",
         "below target",
         "27.28",
         "44996400.0",
         "11119.0",
         "Late Seral",
         "8.0"
        ],
        [
         "4",
         "Jeffrey Pine",
         "Late (closed canopy)",
         "5–10%",
         "above target",
         "14.37",
         "23700600.0",
         "5857.0",
         "Late Seral",
         "4.2"
        ],
        [
         "5",
         "White Fir",
         "Early",
         "10–20%",
         "below target",
         "3.45",
         "8957700.0",
         "2213.0",
         "Early Seral",
         "1.6"
        ],
        [
         "6",
         "White Fir",
         "Mid (closed canopy)",
         "5–15%",
         "above target",
         "37.27",
         "96792300.0",
         "23918.0",
         "Mid Seral",
         "17.1"
        ],
        [
         "7",
         "White Fir",
         "Mid (open canopy)",
         "10–15%",
         "above target",
         "22.73",
         "59042700.0",
         "14590.0",
         "Mid Seral",
         "10.4"
        ],
        [
         "8",
         "White Fir",
         "Late (open canopy)",
         "30–40%",
         "below target",
         "19.41",
         "50410800.0",
         "12457.0",
         "Late Seral",
         "8.9"
        ],
        [
         "9",
         "White Fir",
         "Late (closed canopy)",
         "20–30%",
         "below target",
         "17.14",
         "44503200.0",
         "10997.0",
         "Late Seral",
         "7.9"
        ],
        [
         "10",
         "Red Fir",
         "Early",
         "10–20%",
         "below target",
         "2.19",
         "1987200.0",
         "491.0",
         "Early Seral",
         "0.4"
        ],
        [
         "11",
         "Red Fir",
         "Mid (closed canopy)",
         "20–30%",
         "above target",
         "36.55",
         "33115500.0",
         "8183.0",
         "Mid Seral",
         "5.9"
        ],
        [
         "12",
         "Red Fir",
         "Mid (open canopy)",
         "5–15%",
         "on target",
         "12.48",
         "11305800.0",
         "2794.0",
         "Mid Seral",
         "2.0"
        ],
        [
         "13",
         "Red Fir",
         "Late (open canopy)",
         "15–25%",
         "on target",
         "19.33",
         "17513100.0",
         "4328.0",
         "Late Seral",
         "3.1"
        ],
        [
         "14",
         "Red Fir",
         "Late (closed canopy)",
         "25–35%",
         "on target",
         "29.45",
         "26685900.0",
         "6594.0",
         "Late Seral",
         "4.7"
        ],
        [
         "15",
         "Sub Alpine Conifer",
         "Early",
         "10–20%",
         "below target",
         "1.32",
         "634500.0",
         "157.0",
         "Early Seral",
         "0.1"
        ],
        [
         "16",
         "Sub Alpine Conifer",
         "Mid (closed canopy)",
         "10–20%",
         "above target",
         "39.26",
         "18913500.0",
         "4674.0",
         "Mid Seral",
         "3.3"
        ],
        [
         "17",
         "Sub Alpine Conifer",
         "Mid (open canopy)",
         "5–15%",
         "on target",
         "5.68",
         "2736900.0",
         "676.0",
         "Mid Seral",
         "0.5"
        ],
        [
         "18",
         "Sub Alpine Conifer",
         "Late (open canopy)",
         "15–25%",
         "below target",
         "6.32",
         "3043800.0",
         "752.0",
         "Late Seral",
         "0.5"
        ],
        [
         "19",
         "Sub Alpine Conifer",
         "Late (closed canopy)",
         "10–20%",
         "above target",
         "47.42",
         "22840200.0",
         "5644.0",
         "Late Seral",
         "4.0"
        ],
        [
         "20",
         "Aspen",
         "Early",
         "10–20%",
         "below target",
         "0.88",
         "18900.0",
         "5.0",
         "Early Seral",
         "0.0"
        ],
        [
         "21",
         "Aspen",
         "Mid (closed canopy)",
         "5–15%",
         "above target",
         "55.57",
         "1194300.0",
         "295.0",
         "Mid Seral",
         "0.2"
        ],
        [
         "22",
         "Aspen",
         "Mid (open canopy)",
         "10–20%",
         "above target",
         "31.32",
         "673200.0",
         "166.0",
         "Mid Seral",
         "0.1"
        ],
        [
         "23",
         "Aspen",
         "Late (open canopy)",
         "15–25%",
         "below target",
         "6.37",
         "136800.0",
         "34.0",
         "Late Seral",
         "0.0"
        ],
        [
         "24",
         "Aspen",
         "Late (closed canopy)",
         "25–35%",
         "below target",
         "5.86",
         "126000.0",
         "31.0",
         "Late Seral",
         "0.0"
        ]
       ],
       "shape": {
        "columns": 9,
        "rows": 25
       }
      },
      "text/html": [
       "<div>\n",
       "<style scoped>\n",
       "    .dataframe tbody tr th:only-of-type {\n",
       "        vertical-align: middle;\n",
       "    }\n",
       "\n",
       "    .dataframe tbody tr th {\n",
       "        vertical-align: top;\n",
       "    }\n",
       "\n",
       "    .dataframe thead th {\n",
       "        text-align: right;\n",
       "    }\n",
       "</style>\n",
       "<table border=\"1\" class=\"dataframe\">\n",
       "  <thead>\n",
       "    <tr style=\"text-align: right;\">\n",
       "      <th></th>\n",
       "      <th>Forest Type</th>\n",
       "      <th>Category</th>\n",
       "      <th>Desired % Range</th>\n",
       "      <th>Classification</th>\n",
       "      <th>Current Area %</th>\n",
       "      <th>Area (m²)</th>\n",
       "      <th>Acres</th>\n",
       "      <th>SeralStage</th>\n",
       "      <th>Percentage</th>\n",
       "    </tr>\n",
       "  </thead>\n",
       "  <tbody>\n",
       "    <tr>\n",
       "      <th>0</th>\n",
       "      <td>Jeffrey Pine</td>\n",
       "      <td>Early</td>\n",
       "      <td>5–15%</td>\n",
       "      <td>below target</td>\n",
       "      <td>2.12</td>\n",
       "      <td>3492900.0</td>\n",
       "      <td>863.0</td>\n",
       "      <td>Early Seral</td>\n",
       "      <td>0.6</td>\n",
       "    </tr>\n",
       "    <tr>\n",
       "      <th>1</th>\n",
       "      <td>Jeffrey Pine</td>\n",
       "      <td>Mid (closed canopy)</td>\n",
       "      <td>5–10%</td>\n",
       "      <td>above target</td>\n",
       "      <td>28.48</td>\n",
       "      <td>46978200.0</td>\n",
       "      <td>11609.0</td>\n",
       "      <td>Mid Seral</td>\n",
       "      <td>8.3</td>\n",
       "    </tr>\n",
       "    <tr>\n",
       "      <th>2</th>\n",
       "      <td>Jeffrey Pine</td>\n",
       "      <td>Mid (open canopy)</td>\n",
       "      <td>25–30%</td>\n",
       "      <td>on target</td>\n",
       "      <td>27.75</td>\n",
       "      <td>45772200.0</td>\n",
       "      <td>11311.0</td>\n",
       "      <td>Mid Seral</td>\n",
       "      <td>8.1</td>\n",
       "    </tr>\n",
       "    <tr>\n",
       "      <th>3</th>\n",
       "      <td>Jeffrey Pine</td>\n",
       "      <td>Late (open canopy)</td>\n",
       "      <td>45–50%</td>\n",
       "      <td>below target</td>\n",
       "      <td>27.28</td>\n",
       "      <td>44996400.0</td>\n",
       "      <td>11119.0</td>\n",
       "      <td>Late Seral</td>\n",
       "      <td>8.0</td>\n",
       "    </tr>\n",
       "    <tr>\n",
       "      <th>4</th>\n",
       "      <td>Jeffrey Pine</td>\n",
       "      <td>Late (closed canopy)</td>\n",
       "      <td>5–10%</td>\n",
       "      <td>above target</td>\n",
       "      <td>14.37</td>\n",
       "      <td>23700600.0</td>\n",
       "      <td>5857.0</td>\n",
       "      <td>Late Seral</td>\n",
       "      <td>4.2</td>\n",
       "    </tr>\n",
       "    <tr>\n",
       "      <th>5</th>\n",
       "      <td>White Fir</td>\n",
       "      <td>Early</td>\n",
       "      <td>10–20%</td>\n",
       "      <td>below target</td>\n",
       "      <td>3.45</td>\n",
       "      <td>8957700.0</td>\n",
       "      <td>2213.0</td>\n",
       "      <td>Early Seral</td>\n",
       "      <td>1.6</td>\n",
       "    </tr>\n",
       "    <tr>\n",
       "      <th>6</th>\n",
       "      <td>White Fir</td>\n",
       "      <td>Mid (closed canopy)</td>\n",
       "      <td>5–15%</td>\n",
       "      <td>above target</td>\n",
       "      <td>37.27</td>\n",
       "      <td>96792300.0</td>\n",
       "      <td>23918.0</td>\n",
       "      <td>Mid Seral</td>\n",
       "      <td>17.1</td>\n",
       "    </tr>\n",
       "    <tr>\n",
       "      <th>7</th>\n",
       "      <td>White Fir</td>\n",
       "      <td>Mid (open canopy)</td>\n",
       "      <td>10–15%</td>\n",
       "      <td>above target</td>\n",
       "      <td>22.73</td>\n",
       "      <td>59042700.0</td>\n",
       "      <td>14590.0</td>\n",
       "      <td>Mid Seral</td>\n",
       "      <td>10.4</td>\n",
       "    </tr>\n",
       "    <tr>\n",
       "      <th>8</th>\n",
       "      <td>White Fir</td>\n",
       "      <td>Late (open canopy)</td>\n",
       "      <td>30–40%</td>\n",
       "      <td>below target</td>\n",
       "      <td>19.41</td>\n",
       "      <td>50410800.0</td>\n",
       "      <td>12457.0</td>\n",
       "      <td>Late Seral</td>\n",
       "      <td>8.9</td>\n",
       "    </tr>\n",
       "    <tr>\n",
       "      <th>9</th>\n",
       "      <td>White Fir</td>\n",
       "      <td>Late (closed canopy)</td>\n",
       "      <td>20–30%</td>\n",
       "      <td>below target</td>\n",
       "      <td>17.14</td>\n",
       "      <td>44503200.0</td>\n",
       "      <td>10997.0</td>\n",
       "      <td>Late Seral</td>\n",
       "      <td>7.9</td>\n",
       "    </tr>\n",
       "    <tr>\n",
       "      <th>10</th>\n",
       "      <td>Red Fir</td>\n",
       "      <td>Early</td>\n",
       "      <td>10–20%</td>\n",
       "      <td>below target</td>\n",
       "      <td>2.19</td>\n",
       "      <td>1987200.0</td>\n",
       "      <td>491.0</td>\n",
       "      <td>Early Seral</td>\n",
       "      <td>0.4</td>\n",
       "    </tr>\n",
       "    <tr>\n",
       "      <th>11</th>\n",
       "      <td>Red Fir</td>\n",
       "      <td>Mid (closed canopy)</td>\n",
       "      <td>20–30%</td>\n",
       "      <td>above target</td>\n",
       "      <td>36.55</td>\n",
       "      <td>33115500.0</td>\n",
       "      <td>8183.0</td>\n",
       "      <td>Mid Seral</td>\n",
       "      <td>5.9</td>\n",
       "    </tr>\n",
       "    <tr>\n",
       "      <th>12</th>\n",
       "      <td>Red Fir</td>\n",
       "      <td>Mid (open canopy)</td>\n",
       "      <td>5–15%</td>\n",
       "      <td>on target</td>\n",
       "      <td>12.48</td>\n",
       "      <td>11305800.0</td>\n",
       "      <td>2794.0</td>\n",
       "      <td>Mid Seral</td>\n",
       "      <td>2.0</td>\n",
       "    </tr>\n",
       "    <tr>\n",
       "      <th>13</th>\n",
       "      <td>Red Fir</td>\n",
       "      <td>Late (open canopy)</td>\n",
       "      <td>15–25%</td>\n",
       "      <td>on target</td>\n",
       "      <td>19.33</td>\n",
       "      <td>17513100.0</td>\n",
       "      <td>4328.0</td>\n",
       "      <td>Late Seral</td>\n",
       "      <td>3.1</td>\n",
       "    </tr>\n",
       "    <tr>\n",
       "      <th>14</th>\n",
       "      <td>Red Fir</td>\n",
       "      <td>Late (closed canopy)</td>\n",
       "      <td>25–35%</td>\n",
       "      <td>on target</td>\n",
       "      <td>29.45</td>\n",
       "      <td>26685900.0</td>\n",
       "      <td>6594.0</td>\n",
       "      <td>Late Seral</td>\n",
       "      <td>4.7</td>\n",
       "    </tr>\n",
       "    <tr>\n",
       "      <th>15</th>\n",
       "      <td>Sub Alpine Conifer</td>\n",
       "      <td>Early</td>\n",
       "      <td>10–20%</td>\n",
       "      <td>below target</td>\n",
       "      <td>1.32</td>\n",
       "      <td>634500.0</td>\n",
       "      <td>157.0</td>\n",
       "      <td>Early Seral</td>\n",
       "      <td>0.1</td>\n",
       "    </tr>\n",
       "    <tr>\n",
       "      <th>16</th>\n",
       "      <td>Sub Alpine Conifer</td>\n",
       "      <td>Mid (closed canopy)</td>\n",
       "      <td>10–20%</td>\n",
       "      <td>above target</td>\n",
       "      <td>39.26</td>\n",
       "      <td>18913500.0</td>\n",
       "      <td>4674.0</td>\n",
       "      <td>Mid Seral</td>\n",
       "      <td>3.3</td>\n",
       "    </tr>\n",
       "    <tr>\n",
       "      <th>17</th>\n",
       "      <td>Sub Alpine Conifer</td>\n",
       "      <td>Mid (open canopy)</td>\n",
       "      <td>5–15%</td>\n",
       "      <td>on target</td>\n",
       "      <td>5.68</td>\n",
       "      <td>2736900.0</td>\n",
       "      <td>676.0</td>\n",
       "      <td>Mid Seral</td>\n",
       "      <td>0.5</td>\n",
       "    </tr>\n",
       "    <tr>\n",
       "      <th>18</th>\n",
       "      <td>Sub Alpine Conifer</td>\n",
       "      <td>Late (open canopy)</td>\n",
       "      <td>15–25%</td>\n",
       "      <td>below target</td>\n",
       "      <td>6.32</td>\n",
       "      <td>3043800.0</td>\n",
       "      <td>752.0</td>\n",
       "      <td>Late Seral</td>\n",
       "      <td>0.5</td>\n",
       "    </tr>\n",
       "    <tr>\n",
       "      <th>19</th>\n",
       "      <td>Sub Alpine Conifer</td>\n",
       "      <td>Late (closed canopy)</td>\n",
       "      <td>10–20%</td>\n",
       "      <td>above target</td>\n",
       "      <td>47.42</td>\n",
       "      <td>22840200.0</td>\n",
       "      <td>5644.0</td>\n",
       "      <td>Late Seral</td>\n",
       "      <td>4.0</td>\n",
       "    </tr>\n",
       "    <tr>\n",
       "      <th>20</th>\n",
       "      <td>Aspen</td>\n",
       "      <td>Early</td>\n",
       "      <td>10–20%</td>\n",
       "      <td>below target</td>\n",
       "      <td>0.88</td>\n",
       "      <td>18900.0</td>\n",
       "      <td>5.0</td>\n",
       "      <td>Early Seral</td>\n",
       "      <td>0.0</td>\n",
       "    </tr>\n",
       "    <tr>\n",
       "      <th>21</th>\n",
       "      <td>Aspen</td>\n",
       "      <td>Mid (closed canopy)</td>\n",
       "      <td>5–15%</td>\n",
       "      <td>above target</td>\n",
       "      <td>55.57</td>\n",
       "      <td>1194300.0</td>\n",
       "      <td>295.0</td>\n",
       "      <td>Mid Seral</td>\n",
       "      <td>0.2</td>\n",
       "    </tr>\n",
       "    <tr>\n",
       "      <th>22</th>\n",
       "      <td>Aspen</td>\n",
       "      <td>Mid (open canopy)</td>\n",
       "      <td>10–20%</td>\n",
       "      <td>above target</td>\n",
       "      <td>31.32</td>\n",
       "      <td>673200.0</td>\n",
       "      <td>166.0</td>\n",
       "      <td>Mid Seral</td>\n",
       "      <td>0.1</td>\n",
       "    </tr>\n",
       "    <tr>\n",
       "      <th>23</th>\n",
       "      <td>Aspen</td>\n",
       "      <td>Late (open canopy)</td>\n",
       "      <td>15–25%</td>\n",
       "      <td>below target</td>\n",
       "      <td>6.37</td>\n",
       "      <td>136800.0</td>\n",
       "      <td>34.0</td>\n",
       "      <td>Late Seral</td>\n",
       "      <td>0.0</td>\n",
       "    </tr>\n",
       "    <tr>\n",
       "      <th>24</th>\n",
       "      <td>Aspen</td>\n",
       "      <td>Late (closed canopy)</td>\n",
       "      <td>25–35%</td>\n",
       "      <td>below target</td>\n",
       "      <td>5.86</td>\n",
       "      <td>126000.0</td>\n",
       "      <td>31.0</td>\n",
       "      <td>Late Seral</td>\n",
       "      <td>0.0</td>\n",
       "    </tr>\n",
       "  </tbody>\n",
       "</table>\n",
       "</div>"
      ],
      "text/plain": [
       "           Forest Type              Category Desired % Range Classification  \\\n",
       "0         Jeffrey Pine                 Early           5–15%   below target   \n",
       "1         Jeffrey Pine   Mid (closed canopy)           5–10%   above target   \n",
       "2         Jeffrey Pine     Mid (open canopy)          25–30%      on target   \n",
       "3         Jeffrey Pine    Late (open canopy)          45–50%   below target   \n",
       "4         Jeffrey Pine  Late (closed canopy)           5–10%   above target   \n",
       "5            White Fir                 Early          10–20%   below target   \n",
       "6            White Fir   Mid (closed canopy)           5–15%   above target   \n",
       "7            White Fir     Mid (open canopy)          10–15%   above target   \n",
       "8            White Fir    Late (open canopy)          30–40%   below target   \n",
       "9            White Fir  Late (closed canopy)          20–30%   below target   \n",
       "10             Red Fir                 Early          10–20%   below target   \n",
       "11             Red Fir   Mid (closed canopy)          20–30%   above target   \n",
       "12             Red Fir     Mid (open canopy)           5–15%      on target   \n",
       "13             Red Fir    Late (open canopy)          15–25%      on target   \n",
       "14             Red Fir  Late (closed canopy)          25–35%      on target   \n",
       "15  Sub Alpine Conifer                 Early          10–20%   below target   \n",
       "16  Sub Alpine Conifer   Mid (closed canopy)          10–20%   above target   \n",
       "17  Sub Alpine Conifer     Mid (open canopy)           5–15%      on target   \n",
       "18  Sub Alpine Conifer    Late (open canopy)          15–25%   below target   \n",
       "19  Sub Alpine Conifer  Late (closed canopy)          10–20%   above target   \n",
       "20               Aspen                 Early          10–20%   below target   \n",
       "21               Aspen   Mid (closed canopy)           5–15%   above target   \n",
       "22               Aspen     Mid (open canopy)          10–20%   above target   \n",
       "23               Aspen    Late (open canopy)          15–25%   below target   \n",
       "24               Aspen  Late (closed canopy)          25–35%   below target   \n",
       "\n",
       "    Current Area %   Area (m²)    Acres   SeralStage  Percentage  \n",
       "0             2.12   3492900.0    863.0  Early Seral         0.6  \n",
       "1            28.48  46978200.0  11609.0    Mid Seral         8.3  \n",
       "2            27.75  45772200.0  11311.0    Mid Seral         8.1  \n",
       "3            27.28  44996400.0  11119.0   Late Seral         8.0  \n",
       "4            14.37  23700600.0   5857.0   Late Seral         4.2  \n",
       "5             3.45   8957700.0   2213.0  Early Seral         1.6  \n",
       "6            37.27  96792300.0  23918.0    Mid Seral        17.1  \n",
       "7            22.73  59042700.0  14590.0    Mid Seral        10.4  \n",
       "8            19.41  50410800.0  12457.0   Late Seral         8.9  \n",
       "9            17.14  44503200.0  10997.0   Late Seral         7.9  \n",
       "10            2.19   1987200.0    491.0  Early Seral         0.4  \n",
       "11           36.55  33115500.0   8183.0    Mid Seral         5.9  \n",
       "12           12.48  11305800.0   2794.0    Mid Seral         2.0  \n",
       "13           19.33  17513100.0   4328.0   Late Seral         3.1  \n",
       "14           29.45  26685900.0   6594.0   Late Seral         4.7  \n",
       "15            1.32    634500.0    157.0  Early Seral         0.1  \n",
       "16           39.26  18913500.0   4674.0    Mid Seral         3.3  \n",
       "17            5.68   2736900.0    676.0    Mid Seral         0.5  \n",
       "18            6.32   3043800.0    752.0   Late Seral         0.5  \n",
       "19           47.42  22840200.0   5644.0   Late Seral         4.0  \n",
       "20            0.88     18900.0      5.0  Early Seral         0.0  \n",
       "21           55.57   1194300.0    295.0    Mid Seral         0.2  \n",
       "22           31.32    673200.0    166.0    Mid Seral         0.1  \n",
       "23            6.37    136800.0     34.0   Late Seral         0.0  \n",
       "24            5.86    126000.0     31.0   Late Seral         0.0  "
      ]
     },
     "execution_count": 13,
     "metadata": {},
     "output_type": "execute_result"
    }
   ],
   "source": [
    "df"
   ]
  },
  {
   "cell_type": "code",
   "execution_count": 24,
   "id": "e188ceaf",
   "metadata": {},
   "outputs": [
    {
     "data": {
      "application/vnd.plotly.v1+json": {
       "config": {
        "plotlyServerURL": "https://plot.ly"
       },
       "data": [
        {
         "customdata": [
          [
           "Early"
          ]
         ],
         "hovertemplate": "<b>%{y:,.0f}</b> acres of the forested area is<br>in class <i>%{customdata[0]}</i><extra></extra>",
         "legendgroup": "Early",
         "marker": {
          "color": "#ABCD66",
          "line": {
           "color": "rgb(8,48,107)",
           "width": 0.1
          },
          "pattern": {
           "shape": ""
          }
         },
         "name": "Early",
         "opacity": 0.9,
         "orientation": "v",
         "showlegend": false,
         "text": [
          "2.7%"
         ],
         "textfont": {
          "size": 14
         },
         "textposition": "inside",
         "type": "bar",
         "x": [
          "Early Seral"
         ],
         "xaxis": "x",
         "y": {
          "bdata": "AAAAAAAirUA=",
          "dtype": "f8"
         },
         "yaxis": "y"
        },
        {
         "customdata": [
          [
           "Late (closed canopy)"
          ]
         ],
         "hovertemplate": "<b>%{y:,.0f}</b> acres of the forested area is<br>in class <i>%{customdata[0]}</i><extra></extra>",
         "legendgroup": "Late (closed canopy)",
         "marker": {
          "color": "#728944",
          "line": {
           "color": "rgb(8,48,107)",
           "width": 0.1
          },
          "pattern": {
           "shape": ""
          }
         },
         "name": "Late (closed canopy)",
         "opacity": 0.9,
         "orientation": "v",
         "showlegend": false,
         "text": [
          "20.8%"
         ],
         "textfont": {
          "size": 14
         },
         "textposition": "inside",
         "type": "bar",
         "x": [
          "Late Seral"
         ],
         "xaxis": "x",
         "y": {
          "bdata": "AAAAAMBw3EA=",
          "dtype": "f8"
         },
         "yaxis": "y"
        },
        {
         "customdata": [
          [
           "Late (open canopy)"
          ]
         ],
         "hovertemplate": "<b>%{y:,.0f}</b> acres of the forested area is<br>in class <i>%{customdata[0]}</i><extra></extra>",
         "legendgroup": "Late (open canopy)",
         "marker": {
          "color": "#ABCD66",
          "line": {
           "color": "rgb(8,48,107)",
           "width": 0.1
          },
          "pattern": {
           "shape": ""
          }
         },
         "name": "Late (open canopy)",
         "opacity": 0.9,
         "orientation": "v",
         "showlegend": false,
         "text": [
          "20.5%"
         ],
         "textfont": {
          "size": 14
         },
         "textposition": "inside",
         "type": "bar",
         "x": [
          "Late Seral"
         ],
         "xaxis": "x",
         "y": {
          "bdata": "AAAAAIAE3EA=",
          "dtype": "f8"
         },
         "yaxis": "y"
        },
        {
         "customdata": [
          [
           "Mid (closed canopy)"
          ]
         ],
         "hovertemplate": "<b>%{y:,.0f}</b> acres of the forested area is<br>in class <i>%{customdata[0]}</i><extra></extra>",
         "legendgroup": "Mid (closed canopy)",
         "marker": {
          "color": "#728944",
          "line": {
           "color": "rgb(8,48,107)",
           "width": 0.1
          },
          "pattern": {
           "shape": ""
          }
         },
         "name": "Mid (closed canopy)",
         "opacity": 0.9,
         "orientation": "v",
         "showlegend": false,
         "text": [
          "34.8%"
         ],
         "textfont": {
          "size": 14
         },
         "textposition": "inside",
         "type": "bar",
         "x": [
          "Mid Seral"
         ],
         "xaxis": "x",
         "y": {
          "bdata": "AAAAAODE50A=",
          "dtype": "f8"
         },
         "yaxis": "y"
        },
        {
         "customdata": [
          [
           "Mid (open canopy)"
          ]
         ],
         "hovertemplate": "<b>%{y:,.0f}</b> acres of the forested area is<br>in class <i>%{customdata[0]}</i><extra></extra>",
         "legendgroup": "Mid (open canopy)",
         "marker": {
          "color": "#ABCD66",
          "line": {
           "color": "rgb(8,48,107)",
           "width": 0.1
          },
          "pattern": {
           "shape": ""
          }
         },
         "name": "Mid (open canopy)",
         "opacity": 0.9,
         "orientation": "v",
         "showlegend": false,
         "text": [
          "21.1%"
         ],
         "textfont": {
          "size": 14
         },
         "textposition": "inside",
         "type": "bar",
         "x": [
          "Mid Seral"
         ],
         "xaxis": "x",
         "y": {
          "bdata": "AAAAAEDY3EA=",
          "dtype": "f8"
         },
         "yaxis": "y"
        }
       ],
       "layout": {
        "barmode": "relative",
        "font": {
         "color": "#6680a8",
         "family": "Calibri"
        },
        "hovermode": "x unified",
        "legend": {
         "orientation": "h",
         "title": {
          "text": ""
         },
         "tracegroupgap": 0,
         "x": 1,
         "xanchor": "right",
         "y": 1.02,
         "yanchor": "bottom"
        },
        "plot_bgcolor": "white",
        "showlegend": true,
        "template": {
         "data": {
          "bar": [
           {
            "error_x": {
             "color": "#2a3f5f"
            },
            "error_y": {
             "color": "#2a3f5f"
            },
            "marker": {
             "line": {
              "color": "white",
              "width": 0.5
             },
             "pattern": {
              "fillmode": "overlay",
              "size": 10,
              "solidity": 0.2
             }
            },
            "type": "bar"
           }
          ],
          "barpolar": [
           {
            "marker": {
             "line": {
              "color": "white",
              "width": 0.5
             },
             "pattern": {
              "fillmode": "overlay",
              "size": 10,
              "solidity": 0.2
             }
            },
            "type": "barpolar"
           }
          ],
          "carpet": [
           {
            "aaxis": {
             "endlinecolor": "#2a3f5f",
             "gridcolor": "#C8D4E3",
             "linecolor": "#C8D4E3",
             "minorgridcolor": "#C8D4E3",
             "startlinecolor": "#2a3f5f"
            },
            "baxis": {
             "endlinecolor": "#2a3f5f",
             "gridcolor": "#C8D4E3",
             "linecolor": "#C8D4E3",
             "minorgridcolor": "#C8D4E3",
             "startlinecolor": "#2a3f5f"
            },
            "type": "carpet"
           }
          ],
          "choropleth": [
           {
            "colorbar": {
             "outlinewidth": 0,
             "ticks": ""
            },
            "type": "choropleth"
           }
          ],
          "contour": [
           {
            "colorbar": {
             "outlinewidth": 0,
             "ticks": ""
            },
            "colorscale": [
             [
              0,
              "#0d0887"
             ],
             [
              0.1111111111111111,
              "#46039f"
             ],
             [
              0.2222222222222222,
              "#7201a8"
             ],
             [
              0.3333333333333333,
              "#9c179e"
             ],
             [
              0.4444444444444444,
              "#bd3786"
             ],
             [
              0.5555555555555556,
              "#d8576b"
             ],
             [
              0.6666666666666666,
              "#ed7953"
             ],
             [
              0.7777777777777778,
              "#fb9f3a"
             ],
             [
              0.8888888888888888,
              "#fdca26"
             ],
             [
              1,
              "#f0f921"
             ]
            ],
            "type": "contour"
           }
          ],
          "contourcarpet": [
           {
            "colorbar": {
             "outlinewidth": 0,
             "ticks": ""
            },
            "type": "contourcarpet"
           }
          ],
          "heatmap": [
           {
            "colorbar": {
             "outlinewidth": 0,
             "ticks": ""
            },
            "colorscale": [
             [
              0,
              "#0d0887"
             ],
             [
              0.1111111111111111,
              "#46039f"
             ],
             [
              0.2222222222222222,
              "#7201a8"
             ],
             [
              0.3333333333333333,
              "#9c179e"
             ],
             [
              0.4444444444444444,
              "#bd3786"
             ],
             [
              0.5555555555555556,
              "#d8576b"
             ],
             [
              0.6666666666666666,
              "#ed7953"
             ],
             [
              0.7777777777777778,
              "#fb9f3a"
             ],
             [
              0.8888888888888888,
              "#fdca26"
             ],
             [
              1,
              "#f0f921"
             ]
            ],
            "type": "heatmap"
           }
          ],
          "histogram": [
           {
            "marker": {
             "pattern": {
              "fillmode": "overlay",
              "size": 10,
              "solidity": 0.2
             }
            },
            "type": "histogram"
           }
          ],
          "histogram2d": [
           {
            "colorbar": {
             "outlinewidth": 0,
             "ticks": ""
            },
            "colorscale": [
             [
              0,
              "#0d0887"
             ],
             [
              0.1111111111111111,
              "#46039f"
             ],
             [
              0.2222222222222222,
              "#7201a8"
             ],
             [
              0.3333333333333333,
              "#9c179e"
             ],
             [
              0.4444444444444444,
              "#bd3786"
             ],
             [
              0.5555555555555556,
              "#d8576b"
             ],
             [
              0.6666666666666666,
              "#ed7953"
             ],
             [
              0.7777777777777778,
              "#fb9f3a"
             ],
             [
              0.8888888888888888,
              "#fdca26"
             ],
             [
              1,
              "#f0f921"
             ]
            ],
            "type": "histogram2d"
           }
          ],
          "histogram2dcontour": [
           {
            "colorbar": {
             "outlinewidth": 0,
             "ticks": ""
            },
            "colorscale": [
             [
              0,
              "#0d0887"
             ],
             [
              0.1111111111111111,
              "#46039f"
             ],
             [
              0.2222222222222222,
              "#7201a8"
             ],
             [
              0.3333333333333333,
              "#9c179e"
             ],
             [
              0.4444444444444444,
              "#bd3786"
             ],
             [
              0.5555555555555556,
              "#d8576b"
             ],
             [
              0.6666666666666666,
              "#ed7953"
             ],
             [
              0.7777777777777778,
              "#fb9f3a"
             ],
             [
              0.8888888888888888,
              "#fdca26"
             ],
             [
              1,
              "#f0f921"
             ]
            ],
            "type": "histogram2dcontour"
           }
          ],
          "mesh3d": [
           {
            "colorbar": {
             "outlinewidth": 0,
             "ticks": ""
            },
            "type": "mesh3d"
           }
          ],
          "parcoords": [
           {
            "line": {
             "colorbar": {
              "outlinewidth": 0,
              "ticks": ""
             }
            },
            "type": "parcoords"
           }
          ],
          "pie": [
           {
            "automargin": true,
            "type": "pie"
           }
          ],
          "scatter": [
           {
            "fillpattern": {
             "fillmode": "overlay",
             "size": 10,
             "solidity": 0.2
            },
            "type": "scatter"
           }
          ],
          "scatter3d": [
           {
            "line": {
             "colorbar": {
              "outlinewidth": 0,
              "ticks": ""
             }
            },
            "marker": {
             "colorbar": {
              "outlinewidth": 0,
              "ticks": ""
             }
            },
            "type": "scatter3d"
           }
          ],
          "scattercarpet": [
           {
            "marker": {
             "colorbar": {
              "outlinewidth": 0,
              "ticks": ""
             }
            },
            "type": "scattercarpet"
           }
          ],
          "scattergeo": [
           {
            "marker": {
             "colorbar": {
              "outlinewidth": 0,
              "ticks": ""
             }
            },
            "type": "scattergeo"
           }
          ],
          "scattergl": [
           {
            "marker": {
             "colorbar": {
              "outlinewidth": 0,
              "ticks": ""
             }
            },
            "type": "scattergl"
           }
          ],
          "scattermap": [
           {
            "marker": {
             "colorbar": {
              "outlinewidth": 0,
              "ticks": ""
             }
            },
            "type": "scattermap"
           }
          ],
          "scattermapbox": [
           {
            "marker": {
             "colorbar": {
              "outlinewidth": 0,
              "ticks": ""
             }
            },
            "type": "scattermapbox"
           }
          ],
          "scatterpolar": [
           {
            "marker": {
             "colorbar": {
              "outlinewidth": 0,
              "ticks": ""
             }
            },
            "type": "scatterpolar"
           }
          ],
          "scatterpolargl": [
           {
            "marker": {
             "colorbar": {
              "outlinewidth": 0,
              "ticks": ""
             }
            },
            "type": "scatterpolargl"
           }
          ],
          "scatterternary": [
           {
            "marker": {
             "colorbar": {
              "outlinewidth": 0,
              "ticks": ""
             }
            },
            "type": "scatterternary"
           }
          ],
          "surface": [
           {
            "colorbar": {
             "outlinewidth": 0,
             "ticks": ""
            },
            "colorscale": [
             [
              0,
              "#0d0887"
             ],
             [
              0.1111111111111111,
              "#46039f"
             ],
             [
              0.2222222222222222,
              "#7201a8"
             ],
             [
              0.3333333333333333,
              "#9c179e"
             ],
             [
              0.4444444444444444,
              "#bd3786"
             ],
             [
              0.5555555555555556,
              "#d8576b"
             ],
             [
              0.6666666666666666,
              "#ed7953"
             ],
             [
              0.7777777777777778,
              "#fb9f3a"
             ],
             [
              0.8888888888888888,
              "#fdca26"
             ],
             [
              1,
              "#f0f921"
             ]
            ],
            "type": "surface"
           }
          ],
          "table": [
           {
            "cells": {
             "fill": {
              "color": "#EBF0F8"
             },
             "line": {
              "color": "white"
             }
            },
            "header": {
             "fill": {
              "color": "#C8D4E3"
             },
             "line": {
              "color": "white"
             }
            },
            "type": "table"
           }
          ]
         },
         "layout": {
          "annotationdefaults": {
           "arrowcolor": "#2a3f5f",
           "arrowhead": 0,
           "arrowwidth": 1
          },
          "autotypenumbers": "strict",
          "coloraxis": {
           "colorbar": {
            "outlinewidth": 0,
            "ticks": ""
           }
          },
          "colorscale": {
           "diverging": [
            [
             0,
             "#8e0152"
            ],
            [
             0.1,
             "#c51b7d"
            ],
            [
             0.2,
             "#de77ae"
            ],
            [
             0.3,
             "#f1b6da"
            ],
            [
             0.4,
             "#fde0ef"
            ],
            [
             0.5,
             "#f7f7f7"
            ],
            [
             0.6,
             "#e6f5d0"
            ],
            [
             0.7,
             "#b8e186"
            ],
            [
             0.8,
             "#7fbc41"
            ],
            [
             0.9,
             "#4d9221"
            ],
            [
             1,
             "#276419"
            ]
           ],
           "sequential": [
            [
             0,
             "#0d0887"
            ],
            [
             0.1111111111111111,
             "#46039f"
            ],
            [
             0.2222222222222222,
             "#7201a8"
            ],
            [
             0.3333333333333333,
             "#9c179e"
            ],
            [
             0.4444444444444444,
             "#bd3786"
            ],
            [
             0.5555555555555556,
             "#d8576b"
            ],
            [
             0.6666666666666666,
             "#ed7953"
            ],
            [
             0.7777777777777778,
             "#fb9f3a"
            ],
            [
             0.8888888888888888,
             "#fdca26"
            ],
            [
             1,
             "#f0f921"
            ]
           ],
           "sequentialminus": [
            [
             0,
             "#0d0887"
            ],
            [
             0.1111111111111111,
             "#46039f"
            ],
            [
             0.2222222222222222,
             "#7201a8"
            ],
            [
             0.3333333333333333,
             "#9c179e"
            ],
            [
             0.4444444444444444,
             "#bd3786"
            ],
            [
             0.5555555555555556,
             "#d8576b"
            ],
            [
             0.6666666666666666,
             "#ed7953"
            ],
            [
             0.7777777777777778,
             "#fb9f3a"
            ],
            [
             0.8888888888888888,
             "#fdca26"
            ],
            [
             1,
             "#f0f921"
            ]
           ]
          },
          "colorway": [
           "#636efa",
           "#EF553B",
           "#00cc96",
           "#ab63fa",
           "#FFA15A",
           "#19d3f3",
           "#FF6692",
           "#B6E880",
           "#FF97FF",
           "#FECB52"
          ],
          "font": {
           "color": "#2a3f5f"
          },
          "geo": {
           "bgcolor": "white",
           "lakecolor": "white",
           "landcolor": "white",
           "showlakes": true,
           "showland": true,
           "subunitcolor": "#C8D4E3"
          },
          "hoverlabel": {
           "align": "left"
          },
          "hovermode": "closest",
          "mapbox": {
           "style": "light"
          },
          "paper_bgcolor": "white",
          "plot_bgcolor": "white",
          "polar": {
           "angularaxis": {
            "gridcolor": "#EBF0F8",
            "linecolor": "#EBF0F8",
            "ticks": ""
           },
           "bgcolor": "white",
           "radialaxis": {
            "gridcolor": "#EBF0F8",
            "linecolor": "#EBF0F8",
            "ticks": ""
           }
          },
          "scene": {
           "xaxis": {
            "backgroundcolor": "white",
            "gridcolor": "#DFE8F3",
            "gridwidth": 2,
            "linecolor": "#EBF0F8",
            "showbackground": true,
            "ticks": "",
            "zerolinecolor": "#EBF0F8"
           },
           "yaxis": {
            "backgroundcolor": "white",
            "gridcolor": "#DFE8F3",
            "gridwidth": 2,
            "linecolor": "#EBF0F8",
            "showbackground": true,
            "ticks": "",
            "zerolinecolor": "#EBF0F8"
           },
           "zaxis": {
            "backgroundcolor": "white",
            "gridcolor": "#DFE8F3",
            "gridwidth": 2,
            "linecolor": "#EBF0F8",
            "showbackground": true,
            "ticks": "",
            "zerolinecolor": "#EBF0F8"
           }
          },
          "shapedefaults": {
           "line": {
            "color": "#2a3f5f"
           }
          },
          "ternary": {
           "aaxis": {
            "gridcolor": "#DFE8F3",
            "linecolor": "#A2B1C6",
            "ticks": ""
           },
           "baxis": {
            "gridcolor": "#DFE8F3",
            "linecolor": "#A2B1C6",
            "ticks": ""
           },
           "bgcolor": "white",
           "caxis": {
            "gridcolor": "#DFE8F3",
            "linecolor": "#A2B1C6",
            "ticks": ""
           }
          },
          "title": {
           "x": 0.05
          },
          "xaxis": {
           "automargin": true,
           "gridcolor": "#EBF0F8",
           "linecolor": "#EBF0F8",
           "ticks": "",
           "title": {
            "standoff": 15
           },
           "zerolinecolor": "#EBF0F8",
           "zerolinewidth": 2
          },
          "yaxis": {
           "automargin": true,
           "gridcolor": "#EBF0F8",
           "linecolor": "#EBF0F8",
           "ticks": "",
           "title": {
            "standoff": 15
           },
           "zerolinecolor": "#EBF0F8",
           "zerolinewidth": 2
          }
         }
        },
        "title": {
         "font": {
          "color": "#6680a8",
          "size": 20
         },
         "text": "Seral Stage by Canopy Cover Class",
         "x": 0.5
        },
        "uniformtext": {
         "minsize": 8,
         "mode": "hide"
        },
        "xaxis": {
         "anchor": "y",
         "categoryarray": [
          "Early Seral",
          "Mid Seral",
          "Late Seral"
         ],
         "categoryorder": "array",
         "domain": [
          0,
          1
         ],
         "title": {
          "text": "Seral Stage"
         }
        },
        "yaxis": {
         "anchor": "x",
         "domain": [
          0,
          1
         ],
         "title": {
          "text": "Acres"
         }
        }
       }
      }
     },
     "metadata": {},
     "output_type": "display_data"
    }
   ],
   "source": [
    "# stacked bar chart of seral stage by canopy cover class\n",
    "df = pd.read_csv(output / \"seral_stage_with_classification.csv\")\n",
    "\n",
    "# rename columns for clarity\n",
    "df.rename(columns = {\n",
    "    'Seral Stage':'Category',\n",
    "    'Area (acres)':'Acres'\n",
    "    }, inplace = True)\n",
    "\n",
    "# classify seral stage by category Early Seral Opne - Early Seral, etch\n",
    "df['SeralStage'] = df['Category'].replace(\n",
    "    {'Early': 'Early Seral',\n",
    "    'Mid (closed canopy)': 'Mid Seral',\n",
    "    'Mid (open canopy)': 'Mid Seral',\n",
    "    'Late (open canopy)': 'Late Seral',\n",
    "    'Late (closed canopy)': 'Late Seral'\n",
    "    }\n",
    ")\n",
    "# melt then group by seral stage and category and sum acres\n",
    "df = df.melt(id_vars=['SeralStage', 'Category'], value_vars=['Acres'])\n",
    "df = df.groupby(['SeralStage', 'Category']).sum().reset_index()\n",
    "# remove the \"SeralStage\" column from the melted DataFrame\n",
    "df = df.drop(columns=['variable'])\n",
    "# change value to Acres\n",
    "df.rename(columns = {\n",
    "    'value':'Acres'\n",
    "    }, inplace = True)\n",
    "\n",
    "# order the categories by the order of the seral stage\n",
    "df['SeralStage'] = pd.Categorical(df['SeralStage'],\n",
    "                        categories=['Early Seral', 'Mid Seral', 'Late Seral'],\n",
    "                        ordered=True)\n",
    "\n",
    "## get the percentage of acres in each category\n",
    "df['Percentage'] = ((df['Acres'] / df['Acres'].sum()) * 100).round(1)\n",
    "\n",
    "fig = px.bar(df, x=\"SeralStage\", y=\"Acres\", \n",
    "            color=\"Category\",\n",
    "            text=df['Percentage'].astype(str) + '%',\n",
    "            title=\"Seral Stage by Canopy Cover Class\",\n",
    "            color_discrete_sequence=[\"#ABCD66\", \"#728944\"],\n",
    "            custom_data=[\"Category\"],\n",
    "            category_orders={\"SeralStage\": ['Early Seral', 'Mid Seral', 'Late Seral']},\n",
    "            )\n",
    "fig.update_traces(marker_line_color='rgb(8,48,107)',\n",
    "                    marker_line_width=0.1, opacity=0.9,\n",
    "                    textfont_size=14, textposition=\"inside\",\n",
    "                    hovertemplate=\"<br>\".join(\n",
    "                        [\"<b>%{y:,.0f}</b> acres of the forested area is\", \n",
    "                            \"in class <i>%{customdata[0]}</i>\"]\n",
    "                    )\n",
    "                    + \"<extra></extra>\",\n",
    "            )\n",
    "fig.update_layout(title_x=0.5, title_font_size=20,\n",
    "                    uniformtext_minsize=8, uniformtext_mode='hide',\n",
    "                    title_font_color='#6680a8',\n",
    "                    xaxis_title=\"Seral Stage\",\n",
    "                    yaxis_title=\"Acres\",\n",
    "                    hovermode=\"x unified\",\n",
    "                    template=template,\n",
    "                    legend=dict(title_text='',\n",
    "                                orientation=\"h\",\n",
    "                                yanchor=\"bottom\",\n",
    "                                y=1.02,\n",
    "                                xanchor=\"right\",\n",
    "                                x=1),\n",
    "                    legend_title_text='',\n",
    "                    font_family=font,\n",
    "                    font_color='#6680a8',\n",
    "                    plot_bgcolor='white',\n",
    "                    showlegend=True\n",
    "                        )\n",
    "# no legendd\n",
    "fig.update_traces(showlegend=False)\n",
    "fig.show()\n",
    "# save to HTML\n",
    "fig.write_html(config = {\"displayModeBar\": False},\n",
    "               file=\"DataVisualizations/CompositionAge_Chart.html\", \n",
    "               full_html= False, \n",
    "               include_plotlyjs='cdn')"
   ]
  },
  {
   "cell_type": "code",
   "execution_count": 16,
   "id": "90df2fdc",
   "metadata": {},
   "outputs": [
    {
     "data": {
      "application/vnd.microsoft.datawrangler.viewer.v0+json": {
       "columns": [
        {
         "name": "index",
         "rawType": "int64",
         "type": "integer"
        },
        {
         "name": "SeralStage",
         "rawType": "object",
         "type": "string"
        },
        {
         "name": "Category",
         "rawType": "object",
         "type": "string"
        },
        {
         "name": "variable",
         "rawType": "object",
         "type": "string"
        },
        {
         "name": "value",
         "rawType": "float64",
         "type": "float"
        }
       ],
       "conversionMethod": "pd.DataFrame",
       "ref": "e9fc3d96-7047-4346-9e26-bd3d00c2ec34",
       "rows": [
        [
         "0",
         "Early Seral",
         "Early",
         "Acres",
         "863.0"
        ],
        [
         "1",
         "Mid Seral",
         "Mid (closed canopy)",
         "Acres",
         "11609.0"
        ],
        [
         "2",
         "Mid Seral",
         "Mid (open canopy)",
         "Acres",
         "11311.0"
        ],
        [
         "3",
         "Late Seral",
         "Late (open canopy)",
         "Acres",
         "11119.0"
        ],
        [
         "4",
         "Late Seral",
         "Late (closed canopy)",
         "Acres",
         "5857.0"
        ],
        [
         "5",
         "Early Seral",
         "Early",
         "Acres",
         "2213.0"
        ],
        [
         "6",
         "Mid Seral",
         "Mid (closed canopy)",
         "Acres",
         "23918.0"
        ],
        [
         "7",
         "Mid Seral",
         "Mid (open canopy)",
         "Acres",
         "14590.0"
        ],
        [
         "8",
         "Late Seral",
         "Late (open canopy)",
         "Acres",
         "12457.0"
        ],
        [
         "9",
         "Late Seral",
         "Late (closed canopy)",
         "Acres",
         "10997.0"
        ],
        [
         "10",
         "Early Seral",
         "Early",
         "Acres",
         "491.0"
        ],
        [
         "11",
         "Mid Seral",
         "Mid (closed canopy)",
         "Acres",
         "8183.0"
        ],
        [
         "12",
         "Mid Seral",
         "Mid (open canopy)",
         "Acres",
         "2794.0"
        ],
        [
         "13",
         "Late Seral",
         "Late (open canopy)",
         "Acres",
         "4328.0"
        ],
        [
         "14",
         "Late Seral",
         "Late (closed canopy)",
         "Acres",
         "6594.0"
        ],
        [
         "15",
         "Early Seral",
         "Early",
         "Acres",
         "157.0"
        ],
        [
         "16",
         "Mid Seral",
         "Mid (closed canopy)",
         "Acres",
         "4674.0"
        ],
        [
         "17",
         "Mid Seral",
         "Mid (open canopy)",
         "Acres",
         "676.0"
        ],
        [
         "18",
         "Late Seral",
         "Late (open canopy)",
         "Acres",
         "752.0"
        ],
        [
         "19",
         "Late Seral",
         "Late (closed canopy)",
         "Acres",
         "5644.0"
        ],
        [
         "20",
         "Early Seral",
         "Early",
         "Acres",
         "5.0"
        ],
        [
         "21",
         "Mid Seral",
         "Mid (closed canopy)",
         "Acres",
         "295.0"
        ],
        [
         "22",
         "Mid Seral",
         "Mid (open canopy)",
         "Acres",
         "166.0"
        ],
        [
         "23",
         "Late Seral",
         "Late (open canopy)",
         "Acres",
         "34.0"
        ],
        [
         "24",
         "Late Seral",
         "Late (closed canopy)",
         "Acres",
         "31.0"
        ]
       ],
       "shape": {
        "columns": 4,
        "rows": 25
       }
      },
      "text/html": [
       "<div>\n",
       "<style scoped>\n",
       "    .dataframe tbody tr th:only-of-type {\n",
       "        vertical-align: middle;\n",
       "    }\n",
       "\n",
       "    .dataframe tbody tr th {\n",
       "        vertical-align: top;\n",
       "    }\n",
       "\n",
       "    .dataframe thead th {\n",
       "        text-align: right;\n",
       "    }\n",
       "</style>\n",
       "<table border=\"1\" class=\"dataframe\">\n",
       "  <thead>\n",
       "    <tr style=\"text-align: right;\">\n",
       "      <th></th>\n",
       "      <th>SeralStage</th>\n",
       "      <th>Category</th>\n",
       "      <th>variable</th>\n",
       "      <th>value</th>\n",
       "    </tr>\n",
       "  </thead>\n",
       "  <tbody>\n",
       "    <tr>\n",
       "      <th>0</th>\n",
       "      <td>Early Seral</td>\n",
       "      <td>Early</td>\n",
       "      <td>Acres</td>\n",
       "      <td>863.0</td>\n",
       "    </tr>\n",
       "    <tr>\n",
       "      <th>1</th>\n",
       "      <td>Mid Seral</td>\n",
       "      <td>Mid (closed canopy)</td>\n",
       "      <td>Acres</td>\n",
       "      <td>11609.0</td>\n",
       "    </tr>\n",
       "    <tr>\n",
       "      <th>2</th>\n",
       "      <td>Mid Seral</td>\n",
       "      <td>Mid (open canopy)</td>\n",
       "      <td>Acres</td>\n",
       "      <td>11311.0</td>\n",
       "    </tr>\n",
       "    <tr>\n",
       "      <th>3</th>\n",
       "      <td>Late Seral</td>\n",
       "      <td>Late (open canopy)</td>\n",
       "      <td>Acres</td>\n",
       "      <td>11119.0</td>\n",
       "    </tr>\n",
       "    <tr>\n",
       "      <th>4</th>\n",
       "      <td>Late Seral</td>\n",
       "      <td>Late (closed canopy)</td>\n",
       "      <td>Acres</td>\n",
       "      <td>5857.0</td>\n",
       "    </tr>\n",
       "    <tr>\n",
       "      <th>5</th>\n",
       "      <td>Early Seral</td>\n",
       "      <td>Early</td>\n",
       "      <td>Acres</td>\n",
       "      <td>2213.0</td>\n",
       "    </tr>\n",
       "    <tr>\n",
       "      <th>6</th>\n",
       "      <td>Mid Seral</td>\n",
       "      <td>Mid (closed canopy)</td>\n",
       "      <td>Acres</td>\n",
       "      <td>23918.0</td>\n",
       "    </tr>\n",
       "    <tr>\n",
       "      <th>7</th>\n",
       "      <td>Mid Seral</td>\n",
       "      <td>Mid (open canopy)</td>\n",
       "      <td>Acres</td>\n",
       "      <td>14590.0</td>\n",
       "    </tr>\n",
       "    <tr>\n",
       "      <th>8</th>\n",
       "      <td>Late Seral</td>\n",
       "      <td>Late (open canopy)</td>\n",
       "      <td>Acres</td>\n",
       "      <td>12457.0</td>\n",
       "    </tr>\n",
       "    <tr>\n",
       "      <th>9</th>\n",
       "      <td>Late Seral</td>\n",
       "      <td>Late (closed canopy)</td>\n",
       "      <td>Acres</td>\n",
       "      <td>10997.0</td>\n",
       "    </tr>\n",
       "    <tr>\n",
       "      <th>10</th>\n",
       "      <td>Early Seral</td>\n",
       "      <td>Early</td>\n",
       "      <td>Acres</td>\n",
       "      <td>491.0</td>\n",
       "    </tr>\n",
       "    <tr>\n",
       "      <th>11</th>\n",
       "      <td>Mid Seral</td>\n",
       "      <td>Mid (closed canopy)</td>\n",
       "      <td>Acres</td>\n",
       "      <td>8183.0</td>\n",
       "    </tr>\n",
       "    <tr>\n",
       "      <th>12</th>\n",
       "      <td>Mid Seral</td>\n",
       "      <td>Mid (open canopy)</td>\n",
       "      <td>Acres</td>\n",
       "      <td>2794.0</td>\n",
       "    </tr>\n",
       "    <tr>\n",
       "      <th>13</th>\n",
       "      <td>Late Seral</td>\n",
       "      <td>Late (open canopy)</td>\n",
       "      <td>Acres</td>\n",
       "      <td>4328.0</td>\n",
       "    </tr>\n",
       "    <tr>\n",
       "      <th>14</th>\n",
       "      <td>Late Seral</td>\n",
       "      <td>Late (closed canopy)</td>\n",
       "      <td>Acres</td>\n",
       "      <td>6594.0</td>\n",
       "    </tr>\n",
       "    <tr>\n",
       "      <th>15</th>\n",
       "      <td>Early Seral</td>\n",
       "      <td>Early</td>\n",
       "      <td>Acres</td>\n",
       "      <td>157.0</td>\n",
       "    </tr>\n",
       "    <tr>\n",
       "      <th>16</th>\n",
       "      <td>Mid Seral</td>\n",
       "      <td>Mid (closed canopy)</td>\n",
       "      <td>Acres</td>\n",
       "      <td>4674.0</td>\n",
       "    </tr>\n",
       "    <tr>\n",
       "      <th>17</th>\n",
       "      <td>Mid Seral</td>\n",
       "      <td>Mid (open canopy)</td>\n",
       "      <td>Acres</td>\n",
       "      <td>676.0</td>\n",
       "    </tr>\n",
       "    <tr>\n",
       "      <th>18</th>\n",
       "      <td>Late Seral</td>\n",
       "      <td>Late (open canopy)</td>\n",
       "      <td>Acres</td>\n",
       "      <td>752.0</td>\n",
       "    </tr>\n",
       "    <tr>\n",
       "      <th>19</th>\n",
       "      <td>Late Seral</td>\n",
       "      <td>Late (closed canopy)</td>\n",
       "      <td>Acres</td>\n",
       "      <td>5644.0</td>\n",
       "    </tr>\n",
       "    <tr>\n",
       "      <th>20</th>\n",
       "      <td>Early Seral</td>\n",
       "      <td>Early</td>\n",
       "      <td>Acres</td>\n",
       "      <td>5.0</td>\n",
       "    </tr>\n",
       "    <tr>\n",
       "      <th>21</th>\n",
       "      <td>Mid Seral</td>\n",
       "      <td>Mid (closed canopy)</td>\n",
       "      <td>Acres</td>\n",
       "      <td>295.0</td>\n",
       "    </tr>\n",
       "    <tr>\n",
       "      <th>22</th>\n",
       "      <td>Mid Seral</td>\n",
       "      <td>Mid (open canopy)</td>\n",
       "      <td>Acres</td>\n",
       "      <td>166.0</td>\n",
       "    </tr>\n",
       "    <tr>\n",
       "      <th>23</th>\n",
       "      <td>Late Seral</td>\n",
       "      <td>Late (open canopy)</td>\n",
       "      <td>Acres</td>\n",
       "      <td>34.0</td>\n",
       "    </tr>\n",
       "    <tr>\n",
       "      <th>24</th>\n",
       "      <td>Late Seral</td>\n",
       "      <td>Late (closed canopy)</td>\n",
       "      <td>Acres</td>\n",
       "      <td>31.0</td>\n",
       "    </tr>\n",
       "  </tbody>\n",
       "</table>\n",
       "</div>"
      ],
      "text/plain": [
       "     SeralStage              Category variable    value\n",
       "0   Early Seral                 Early    Acres    863.0\n",
       "1     Mid Seral   Mid (closed canopy)    Acres  11609.0\n",
       "2     Mid Seral     Mid (open canopy)    Acres  11311.0\n",
       "3    Late Seral    Late (open canopy)    Acres  11119.0\n",
       "4    Late Seral  Late (closed canopy)    Acres   5857.0\n",
       "5   Early Seral                 Early    Acres   2213.0\n",
       "6     Mid Seral   Mid (closed canopy)    Acres  23918.0\n",
       "7     Mid Seral     Mid (open canopy)    Acres  14590.0\n",
       "8    Late Seral    Late (open canopy)    Acres  12457.0\n",
       "9    Late Seral  Late (closed canopy)    Acres  10997.0\n",
       "10  Early Seral                 Early    Acres    491.0\n",
       "11    Mid Seral   Mid (closed canopy)    Acres   8183.0\n",
       "12    Mid Seral     Mid (open canopy)    Acres   2794.0\n",
       "13   Late Seral    Late (open canopy)    Acres   4328.0\n",
       "14   Late Seral  Late (closed canopy)    Acres   6594.0\n",
       "15  Early Seral                 Early    Acres    157.0\n",
       "16    Mid Seral   Mid (closed canopy)    Acres   4674.0\n",
       "17    Mid Seral     Mid (open canopy)    Acres    676.0\n",
       "18   Late Seral    Late (open canopy)    Acres    752.0\n",
       "19   Late Seral  Late (closed canopy)    Acres   5644.0\n",
       "20  Early Seral                 Early    Acres      5.0\n",
       "21    Mid Seral   Mid (closed canopy)    Acres    295.0\n",
       "22    Mid Seral     Mid (open canopy)    Acres    166.0\n",
       "23   Late Seral    Late (open canopy)    Acres     34.0\n",
       "24   Late Seral  Late (closed canopy)    Acres     31.0"
      ]
     },
     "execution_count": 16,
     "metadata": {},
     "output_type": "execute_result"
    }
   ],
   "source": [
    "df"
   ]
  },
  {
   "cell_type": "markdown",
   "id": "16babb88",
   "metadata": {
    "heading_collapsed": true
   },
   "source": [
    "## Functional Fire"
   ]
  },
  {
   "cell_type": "code",
   "execution_count": null,
   "id": "ca652920",
   "metadata": {},
   "outputs": [],
   "source": [
    "# get data frame from feature class\n",
    "df_fire = pd.DataFrame.spatial.from_featureclass(\"ID_MGMTzones_FunctionalFire_DominantClass_Tahoe_SNVRRK\")\n",
    "\n",
    "df_fire['Name'] = df_fire['Name'].replace(\n",
    "    to_replace=[\n",
    "        \"Desolation Wilderness\",\n",
    "        \"Granite Chief Wilderness\",\n",
    "        \"Mt. Rose Wilderness\"\n",
    "    ],\n",
    "    value=\"Wilderness\"\n",
    ")\n",
    "\n",
    "lookup_dict = {\n",
    "    1: \"Low Severity\",\n",
    "    2: \"Moderate Severity\",\n",
    "    3: \"High Severity\"\n",
    "}\n",
    "dfMgmt_Fire = df_fire.groupby(['Name', 'gridcode']).agg({'Acres': 'sum'}).reset_index()\n",
    "dfMgmt_Fire.rename(columns={\"gridcode\": \"Fire Severity\", \"Acres\": \"Acres\"}, inplace=True)\n",
    "dfMgmt_Fire['Fire Severity'] = dfMgmt_Fire['Fire Severity'].map(lookup_dict)\n",
    "dfMgmt_Fire['Percentage'] = ((dfMgmt_Fire['Acres'] / dfMgmt_Fire['Acres'].sum()) * 100).round(1)\n",
    "dfMgmt_Fire['Acres'] = dfMgmt_Fire['Acres'].round(1)\n",
    "# filter out Name ''\n",
    "dfMgmt_Fire = dfMgmt_Fire[dfMgmt_Fire['Name'] != '']\n",
    "dfMgmt_Fire.to_csv(output / \"FireSeverity_ManagementZones.csv\", index=False)"
   ]
  },
  {
   "cell_type": "code",
   "execution_count": null,
   "id": "6a397150",
   "metadata": {},
   "outputs": [],
   "source": [
    "# stacked bar chart of severity by management zone\n",
    "fig = px.bar(dfMgmt_Fire, x=\"Name\", y=\"Acres\", \n",
    "            color=\"Fire Severity\",\n",
    "            text=dfMgmt_Fire['Percentage'].astype(str) + '%',\n",
    "            title=\"Fire Severity Probability by Management Zone\",\n",
    "            labels={\"Acres\": \"Acres\", \"Name\": \"Management Zone\"},\n",
    "            color_discrete_sequence=[\"#91bfdb\", \"#ffffbf\", \"#fc8d59\"],\n",
    "            custom_data=[\"Fire Severity\"]\n",
    "            )\n",
    "fig.update_traces(marker_line_color='rgb(8,48,107)',\n",
    "                    marker_line_width=0.1, opacity=0.9,\n",
    "                    textfont_size=14, textposition=\"inside\",\n",
    "                    hovertemplate=\"<br>\".join(\n",
    "                        [\"<b>%{y:,.0f}</b> of the forested area is\", \n",
    "                            \"likely to burn at <i>%{customdata[0]}</i>\"]\n",
    "                    )\n",
    "                    + \"<extra></extra>\",\n",
    "            )\n",
    "fig.update_layout(title_x=0.5, title_font_size=20,\n",
    "                    uniformtext_minsize=8, uniformtext_mode='hide',\n",
    "                    title_font_color='#6680a8',\n",
    "                    xaxis_title=\"Management Zone\",\n",
    "                    yaxis_title=\"Acres\",\n",
    "                    hovermode=\"x unified\",\n",
    "                    template=template,\n",
    "                    legend=dict(title_text='',\n",
    "                                orientation=\"h\",\n",
    "                                yanchor=\"bottom\",\n",
    "                                y=1.02,\n",
    "                                xanchor=\"right\",\n",
    "                                x=1),\n",
    "                    legend_title_text='Fire Severity',\n",
    "                    font_family=font,\n",
    "                    font_color='#6680a8',\n",
    "                    plot_bgcolor='white',\n",
    "                    showlegend=True\n",
    "                        )\n",
    "fig.show()\n",
    "# save to HTML\n",
    "fig.write_html(config = {\"displayModeBar\": False},\n",
    "               file=\"DataVisualizations/FireSeverity_ManagementZone.html\", \n",
    "               full_html= False, \n",
    "               include_plotlyjs='cdn')"
   ]
  },
  {
   "cell_type": "markdown",
   "id": "642fad75",
   "metadata": {},
   "source": [
    "## Performance Meassures"
   ]
  },
  {
   "cell_type": "code",
   "execution_count": null,
   "id": "b00bee7f",
   "metadata": {},
   "outputs": [],
   "source": [
    "# Fuels Treatment Chart\n",
    "df = get_data_forest_fuel()\n",
    "plot_forest_fuel(df)"
   ]
  }
 ],
 "metadata": {
  "kernelspec": {
   "display_name": "Python 3",
   "language": "python",
   "name": "python3"
  },
  "language_info": {
   "codemirror_mode": {
    "name": "ipython",
    "version": 3
   },
   "file_extension": ".py",
   "mimetype": "text/x-python",
   "name": "python",
   "nbconvert_exporter": "python",
   "pygments_lexer": "ipython3",
   "version": "3.11.10"
  },
  "toc": {
   "base_numbering": 1,
   "nav_menu": {},
   "number_sections": true,
   "sideBar": true,
   "skip_h1_title": false,
   "title_cell": "Table of Contents",
   "title_sidebar": "Contents",
   "toc_cell": false,
   "toc_position": {},
   "toc_section_display": true,
   "toc_window_display": false
  }
 },
 "nbformat": 4,
 "nbformat_minor": 5
}
