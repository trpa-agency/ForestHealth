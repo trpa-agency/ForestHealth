{
 "cells": [
  {
   "cell_type": "markdown",
   "id": "1a00e503",
   "metadata": {},
   "source": [
    "## Forest Health Threshold Update - Results"
   ]
  },
  {
   "cell_type": "markdown",
   "id": "3d9d2483",
   "metadata": {
    "heading_collapsed": true
   },
   "source": [
    "### Setup"
   ]
  },
  {
   "cell_type": "code",
   "execution_count": null,
   "id": "4b9f2f3d",
   "metadata": {
    "ExecuteTime": {
     "end_time": "2023-06-01T20:57:05.600866Z",
     "start_time": "2023-06-01T20:57:04.730789Z"
    },
    "hidden": true
   },
   "outputs": [],
   "source": [
    "# import packages\n",
    "import arcpy\n",
    "import pandas as pd\n",
    "from pathlib import Path\n",
    "from utils import *\n",
    "import plotly.express as px\n",
    "import plotly.graph_objects as go\n",
    "from arcgis import GeoAccessor, GeoSeriesAccessor\n",
    "\n",
    "# setup workspace variables\n",
    "arcpy.env.workspace = r\"F:\\\\GIS\\\\PROJECTS\\\\ForestHealth_Intiative\\\\ThresholdUpdate\\\\Data\\\\ForestHealth_ThresholdUpdate.gdb\"\n",
    "arcpy.env.overwriteOutput = True\n",
    "\n",
    "#format paths\n",
    "workspace = Path(\"F:\\GIS\\PROJECTS\\ForestHealth_Intiative\\ThresholdUpdate\\Data\\ForestHealth_ThresholdUpdate.gdb\")\n",
    "downloads = Path(\"F:\\GIS\\PROJECTS\\ForestHealth_Intiative\\ThresholdUpdate\\Data\\Download\\SNV_RRK\")\n",
    "output    = Path(\"F:\\GIS\\PROJECTS\\ForestHealth_Intiative\\ThresholdUpdate\\AnalysisProduct\")\n",
    "# set overwrite to true\n",
    "arcpy.env.overwriteOutput = True\n",
    "# set style variables\n",
    "template = 'plotly_white'\n",
    "font     = 'Calibri'\n",
    "# colors for tables\n",
    "headerColor = '#6680a8'\n",
    "rowColor = 'white'\n",
    "lastrowColor = '#eeeeee'"
   ]
  },
  {
   "cell_type": "code",
   "execution_count": null,
   "id": "bc447409",
   "metadata": {},
   "outputs": [],
   "source": [
    "# list datasets in workspace\n",
    "feature_data = arcpy.ListFeatureClasses()\n",
    "raster_data  = arcpy.ListRasters()\n",
    "table_data   = arcpy.ListTables()\n",
    "# print feature classes, then rasters, then tables\n",
    "print(\"Feature Classes:\")\n",
    "for fc in feature_data:\n",
    "    print(fc)\n",
    "print(\"\\nRasters:\")\n",
    "for raster in raster_data:\n",
    "    print(raster)\n",
    "print(\"\\nTables:\")\n",
    "for table in table_data:\n",
    "    print(table)"
   ]
  },
  {
   "cell_type": "markdown",
   "id": "f2f63f36",
   "metadata": {
    "heading_collapsed": true
   },
   "source": [
    "### General Stats"
   ]
  },
  {
   "cell_type": "code",
   "execution_count": null,
   "id": "40f1b24e",
   "metadata": {
    "ExecuteTime": {
     "end_time": "2023-06-01T23:08:40.547135Z",
     "start_time": "2023-06-01T23:08:40.508135Z"
    },
    "hidden": true
   },
   "outputs": [],
   "source": [
    "# climate classes, acres, descriptions>\n",
    "dfClimateClass = pd.read_csv(output / \"ClimateClasses_TahoeValues.csv\")\n",
    "dfClimateClass"
   ]
  },
  {
   "cell_type": "code",
   "execution_count": null,
   "id": "3abaa242",
   "metadata": {
    "ExecuteTime": {
     "end_time": "2023-06-01T23:32:10.677141Z",
     "start_time": "2023-06-01T23:32:09.211955Z"
    },
    "hidden": true
   },
   "outputs": [],
   "source": [
    "# climate classes, acres, descriptions>\n",
    "dfClimateClass = pd.read_csv(workspace / \"ClimateClasses_TahoeValues.csv\")\n",
    "df = dfClimateClass\n",
    "# drop fields to add up row totals\n",
    "df.drop(columns=['OID_','Count'], inplace=True)\n",
    "\n",
    "# format values\n",
    "df['Acres']   = df['Acres'].map(u\"{:,.0f}\".format)\n",
    "df['FractalIndex10thPercentile']   = df['FractalIndex10thPercentile'].map(u\"{:,.2f}\".format)\n",
    "df['FractalIndex90thPercentile']   = df['FractalIndex90thPercentile'].map(u\"{:,.2f}\".format)\n",
    "\n",
    "# format table column names\n",
    "headers = ['<b>Climate Class</b>', '<b>Stand Density 10th Percentile</b>',\n",
    "           '<b>Stand Density 90th Percentile</b>', '<b>Large Tree Density 10th Percentile</b>',\n",
    "           '<b>Large Tree Density 90th Percentile</b>',  '<b>Fractal Index 10th Percentile</b>',\n",
    "           '<b>Fractal Index 90th Percentile</b>','<b>Acres</b>']\n",
    "\n",
    "# setup table figure\n",
    "fig = go.Figure(data=[go.Table(\n",
    "    columnorder = [1,2,3,4,5,6,7,8],\n",
    "    columnwidth = [20,10,10,10,10,10,10,20],\n",
    "    header=dict(values=headers,\n",
    "                fill_color='#6680a8',\n",
    "                align='center',\n",
    "                line_color='darkslategray',\n",
    "                font=dict(color='white', size=14),\n",
    "                height=20),\n",
    "    cells=dict(values=[df['Value'] , df['StandDensity10thPercentile'], \n",
    "                       df['StandDensity90thPercentile'],df['LargeTreeDensity10thPercentile'], \n",
    "                       df['LargeTreeDensity90thPercentile'],df['FractalIndex10thPercentile'], \n",
    "                       df['FractalIndex90thPercentile'],df['Acres']],\n",
    "               fill_color = [[rowColor]],\n",
    "               line_color='darkslategray',\n",
    "               font=dict(size=14),\n",
    "               align=['left','center'],\n",
    "               height=30))\n",
    "])\n",
    "\n",
    "# update style and margins\n",
    "fig.update_layout(\n",
    "    font_family=font,\n",
    "    margin=dict(l=10, r=10, t=10, b=10)\n",
    ")\n",
    "\n",
    "fig.show()\n",
    "\n",
    "# save to HTML\n",
    "fig.write_html(os.path.join(workspace, \"ClimateClass_Table.html\"))\n",
    "# save PNG\n",
    "fig.write_image(os.path.join(workspace, \"CliamteClass_Table.png\"))"
   ]
  },
  {
   "cell_type": "markdown",
   "id": "611a6250",
   "metadata": {
    "heading_collapsed": true
   },
   "source": [
    "## Stand Density"
   ]
  },
  {
   "cell_type": "code",
   "execution_count": null,
   "id": "ab628dbc",
   "metadata": {
    "ExecuteTime": {
     "end_time": "2023-06-01T21:47:05.841853Z",
     "start_time": "2023-06-01T21:47:05.826858Z"
    },
    "hidden": true
   },
   "outputs": [],
   "source": [
    "dfStandDensityClass = pd.read_csv(os.path.join(workspace, \"StandDensity_TPA_Classified_30m_Tahoe.csv\"))"
   ]
  },
  {
   "cell_type": "code",
   "execution_count": null,
   "id": "883a30ea",
   "metadata": {
    "ExecuteTime": {
     "end_time": "2023-06-01T21:47:08.018057Z",
     "start_time": "2023-06-01T21:47:08.011047Z"
    },
    "hidden": true
   },
   "outputs": [],
   "source": [
    "df = dfStandDensityClass"
   ]
  },
  {
   "cell_type": "code",
   "execution_count": null,
   "id": "981b9fb7",
   "metadata": {
    "ExecuteTime": {
     "end_time": "2023-06-01T21:47:10.206246Z",
     "start_time": "2023-06-01T21:47:08.942137Z"
    },
    "hidden": true
   },
   "outputs": [],
   "source": [
    "# stand density class bar chart\n",
    "fig = px.bar(df, y=\"Acres\", x=\"Category\", \n",
    "             title=\"Stand Density Class\",\n",
    "            )\n",
    "fig.update_traces(marker_color='#6680a8', marker_line_color='rgb(8,48,107)',\n",
    "                  marker_line_width=1.5, opacity=0.6)\n",
    "# show figure\n",
    "fig.show()\n",
    "# save to HTML\n",
    "fig.write_html(os.path.join(workspace, \"StandDensityClass.html\"))\n",
    "# save to PNG\n",
    "fig.write_image(os.path.join(workspace, \"StandDensityClass.png\"))"
   ]
  },
  {
   "cell_type": "code",
   "execution_count": null,
   "id": "c386178a",
   "metadata": {
    "ExecuteTime": {
     "end_time": "2023-06-01T21:28:57.384631Z",
     "start_time": "2023-06-01T21:28:56.397555Z"
    },
    "hidden": true
   },
   "outputs": [],
   "source": [
    "df = dfStandDensityClass\n",
    "# drop fields to add up row totals\n",
    "df.drop(columns=['OID_','Value','Count'], inplace=True)\n",
    "\n",
    "# format values\n",
    "df['Acres']   = df['Acres'].map(u\"{:,.0f}\".format)\n",
    "\n",
    "# format table column names\n",
    "headers = ['<b>Class</b>','<b>Acres</b>']\n",
    "\n",
    "# setup table figure\n",
    "fig = go.Figure(data=[go.Table(\n",
    "    columnorder = [1,2],\n",
    "    columnwidth = [20,20],\n",
    "    header=dict(values=headers,\n",
    "                fill_color='#6680a8',\n",
    "                align='center',\n",
    "                line_color='darkslategray',\n",
    "                font=dict(color='white', size=14),\n",
    "                height=20),\n",
    "    cells=dict(values=[df['Category'] , df['Acres']],\n",
    "               fill_color = [[rowColor]*5+[lastrowColor]],\n",
    "               line_color='darkslategray',\n",
    "               font=dict(size=14),\n",
    "               align=['left','center'],\n",
    "               height=30))\n",
    "])\n",
    "\n",
    "# update style and margins\n",
    "fig.update_layout(\n",
    "    font_family=font,\n",
    "    margin=dict(l=10, r=10, t=10, b=10)\n",
    ")\n",
    "\n",
    "fig.show()\n",
    "\n",
    "# save to HTML\n",
    "fig.write_html(os.path.join(workspace, \"StandDensityClass_Table.html\"))\n",
    "# save PNG\n",
    "fig.write_image(os.path.join(workspace, \"StandDensityClass_Table.png\"))"
   ]
  },
  {
   "cell_type": "markdown",
   "id": "d4f19e61",
   "metadata": {
    "heading_collapsed": true
   },
   "source": [
    "## Large Tree Density"
   ]
  },
  {
   "cell_type": "code",
   "execution_count": null,
   "id": "6a20bb58",
   "metadata": {
    "ExecuteTime": {
     "end_time": "2023-06-01T21:27:37.862524Z",
     "start_time": "2023-06-01T21:27:37.834526Z"
    },
    "hidden": true
   },
   "outputs": [],
   "source": [
    "dfLargeTreeDensityClass = pd.read_csv(os.path.join(workspace, \"LargeTreeDensity_Class_10th90thPercentile.csv\"))\n",
    "dfLargeTreeDensityClass"
   ]
  },
  {
   "cell_type": "code",
   "execution_count": null,
   "id": "7f3b66fb",
   "metadata": {
    "ExecuteTime": {
     "end_time": "2023-06-01T21:26:46.588951Z",
     "start_time": "2023-06-01T21:26:45.340836Z"
    },
    "hidden": true
   },
   "outputs": [],
   "source": [
    "df = dfLargeTreeDensityClass\n",
    "# drop fields to add up row totals\n",
    "df.drop(columns=['OID_','Value','Count'], inplace=True)\n",
    "\n",
    "# format values\n",
    "df['Acres']   = df['Acres'].map(u\"{:,.0f}\".format)\n",
    "\n",
    "# format table column names\n",
    "headers = ['<b>Class</b>','<b>Acres</b>']\n",
    "\n",
    "# setup table figure\n",
    "fig = go.Figure(data=[go.Table(\n",
    "    columnorder = [1,2],\n",
    "    columnwidth = [20,20],\n",
    "    header=dict(values=headers,\n",
    "                fill_color='#6680a8',\n",
    "                align='center',\n",
    "                line_color='darkslategray',\n",
    "                font=dict(color='white', size=14),\n",
    "                height=20),\n",
    "    cells=dict(values=[df['Category'] , df['Acres']],\n",
    "               fill_color = [[rowColor]*5+[lastrowColor]],\n",
    "               line_color='darkslategray',\n",
    "               font=dict(size=14),\n",
    "               align=['left','center'],\n",
    "               height=30))\n",
    "])\n",
    "\n",
    "# update style and margins\n",
    "fig.update_layout(\n",
    "    font_family=font,\n",
    "    margin=dict(l=10, r=10, t=10, b=10)\n",
    ")\n",
    "\n",
    "fig.show()\n",
    "\n",
    "# save to HTML\n",
    "fig.write_html(os.path.join(workspace, \"LargeTreeDensityClass_Table.html\"))\n",
    "# save PNG\n",
    "fig.write_image(os.path.join(workspace, \"LargeTreeDensityClass_Table.png\"))"
   ]
  },
  {
   "cell_type": "code",
   "execution_count": null,
   "id": "a7e8ad8a",
   "metadata": {
    "ExecuteTime": {
     "end_time": "2023-06-01T21:27:44.368106Z",
     "start_time": "2023-06-01T21:27:44.348119Z"
    },
    "hidden": true
   },
   "outputs": [],
   "source": [
    "df"
   ]
  },
  {
   "cell_type": "code",
   "execution_count": null,
   "id": "3afa0ab8",
   "metadata": {
    "ExecuteTime": {
     "end_time": "2023-06-01T21:47:33.300305Z",
     "start_time": "2023-06-01T21:47:32.014199Z"
    },
    "hidden": true
   },
   "outputs": [],
   "source": [
    "\n",
    "df = dfLargeTreeDensityClass\n",
    "\n",
    "# stand density class bar chart\n",
    "fig = px.bar(df, y=\"Acres\", x=\"Category\", \n",
    "             title=\"Large Tree Density Class\",\n",
    "            )\n",
    "fig.update_traces(marker_color='#6680a8', marker_line_color='rgb(8,48,107)',\n",
    "                  marker_line_width=1.5, opacity=0.6)\n",
    "# show figure\n",
    "fig.show()\n",
    "# save to HTML\n",
    "fig.write_html(os.path.join(workspace, \"LargeTreeDensityClass.html\"))\n",
    "# save to PNG\n",
    "fig.write_image(os.path.join(workspace, \"LargeTreeDensityClass.png\"))"
   ]
  },
  {
   "cell_type": "code",
   "execution_count": null,
   "id": "a22e48d3",
   "metadata": {
    "ExecuteTime": {
     "end_time": "2023-06-01T22:12:05.584811Z",
     "start_time": "2023-06-01T22:12:04.213667Z"
    },
    "hidden": true
   },
   "outputs": [],
   "source": [
    "# using 20th and 80th percentile cutoffs\n",
    "dfLargeTreeDensityClass2080 = pd.read_csv(os.path.join(workspace, \"LargeTreeDensity_Class_20th80thPercentile.csv\"))\n",
    "df = dfLargeTreeDensityClass2080\n",
    "\n",
    "# stand density class bar chart\n",
    "fig = px.bar(df, y=\"Acres\", x=\"Category\", \n",
    "             title=\"Large Tree Density Class\",\n",
    "            )\n",
    "fig.update_traces(marker_color='#6680a8', marker_line_color='rgb(8,48,107)',\n",
    "                  marker_line_width=1.5, opacity=0.6)\n",
    "# show figure\n",
    "fig.show()\n",
    "# save to HTML\n",
    "fig.write_html(os.path.join(workspace, \"LargeTreeDensityClass2080.html\"))\n",
    "# save to PNG\n",
    "fig.write_image(os.path.join(workspace, \"LargeTreeDensityClass2080.png\"))"
   ]
  },
  {
   "cell_type": "code",
   "execution_count": null,
   "id": "8f6baa53",
   "metadata": {
    "ExecuteTime": {
     "end_time": "2023-06-01T22:13:02.436490Z",
     "start_time": "2023-06-01T22:13:01.188390Z"
    },
    "hidden": true
   },
   "outputs": [],
   "source": [
    "df = dfLargeTreeDensityClass2080\n",
    "# drop fields to add up row totals\n",
    "df.drop(columns=['OID_','Value','Count'], inplace=True)\n",
    "\n",
    "# format values\n",
    "df['Acres']   = df['Acres'].map(u\"{:,.0f}\".format)\n",
    "\n",
    "# format table column names\n",
    "headers = ['<b>Class</b>','<b>Acres</b>']\n",
    "\n",
    "# setup table figure\n",
    "fig = go.Figure(data=[go.Table(\n",
    "    columnorder = [1,2],\n",
    "    columnwidth = [20,20],\n",
    "    header=dict(values=headers,\n",
    "                fill_color='#6680a8',\n",
    "                align='center',\n",
    "                line_color='darkslategray',\n",
    "                font=dict(color='white', size=14),\n",
    "                height=20),\n",
    "    cells=dict(values=[df['Category'] , df['Acres']],\n",
    "               fill_color = [[rowColor]*5+[lastrowColor]],\n",
    "               line_color='darkslategray',\n",
    "               font=dict(size=14),\n",
    "               align=['left','center'],\n",
    "               height=30))\n",
    "])\n",
    "\n",
    "# update style and margins\n",
    "fig.update_layout(\n",
    "    font_family=font,\n",
    "    margin=dict(l=10, r=10, t=10, b=10)\n",
    ")\n",
    "\n",
    "fig.show()\n",
    "\n",
    "# save to HTML\n",
    "fig.write_html(os.path.join(workspace, \"LargeTreeDensityClass_Table2080.html\"))\n",
    "# save PNG\n",
    "fig.write_image(os.path.join(workspace, \"LargeTreeDensityClass_Table2080.png\"))"
   ]
  },
  {
   "cell_type": "code",
   "execution_count": null,
   "id": "36c66e5d",
   "metadata": {
    "hidden": true
   },
   "outputs": [],
   "source": []
  },
  {
   "cell_type": "markdown",
   "id": "bab456e8",
   "metadata": {
    "heading_collapsed": true
   },
   "source": [
    "## Horizontal Heterogeneity"
   ]
  },
  {
   "cell_type": "code",
   "execution_count": null,
   "id": "e9bd1b24",
   "metadata": {
    "hidden": true
   },
   "outputs": [],
   "source": [
    "dfFractalIndexClass = pd.read_csv()"
   ]
  },
  {
   "cell_type": "markdown",
   "id": "5fcea2ef",
   "metadata": {
    "heading_collapsed": true
   },
   "source": [
    "## Seral Stage and Canopy Cover"
   ]
  },
  {
   "cell_type": "code",
   "execution_count": null,
   "id": "9336dc58",
   "metadata": {
    "hidden": true
   },
   "outputs": [],
   "source": [
    "analysis_output = Path(r\"F:\\GIS\\PROJECTS\\ForestHealth_Intiative\\ThresholdUpdate\\AnalysisProduct\")\n",
    "\n",
    "# distributio of seral stage canop cover classes\n",
    "df40 = pd.read_csv(analysis_output / \"SeralStage_CanopyClass_40prcnt_30m_Tahoe_SNVRRK.csv\")\n",
    "df60 = pd.read_csv(analysis_output / \"SeralStage_CanopyClass_60prcnt_30m_Tahoe_SNVRRK.csv\")"
   ]
  },
  {
   "cell_type": "markdown",
   "id": "16babb88",
   "metadata": {
    "heading_collapsed": true
   },
   "source": [
    "## Functional Fire"
   ]
  },
  {
   "cell_type": "code",
   "execution_count": null,
   "id": "ca652920",
   "metadata": {},
   "outputs": [],
   "source": [
    "# get data frame from feature class\n",
    "df_fire = pd.DataFrame.spatial.from_featureclass(\"ID_MGMTzones_FunctionalFire_DominantClass_Tahoe_SNVRRK\")\n",
    "\n",
    "df_fire['Name'] = df_fire['Name'].replace(\n",
    "    to_replace=[\n",
    "        \"Desolation Wilderness\",\n",
    "        \"Granite Chief Wilderness\",\n",
    "        \"Mt. Rose Wilderness\"\n",
    "    ],\n",
    "    value=\"Wilderness\"\n",
    ")\n",
    "\n",
    "lookup_dict = {\n",
    "    1: \"Low Severity\",\n",
    "    2: \"Moderate Severity\",\n",
    "    3: \"High Severity\"\n",
    "}\n",
    "dfMgmt_Fire = df_fire.groupby(['Name', 'gridcode']).agg({'Acres': 'sum'}).reset_index()\n",
    "dfMgmt_Fire.rename(columns={\"gridcode\": \"Fire Severity\", \"Acres\": \"Acres\"}, inplace=True)\n",
    "dfMgmt_Fire['Fire Severity'] = dfMgmt_Fire['Fire Severity'].map(lookup_dict)\n",
    "dfMgmt_Fire['Percentage'] = ((dfMgmt_Fire['Acres'] / dfMgmt_Fire['Acres'].sum()) * 100).round(1)\n",
    "dfMgmt_Fire['Acres'] = dfMgmt_Fire['Acres'].round(1)\n",
    "# filter out Name ''\n",
    "dfMgmt_Fire = dfMgmt_Fire[dfMgmt_Fire['Name'] != '']\n",
    "dfMgmt_Fire.to_csv(output / \"FireSeverity_ManagementZones.csv\", index=False)"
   ]
  },
  {
   "cell_type": "code",
   "execution_count": null,
   "id": "6a397150",
   "metadata": {},
   "outputs": [],
   "source": [
    "# stacked bar chart of severity by management zone\n",
    "fig = px.bar(dfMgmt_Fire, x=\"Name\", y=\"Acres\", \n",
    "            color=\"Fire Severity\",\n",
    "            text=dfMgmt_Fire['Percentage'].astype(str) + '%',\n",
    "            title=\"Fire Severity Probability by Management Zone\",\n",
    "            labels={\"Acres\": \"Acres\", \"Name\": \"Management Zone\"},\n",
    "            color_discrete_sequence=[\"#91bfdb\", \"#ffffbf\", \"#fc8d59\"],\n",
    "            custom_data=[\"Fire Severity\"]\n",
    "            )\n",
    "fig.update_traces(marker_line_color='rgb(8,48,107)',\n",
    "                    marker_line_width=0.1, opacity=0.9,\n",
    "                    textfont_size=14, textposition=\"inside\",\n",
    "                    hovertemplate=\"<br>\".join(\n",
    "                        [\"<b>%{y:,.0f}</b> of the forested area is\", \n",
    "                            \"likely to burn at <i>%{customdata[0]}</i>\"]\n",
    "                    )\n",
    "                    + \"<extra></extra>\",\n",
    "            )\n",
    "fig.update_layout(title_x=0.5, title_font_size=20,\n",
    "                    uniformtext_minsize=8, uniformtext_mode='hide',\n",
    "                    title_font_color='#6680a8',\n",
    "                    xaxis_title=\"Management Zone\",\n",
    "                    yaxis_title=\"Acres\",\n",
    "                    hovermode=\"x unified\",\n",
    "                    template=template,\n",
    "                    legend=dict(title_text='',\n",
    "                                orientation=\"h\",\n",
    "                                yanchor=\"bottom\",\n",
    "                                y=1.02,\n",
    "                                xanchor=\"right\",\n",
    "                                x=1),\n",
    "                    legend_title_text='Fire Severity',\n",
    "                    font_family=font,\n",
    "                    font_color='#6680a8',\n",
    "                    plot_bgcolor='white',\n",
    "                    showlegend=True\n",
    "                        )\n",
    "fig.show()\n",
    "# save to HTML\n",
    "fig.write_html(config = {\"displayModeBar\": False},\n",
    "               file=\"DataVisualizations/FireSeverity_ManagementZone.html\", \n",
    "               full_html= False, \n",
    "               include_plotlyjs='cdn')"
   ]
  },
  {
   "cell_type": "markdown",
   "id": "642fad75",
   "metadata": {},
   "source": [
    "# Performance Meassures"
   ]
  },
  {
   "cell_type": "code",
   "execution_count": 2,
   "id": "b00bee7f",
   "metadata": {},
   "outputs": [],
   "source": [
    "# Fuels Treatment Chart\n",
    "df = get_data_forest_fuel()\n",
    "plot_forest_fuel(df)"
   ]
  }
 ],
 "metadata": {
  "kernelspec": {
   "display_name": "Python 3",
   "language": "python",
   "name": "python3"
  },
  "language_info": {
   "codemirror_mode": {
    "name": "ipython",
    "version": 3
   },
   "file_extension": ".py",
   "mimetype": "text/x-python",
   "name": "python",
   "nbconvert_exporter": "python",
   "pygments_lexer": "ipython3",
   "version": "3.11.10"
  },
  "toc": {
   "base_numbering": 1,
   "nav_menu": {},
   "number_sections": true,
   "sideBar": true,
   "skip_h1_title": false,
   "title_cell": "Table of Contents",
   "title_sidebar": "Contents",
   "toc_cell": false,
   "toc_position": {},
   "toc_section_display": true,
   "toc_window_display": false
  }
 },
 "nbformat": 4,
 "nbformat_minor": 5
}
