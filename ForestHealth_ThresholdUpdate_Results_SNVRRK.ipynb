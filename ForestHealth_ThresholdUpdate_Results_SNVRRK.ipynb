{
 "cells": [
  {
   "cell_type": "markdown",
   "id": "1a00e503",
   "metadata": {},
   "source": [
    "## Forest Health Threshold Update - Results"
   ]
  },
  {
   "cell_type": "markdown",
   "id": "3d9d2483",
   "metadata": {
    "heading_collapsed": true
   },
   "source": [
    "### Setup"
   ]
  },
  {
   "cell_type": "code",
   "execution_count": null,
   "id": "4b9f2f3d",
   "metadata": {
    "ExecuteTime": {
     "end_time": "2023-06-01T20:57:05.600866Z",
     "start_time": "2023-06-01T20:57:04.730789Z"
    },
    "hidden": true
   },
   "outputs": [],
   "source": [
    "# import packages\n",
    "import arcpy\n",
    "import pandas as pd\n",
    "from pathlib import Path\n",
    "from utils import *\n",
    "import plotly.express as px\n",
    "import plotly.graph_objects as go\n",
    "from arcgis import GeoAccessor, GeoSeriesAccessor\n",
    "\n",
    "# setup workspace variables\n",
    "arcpy.env.workspace = r\"F:\\\\GIS\\\\PROJECTS\\\\ForestHealth_Intiative\\\\ThresholdUpdate\\\\Data\\\\ForestHealth_ThresholdUpdate.gdb\"\n",
    "arcpy.env.overwriteOutput = True\n",
    "\n",
    "#format paths\n",
    "workspace = Path(\"F:\\GIS\\PROJECTS\\ForestHealth_Intiative\\ThresholdUpdate\\Data\\ForestHealth_ThresholdUpdate.gdb\")\n",
    "downloads = Path(\"F:\\GIS\\PROJECTS\\ForestHealth_Intiative\\ThresholdUpdate\\Data\\Download\\SNV_RRK\")\n",
    "output    = Path(\"F:\\GIS\\PROJECTS\\ForestHealth_Intiative\\ThresholdUpdate\\AnalysisProduct\")\n",
    "# set overwrite to true\n",
    "arcpy.env.overwriteOutput = True\n",
    "# set style variables\n",
    "template = 'plotly_white'\n",
    "font     = 'Calibri'\n",
    "# colors for tables\n",
    "headerColor = '#6680a8'\n",
    "rowColor = 'white'\n",
    "lastrowColor = '#eeeeee'"
   ]
  },
  {
   "cell_type": "code",
   "execution_count": null,
   "id": "bc447409",
   "metadata": {},
   "outputs": [],
   "source": [
    "# list datasets in workspace\n",
    "feature_data = arcpy.ListFeatureClasses()\n",
    "raster_data  = arcpy.ListRasters()\n",
    "table_data   = arcpy.ListTables()\n",
    "# print feature classes, then rasters, then tables\n",
    "print(\"Feature Classes:\")\n",
    "for fc in feature_data:\n",
    "    print(fc)\n",
    "print(\"\\nRasters:\")\n",
    "for raster in raster_data:\n",
    "    print(raster)\n",
    "print(\"\\nTables:\")\n",
    "for table in table_data:\n",
    "    print(table)"
   ]
  },
  {
   "cell_type": "markdown",
   "id": "f2f63f36",
   "metadata": {
    "heading_collapsed": true
   },
   "source": [
    "### General Stats"
   ]
  },
  {
   "cell_type": "code",
   "execution_count": null,
   "id": "40f1b24e",
   "metadata": {
    "ExecuteTime": {
     "end_time": "2023-06-01T23:08:40.547135Z",
     "start_time": "2023-06-01T23:08:40.508135Z"
    },
    "hidden": true
   },
   "outputs": [],
   "source": [
    "# climate classes, acres, descriptions>\n",
    "dfClimateClass = pd.read_csv(output / \"ClimateClasses_TahoeValues.csv\")\n",
    "dfClimateClass"
   ]
  },
  {
   "cell_type": "code",
   "execution_count": null,
   "id": "3abaa242",
   "metadata": {
    "ExecuteTime": {
     "end_time": "2023-06-01T23:32:10.677141Z",
     "start_time": "2023-06-01T23:32:09.211955Z"
    },
    "hidden": true
   },
   "outputs": [],
   "source": [
    "# climate classes, acres, descriptions>\n",
    "dfClimateClass = pd.read_csv(workspace / \"ClimateClasses_TahoeValues.csv\")\n",
    "df = dfClimateClass\n",
    "# drop fields to add up row totals\n",
    "df.drop(columns=['OID_','Count'], inplace=True)\n",
    "\n",
    "# format values\n",
    "df['Acres']   = df['Acres'].map(u\"{:,.0f}\".format)\n",
    "df['FractalIndex10thPercentile']   = df['FractalIndex10thPercentile'].map(u\"{:,.2f}\".format)\n",
    "df['FractalIndex90thPercentile']   = df['FractalIndex90thPercentile'].map(u\"{:,.2f}\".format)\n",
    "\n",
    "# format table column names\n",
    "headers = ['<b>Climate Class</b>', '<b>Stand Density 10th Percentile</b>',\n",
    "           '<b>Stand Density 90th Percentile</b>', '<b>Large Tree Density 10th Percentile</b>',\n",
    "           '<b>Large Tree Density 90th Percentile</b>',  '<b>Fractal Index 10th Percentile</b>',\n",
    "           '<b>Fractal Index 90th Percentile</b>','<b>Acres</b>']\n",
    "\n",
    "# setup table figure\n",
    "fig = go.Figure(data=[go.Table(\n",
    "    columnorder = [1,2,3,4,5,6,7,8],\n",
    "    columnwidth = [20,10,10,10,10,10,10,20],\n",
    "    header=dict(values=headers,\n",
    "                fill_color='#6680a8',\n",
    "                align='center',\n",
    "                line_color='darkslategray',\n",
    "                font=dict(color='white', size=14),\n",
    "                height=20),\n",
    "    cells=dict(values=[df['Value'] , df['StandDensity10thPercentile'], \n",
    "                       df['StandDensity90thPercentile'],df['LargeTreeDensity10thPercentile'], \n",
    "                       df['LargeTreeDensity90thPercentile'],df['FractalIndex10thPercentile'], \n",
    "                       df['FractalIndex90thPercentile'],df['Acres']],\n",
    "               fill_color = [[rowColor]],\n",
    "               line_color='darkslategray',\n",
    "               font=dict(size=14),\n",
    "               align=['left','center'],\n",
    "               height=30))\n",
    "])\n",
    "\n",
    "# update style and margins\n",
    "fig.update_layout(\n",
    "    font_family=font,\n",
    "    margin=dict(l=10, r=10, t=10, b=10)\n",
    ")\n",
    "\n",
    "fig.show()\n",
    "\n",
    "# save to HTML\n",
    "fig.write_html(os.path.join(workspace, \"ClimateClass_Table.html\"))\n",
    "# save PNG\n",
    "fig.write_image(os.path.join(workspace, \"CliamteClass_Table.png\"))"
   ]
  },
  {
   "cell_type": "markdown",
   "id": "611a6250",
   "metadata": {
    "heading_collapsed": true
   },
   "source": [
    "## Stand Density"
   ]
  },
  {
   "cell_type": "code",
   "execution_count": null,
   "id": "ab628dbc",
   "metadata": {
    "ExecuteTime": {
     "end_time": "2023-06-01T21:47:05.841853Z",
     "start_time": "2023-06-01T21:47:05.826858Z"
    },
    "hidden": true
   },
   "outputs": [],
   "source": [
    "dfStandDensityClass = pd.read_csv(os.path.join(workspace, \"StandDensity_TPA_Classified_30m_Tahoe.csv\"))"
   ]
  },
  {
   "cell_type": "code",
   "execution_count": null,
   "id": "883a30ea",
   "metadata": {
    "ExecuteTime": {
     "end_time": "2023-06-01T21:47:08.018057Z",
     "start_time": "2023-06-01T21:47:08.011047Z"
    },
    "hidden": true
   },
   "outputs": [],
   "source": [
    "df = dfStandDensityClass"
   ]
  },
  {
   "cell_type": "code",
   "execution_count": null,
   "id": "981b9fb7",
   "metadata": {
    "ExecuteTime": {
     "end_time": "2023-06-01T21:47:10.206246Z",
     "start_time": "2023-06-01T21:47:08.942137Z"
    },
    "hidden": true
   },
   "outputs": [],
   "source": [
    "# stand density class bar chart\n",
    "fig = px.bar(df, y=\"Acres\", x=\"Category\", \n",
    "             title=\"Stand Density Class\",\n",
    "            )\n",
    "fig.update_traces(marker_color='#6680a8', marker_line_color='rgb(8,48,107)',\n",
    "                  marker_line_width=1.5, opacity=0.6)\n",
    "# show figure\n",
    "fig.show()\n",
    "# save to HTML\n",
    "fig.write_html(os.path.join(workspace, \"StandDensityClass.html\"))\n",
    "# save to PNG\n",
    "fig.write_image(os.path.join(workspace, \"StandDensityClass.png\"))"
   ]
  },
  {
   "cell_type": "code",
   "execution_count": null,
   "id": "c386178a",
   "metadata": {
    "ExecuteTime": {
     "end_time": "2023-06-01T21:28:57.384631Z",
     "start_time": "2023-06-01T21:28:56.397555Z"
    },
    "hidden": true
   },
   "outputs": [],
   "source": [
    "df = dfStandDensityClass\n",
    "# drop fields to add up row totals\n",
    "df.drop(columns=['OID_','Value','Count'], inplace=True)\n",
    "\n",
    "# format values\n",
    "df['Acres']   = df['Acres'].map(u\"{:,.0f}\".format)\n",
    "\n",
    "# format table column names\n",
    "headers = ['<b>Class</b>','<b>Acres</b>']\n",
    "\n",
    "# setup table figure\n",
    "fig = go.Figure(data=[go.Table(\n",
    "    columnorder = [1,2],\n",
    "    columnwidth = [20,20],\n",
    "    header=dict(values=headers,\n",
    "                fill_color='#6680a8',\n",
    "                align='center',\n",
    "                line_color='darkslategray',\n",
    "                font=dict(color='white', size=14),\n",
    "                height=20),\n",
    "    cells=dict(values=[df['Category'] , df['Acres']],\n",
    "               fill_color = [[rowColor]*5+[lastrowColor]],\n",
    "               line_color='darkslategray',\n",
    "               font=dict(size=14),\n",
    "               align=['left','center'],\n",
    "               height=30))\n",
    "])\n",
    "\n",
    "# update style and margins\n",
    "fig.update_layout(\n",
    "    font_family=font,\n",
    "    margin=dict(l=10, r=10, t=10, b=10)\n",
    ")\n",
    "\n",
    "fig.show()\n",
    "\n",
    "# save to HTML\n",
    "fig.write_html(os.path.join(workspace, \"StandDensityClass_Table.html\"))\n",
    "# save PNG\n",
    "fig.write_image(os.path.join(workspace, \"StandDensityClass_Table.png\"))"
   ]
  },
  {
   "cell_type": "markdown",
   "id": "d4f19e61",
   "metadata": {
    "heading_collapsed": true
   },
   "source": [
    "## Large Tree Density"
   ]
  },
  {
   "cell_type": "code",
   "execution_count": null,
   "id": "6a20bb58",
   "metadata": {
    "ExecuteTime": {
     "end_time": "2023-06-01T21:27:37.862524Z",
     "start_time": "2023-06-01T21:27:37.834526Z"
    },
    "hidden": true
   },
   "outputs": [],
   "source": [
    "dfLargeTreeDensityClass = pd.read_csv(os.path.join(workspace, \"LargeTreeDensity_Class_10th90thPercentile.csv\"))\n",
    "dfLargeTreeDensityClass"
   ]
  },
  {
   "cell_type": "code",
   "execution_count": null,
   "id": "7f3b66fb",
   "metadata": {
    "ExecuteTime": {
     "end_time": "2023-06-01T21:26:46.588951Z",
     "start_time": "2023-06-01T21:26:45.340836Z"
    },
    "hidden": true
   },
   "outputs": [],
   "source": [
    "df = dfLargeTreeDensityClass\n",
    "# drop fields to add up row totals\n",
    "df.drop(columns=['OID_','Value','Count'], inplace=True)\n",
    "\n",
    "# format values\n",
    "df['Acres']   = df['Acres'].map(u\"{:,.0f}\".format)\n",
    "\n",
    "# format table column names\n",
    "headers = ['<b>Class</b>','<b>Acres</b>']\n",
    "\n",
    "# setup table figure\n",
    "fig = go.Figure(data=[go.Table(\n",
    "    columnorder = [1,2],\n",
    "    columnwidth = [20,20],\n",
    "    header=dict(values=headers,\n",
    "                fill_color='#6680a8',\n",
    "                align='center',\n",
    "                line_color='darkslategray',\n",
    "                font=dict(color='white', size=14),\n",
    "                height=20),\n",
    "    cells=dict(values=[df['Category'] , df['Acres']],\n",
    "               fill_color = [[rowColor]*5+[lastrowColor]],\n",
    "               line_color='darkslategray',\n",
    "               font=dict(size=14),\n",
    "               align=['left','center'],\n",
    "               height=30))\n",
    "])\n",
    "\n",
    "# update style and margins\n",
    "fig.update_layout(\n",
    "    font_family=font,\n",
    "    margin=dict(l=10, r=10, t=10, b=10)\n",
    ")\n",
    "\n",
    "fig.show()\n",
    "\n",
    "# save to HTML\n",
    "fig.write_html(os.path.join(workspace, \"LargeTreeDensityClass_Table.html\"))\n",
    "# save PNG\n",
    "fig.write_image(os.path.join(workspace, \"LargeTreeDensityClass_Table.png\"))"
   ]
  },
  {
   "cell_type": "code",
   "execution_count": null,
   "id": "a7e8ad8a",
   "metadata": {
    "ExecuteTime": {
     "end_time": "2023-06-01T21:27:44.368106Z",
     "start_time": "2023-06-01T21:27:44.348119Z"
    },
    "hidden": true
   },
   "outputs": [],
   "source": [
    "df"
   ]
  },
  {
   "cell_type": "code",
   "execution_count": null,
   "id": "3afa0ab8",
   "metadata": {
    "ExecuteTime": {
     "end_time": "2023-06-01T21:47:33.300305Z",
     "start_time": "2023-06-01T21:47:32.014199Z"
    },
    "hidden": true
   },
   "outputs": [],
   "source": [
    "\n",
    "df = dfLargeTreeDensityClass\n",
    "\n",
    "# stand density class bar chart\n",
    "fig = px.bar(df, y=\"Acres\", x=\"Category\", \n",
    "             title=\"Large Tree Density Class\",\n",
    "            )\n",
    "fig.update_traces(marker_color='#6680a8', marker_line_color='rgb(8,48,107)',\n",
    "                  marker_line_width=1.5, opacity=0.6)\n",
    "# show figure\n",
    "fig.show()\n",
    "# save to HTML\n",
    "fig.write_html(os.path.join(workspace, \"LargeTreeDensityClass.html\"))\n",
    "# save to PNG\n",
    "fig.write_image(os.path.join(workspace, \"LargeTreeDensityClass.png\"))"
   ]
  },
  {
   "cell_type": "code",
   "execution_count": null,
   "id": "a22e48d3",
   "metadata": {
    "ExecuteTime": {
     "end_time": "2023-06-01T22:12:05.584811Z",
     "start_time": "2023-06-01T22:12:04.213667Z"
    },
    "hidden": true
   },
   "outputs": [],
   "source": [
    "# using 20th and 80th percentile cutoffs\n",
    "dfLargeTreeDensityClass2080 = pd.read_csv(os.path.join(workspace, \"LargeTreeDensity_Class_20th80thPercentile.csv\"))\n",
    "df = dfLargeTreeDensityClass2080\n",
    "\n",
    "# stand density class bar chart\n",
    "fig = px.bar(df, y=\"Acres\", x=\"Category\", \n",
    "             title=\"Large Tree Density Class\",\n",
    "            )\n",
    "fig.update_traces(marker_color='#6680a8', marker_line_color='rgb(8,48,107)',\n",
    "                  marker_line_width=1.5, opacity=0.6)\n",
    "# show figure\n",
    "fig.show()\n",
    "# save to HTML\n",
    "fig.write_html(os.path.join(workspace, \"LargeTreeDensityClass2080.html\"))\n",
    "# save to PNG\n",
    "fig.write_image(os.path.join(workspace, \"LargeTreeDensityClass2080.png\"))"
   ]
  },
  {
   "cell_type": "code",
   "execution_count": null,
   "id": "8f6baa53",
   "metadata": {
    "ExecuteTime": {
     "end_time": "2023-06-01T22:13:02.436490Z",
     "start_time": "2023-06-01T22:13:01.188390Z"
    },
    "hidden": true
   },
   "outputs": [],
   "source": [
    "df = dfLargeTreeDensityClass2080\n",
    "# drop fields to add up row totals\n",
    "df.drop(columns=['OID_','Value','Count'], inplace=True)\n",
    "\n",
    "# format values\n",
    "df['Acres']   = df['Acres'].map(u\"{:,.0f}\".format)\n",
    "\n",
    "# format table column names\n",
    "headers = ['<b>Class</b>','<b>Acres</b>']\n",
    "\n",
    "# setup table figure\n",
    "fig = go.Figure(data=[go.Table(\n",
    "    columnorder = [1,2],\n",
    "    columnwidth = [20,20],\n",
    "    header=dict(values=headers,\n",
    "                fill_color='#6680a8',\n",
    "                align='center',\n",
    "                line_color='darkslategray',\n",
    "                font=dict(color='white', size=14),\n",
    "                height=20),\n",
    "    cells=dict(values=[df['Category'] , df['Acres']],\n",
    "               fill_color = [[rowColor]*5+[lastrowColor]],\n",
    "               line_color='darkslategray',\n",
    "               font=dict(size=14),\n",
    "               align=['left','center'],\n",
    "               height=30))\n",
    "])\n",
    "\n",
    "# update style and margins\n",
    "fig.update_layout(\n",
    "    font_family=font,\n",
    "    margin=dict(l=10, r=10, t=10, b=10)\n",
    ")\n",
    "\n",
    "fig.show()\n",
    "\n",
    "# save to HTML\n",
    "fig.write_html(os.path.join(workspace, \"LargeTreeDensityClass_Table2080.html\"))\n",
    "# save PNG\n",
    "fig.write_image(os.path.join(workspace, \"LargeTreeDensityClass_Table2080.png\"))"
   ]
  },
  {
   "cell_type": "code",
   "execution_count": null,
   "id": "36c66e5d",
   "metadata": {
    "hidden": true
   },
   "outputs": [],
   "source": []
  },
  {
   "cell_type": "markdown",
   "id": "bab456e8",
   "metadata": {
    "heading_collapsed": true
   },
   "source": [
    "## Horizontal Heterogeneity"
   ]
  },
  {
   "cell_type": "code",
   "execution_count": null,
   "id": "e9bd1b24",
   "metadata": {
    "hidden": true
   },
   "outputs": [],
   "source": [
    "dfFractalIndexClass = pd.read_csv()"
   ]
  },
  {
   "cell_type": "markdown",
   "id": "5fcea2ef",
   "metadata": {
    "heading_collapsed": true
   },
   "source": [
    "## Seral Stage and Canopy Cover"
   ]
  },
  {
   "cell_type": "code",
   "execution_count": null,
   "id": "9336dc58",
   "metadata": {
    "hidden": true
   },
   "outputs": [],
   "source": [
    "analysis_output = Path(r\"F:\\GIS\\PROJECTS\\ForestHealth_Intiative\\ThresholdUpdate\\AnalysisProduct\")\n",
    "\n",
    "# distributio of seral stage canop cover classes\n",
    "df40 = pd.read_csv(analysis_output / \"SeralStage_CanopyClass_40prcnt_30m_Tahoe_SNVRRK.csv\")\n",
    "df60 = pd.read_csv(analysis_output / \"SeralStage_CanopyClass_60prcnt_30m_Tahoe_SNVRRK.csv\")\n"
   ]
  },
  {
   "cell_type": "markdown",
   "id": "16babb88",
   "metadata": {
    "heading_collapsed": true
   },
   "source": [
    "## Functional Fire"
   ]
  },
  {
   "cell_type": "code",
   "execution_count": null,
   "id": "ca652920",
   "metadata": {},
   "outputs": [],
   "source": [
    "# get data frame from feature class\n",
    "df_fire = pd.DataFrame.spatial.from_featureclass(\"ID_MGMTzones_FunctionalFire_DominantClass_Tahoe_SNVRRK\")\n",
    "\n",
    "df_fire['Name'] = df_fire['Name'].replace(\n",
    "    to_replace=[\n",
    "        \"Desolation Wilderness\",\n",
    "        \"Granite Chief Wilderness\",\n",
    "        \"Mt. Rose Wilderness\"\n",
    "    ],\n",
    "    value=\"Wilderness\"\n",
    ")\n",
    "\n",
    "lookup_dict = {\n",
    "    1: \"Low Severity\",\n",
    "    2: \"Moderate Severity\",\n",
    "    3: \"High Severity\"\n",
    "}\n",
    "dfMgmt_Fire = df_fire.groupby(['Name', 'gridcode']).agg({'Acres': 'sum'}).reset_index()\n",
    "dfMgmt_Fire.rename(columns={\"gridcode\": \"Fire Severity\", \"Acres\": \"Acres\"}, inplace=True)\n",
    "dfMgmt_Fire['Fire Severity'] = dfMgmt_Fire['Fire Severity'].map(lookup_dict)\n",
    "dfMgmt_Fire['Percentage'] = ((dfMgmt_Fire['Acres'] / dfMgmt_Fire['Acres'].sum()) * 100).round(1)\n",
    "dfMgmt_Fire['Acres'] = dfMgmt_Fire['Acres'].round(1)\n",
    "# filter out Name ''\n",
    "dfMgmt_Fire = dfMgmt_Fire[dfMgmt_Fire['Name'] != '']\n",
    "dfMgmt_Fire.to_csv(output / \"FireSeverity_ManagementZones.csv\", index=False)"
   ]
  },
  {
   "cell_type": "code",
   "execution_count": 34,
   "id": "6a397150",
   "metadata": {},
   "outputs": [
    {
     "data": {
      "application/vnd.plotly.v1+json": {
       "config": {
        "plotlyServerURL": "https://plot.ly"
       },
       "data": [
        {
         "customdata": [
          [
           "Low Severity"
          ],
          [
           "Low Severity"
          ],
          [
           "Low Severity"
          ],
          [
           "Low Severity"
          ]
         ],
         "hovertemplate": "<b>%{y:,.0f}</b> of the forested area is<br>likely to burn as <i>%{customdata[0]}</i><extra></extra>",
         "legendgroup": "Low Severity",
         "marker": {
          "color": "#91bfdb",
          "line": {
           "color": "rgb(8,48,107)",
           "width": 0.1
          },
          "pattern": {
           "shape": ""
          }
         },
         "name": "Low Severity",
         "opacity": 0.9,
         "orientation": "v",
         "showlegend": true,
         "text": [
          "22.2%",
          "24.0%",
          "15.8%",
          "8.9%"
         ],
         "textfont": {
          "size": 14
         },
         "textposition": "inside",
         "type": "bar",
         "x": [
          "General Forest",
          "WUI Defense Zone",
          "WUI Threat Zone",
          "Wilderness"
         ],
         "xaxis": "x",
         "y": {
          "bdata": "zczMzHzK5UAAAAAAEI7nQM3MzMysH99AMzMzM/OB0UA=",
          "dtype": "f8"
         },
         "yaxis": "y"
        },
        {
         "customdata": [
          [
           "Moderate Severity"
          ],
          [
           "Moderate Severity"
          ],
          [
           "Moderate Severity"
          ],
          [
           "Moderate Severity"
          ]
         ],
         "hovertemplate": "<b>%{y:,.0f}</b> of the forested area is<br>likely to burn as <i>%{customdata[0]}</i><extra></extra>",
         "legendgroup": "Moderate Severity",
         "marker": {
          "color": "#ffffbf",
          "line": {
           "color": "rgb(8,48,107)",
           "width": 0.1
          },
          "pattern": {
           "shape": ""
          }
         },
         "name": "Moderate Severity",
         "opacity": 0.9,
         "orientation": "v",
         "showlegend": true,
         "text": [
          "1.6%",
          "2.9%",
          "1.4%",
          "1.0%"
         ],
         "textfont": {
          "size": 14
         },
         "textposition": "inside",
         "type": "bar",
         "x": [
          "General Forest",
          "WUI Defense Zone",
          "WUI Threat Zone",
          "Wilderness"
         ],
         "xaxis": "x",
         "y": {
          "bdata": "zczMzMw4qUBmZmZm5ni2QM3MzMzMEKZAMzMzMzNxoEA=",
          "dtype": "f8"
         },
         "yaxis": "y"
        },
        {
         "customdata": [
          [
           "High Severity"
          ],
          [
           "High Severity"
          ],
          [
           "High Severity"
          ],
          [
           "High Severity"
          ]
         ],
         "hovertemplate": "<b>%{y:,.0f}</b> of the forested area is<br>likely to burn as <i>%{customdata[0]}</i><extra></extra>",
         "legendgroup": "High Severity",
         "marker": {
          "color": "#fc8d59",
          "line": {
           "color": "rgb(8,48,107)",
           "width": 0.1
          },
          "pattern": {
           "shape": ""
          }
         },
         "name": "High Severity",
         "opacity": 0.9,
         "orientation": "v",
         "showlegend": true,
         "text": [
          "7.6%",
          "7.0%",
          "5.5%",
          "1.9%"
         ],
         "textfont": {
          "size": 14
         },
         "textposition": "inside",
         "type": "bar",
         "x": [
          "General Forest",
          "WUI Defense Zone",
          "WUI Threat Zone",
          "Wilderness"
         ],
         "xaxis": "x",
         "y": {
          "bdata": "zczMzEz0zUCamZmZGXPLQAAAAADAq8VAmpmZmZmerkA=",
          "dtype": "f8"
         },
         "yaxis": "y"
        }
       ],
       "layout": {
        "barmode": "relative",
        "font": {
         "color": "#6680a8",
         "family": "Calibri"
        },
        "hovermode": "x unified",
        "legend": {
         "orientation": "h",
         "title": {
          "text": ""
         },
         "tracegroupgap": 0,
         "x": 1,
         "xanchor": "right",
         "y": 1.02,
         "yanchor": "bottom"
        },
        "plot_bgcolor": "white",
        "showlegend": true,
        "template": {
         "data": {
          "bar": [
           {
            "error_x": {
             "color": "#2a3f5f"
            },
            "error_y": {
             "color": "#2a3f5f"
            },
            "marker": {
             "line": {
              "color": "white",
              "width": 0.5
             },
             "pattern": {
              "fillmode": "overlay",
              "size": 10,
              "solidity": 0.2
             }
            },
            "type": "bar"
           }
          ],
          "barpolar": [
           {
            "marker": {
             "line": {
              "color": "white",
              "width": 0.5
             },
             "pattern": {
              "fillmode": "overlay",
              "size": 10,
              "solidity": 0.2
             }
            },
            "type": "barpolar"
           }
          ],
          "carpet": [
           {
            "aaxis": {
             "endlinecolor": "#2a3f5f",
             "gridcolor": "#C8D4E3",
             "linecolor": "#C8D4E3",
             "minorgridcolor": "#C8D4E3",
             "startlinecolor": "#2a3f5f"
            },
            "baxis": {
             "endlinecolor": "#2a3f5f",
             "gridcolor": "#C8D4E3",
             "linecolor": "#C8D4E3",
             "minorgridcolor": "#C8D4E3",
             "startlinecolor": "#2a3f5f"
            },
            "type": "carpet"
           }
          ],
          "choropleth": [
           {
            "colorbar": {
             "outlinewidth": 0,
             "ticks": ""
            },
            "type": "choropleth"
           }
          ],
          "contour": [
           {
            "colorbar": {
             "outlinewidth": 0,
             "ticks": ""
            },
            "colorscale": [
             [
              0,
              "#0d0887"
             ],
             [
              0.1111111111111111,
              "#46039f"
             ],
             [
              0.2222222222222222,
              "#7201a8"
             ],
             [
              0.3333333333333333,
              "#9c179e"
             ],
             [
              0.4444444444444444,
              "#bd3786"
             ],
             [
              0.5555555555555556,
              "#d8576b"
             ],
             [
              0.6666666666666666,
              "#ed7953"
             ],
             [
              0.7777777777777778,
              "#fb9f3a"
             ],
             [
              0.8888888888888888,
              "#fdca26"
             ],
             [
              1,
              "#f0f921"
             ]
            ],
            "type": "contour"
           }
          ],
          "contourcarpet": [
           {
            "colorbar": {
             "outlinewidth": 0,
             "ticks": ""
            },
            "type": "contourcarpet"
           }
          ],
          "heatmap": [
           {
            "colorbar": {
             "outlinewidth": 0,
             "ticks": ""
            },
            "colorscale": [
             [
              0,
              "#0d0887"
             ],
             [
              0.1111111111111111,
              "#46039f"
             ],
             [
              0.2222222222222222,
              "#7201a8"
             ],
             [
              0.3333333333333333,
              "#9c179e"
             ],
             [
              0.4444444444444444,
              "#bd3786"
             ],
             [
              0.5555555555555556,
              "#d8576b"
             ],
             [
              0.6666666666666666,
              "#ed7953"
             ],
             [
              0.7777777777777778,
              "#fb9f3a"
             ],
             [
              0.8888888888888888,
              "#fdca26"
             ],
             [
              1,
              "#f0f921"
             ]
            ],
            "type": "heatmap"
           }
          ],
          "histogram": [
           {
            "marker": {
             "pattern": {
              "fillmode": "overlay",
              "size": 10,
              "solidity": 0.2
             }
            },
            "type": "histogram"
           }
          ],
          "histogram2d": [
           {
            "colorbar": {
             "outlinewidth": 0,
             "ticks": ""
            },
            "colorscale": [
             [
              0,
              "#0d0887"
             ],
             [
              0.1111111111111111,
              "#46039f"
             ],
             [
              0.2222222222222222,
              "#7201a8"
             ],
             [
              0.3333333333333333,
              "#9c179e"
             ],
             [
              0.4444444444444444,
              "#bd3786"
             ],
             [
              0.5555555555555556,
              "#d8576b"
             ],
             [
              0.6666666666666666,
              "#ed7953"
             ],
             [
              0.7777777777777778,
              "#fb9f3a"
             ],
             [
              0.8888888888888888,
              "#fdca26"
             ],
             [
              1,
              "#f0f921"
             ]
            ],
            "type": "histogram2d"
           }
          ],
          "histogram2dcontour": [
           {
            "colorbar": {
             "outlinewidth": 0,
             "ticks": ""
            },
            "colorscale": [
             [
              0,
              "#0d0887"
             ],
             [
              0.1111111111111111,
              "#46039f"
             ],
             [
              0.2222222222222222,
              "#7201a8"
             ],
             [
              0.3333333333333333,
              "#9c179e"
             ],
             [
              0.4444444444444444,
              "#bd3786"
             ],
             [
              0.5555555555555556,
              "#d8576b"
             ],
             [
              0.6666666666666666,
              "#ed7953"
             ],
             [
              0.7777777777777778,
              "#fb9f3a"
             ],
             [
              0.8888888888888888,
              "#fdca26"
             ],
             [
              1,
              "#f0f921"
             ]
            ],
            "type": "histogram2dcontour"
           }
          ],
          "mesh3d": [
           {
            "colorbar": {
             "outlinewidth": 0,
             "ticks": ""
            },
            "type": "mesh3d"
           }
          ],
          "parcoords": [
           {
            "line": {
             "colorbar": {
              "outlinewidth": 0,
              "ticks": ""
             }
            },
            "type": "parcoords"
           }
          ],
          "pie": [
           {
            "automargin": true,
            "type": "pie"
           }
          ],
          "scatter": [
           {
            "fillpattern": {
             "fillmode": "overlay",
             "size": 10,
             "solidity": 0.2
            },
            "type": "scatter"
           }
          ],
          "scatter3d": [
           {
            "line": {
             "colorbar": {
              "outlinewidth": 0,
              "ticks": ""
             }
            },
            "marker": {
             "colorbar": {
              "outlinewidth": 0,
              "ticks": ""
             }
            },
            "type": "scatter3d"
           }
          ],
          "scattercarpet": [
           {
            "marker": {
             "colorbar": {
              "outlinewidth": 0,
              "ticks": ""
             }
            },
            "type": "scattercarpet"
           }
          ],
          "scattergeo": [
           {
            "marker": {
             "colorbar": {
              "outlinewidth": 0,
              "ticks": ""
             }
            },
            "type": "scattergeo"
           }
          ],
          "scattergl": [
           {
            "marker": {
             "colorbar": {
              "outlinewidth": 0,
              "ticks": ""
             }
            },
            "type": "scattergl"
           }
          ],
          "scattermap": [
           {
            "marker": {
             "colorbar": {
              "outlinewidth": 0,
              "ticks": ""
             }
            },
            "type": "scattermap"
           }
          ],
          "scattermapbox": [
           {
            "marker": {
             "colorbar": {
              "outlinewidth": 0,
              "ticks": ""
             }
            },
            "type": "scattermapbox"
           }
          ],
          "scatterpolar": [
           {
            "marker": {
             "colorbar": {
              "outlinewidth": 0,
              "ticks": ""
             }
            },
            "type": "scatterpolar"
           }
          ],
          "scatterpolargl": [
           {
            "marker": {
             "colorbar": {
              "outlinewidth": 0,
              "ticks": ""
             }
            },
            "type": "scatterpolargl"
           }
          ],
          "scatterternary": [
           {
            "marker": {
             "colorbar": {
              "outlinewidth": 0,
              "ticks": ""
             }
            },
            "type": "scatterternary"
           }
          ],
          "surface": [
           {
            "colorbar": {
             "outlinewidth": 0,
             "ticks": ""
            },
            "colorscale": [
             [
              0,
              "#0d0887"
             ],
             [
              0.1111111111111111,
              "#46039f"
             ],
             [
              0.2222222222222222,
              "#7201a8"
             ],
             [
              0.3333333333333333,
              "#9c179e"
             ],
             [
              0.4444444444444444,
              "#bd3786"
             ],
             [
              0.5555555555555556,
              "#d8576b"
             ],
             [
              0.6666666666666666,
              "#ed7953"
             ],
             [
              0.7777777777777778,
              "#fb9f3a"
             ],
             [
              0.8888888888888888,
              "#fdca26"
             ],
             [
              1,
              "#f0f921"
             ]
            ],
            "type": "surface"
           }
          ],
          "table": [
           {
            "cells": {
             "fill": {
              "color": "#EBF0F8"
             },
             "line": {
              "color": "white"
             }
            },
            "header": {
             "fill": {
              "color": "#C8D4E3"
             },
             "line": {
              "color": "white"
             }
            },
            "type": "table"
           }
          ]
         },
         "layout": {
          "annotationdefaults": {
           "arrowcolor": "#2a3f5f",
           "arrowhead": 0,
           "arrowwidth": 1
          },
          "autotypenumbers": "strict",
          "coloraxis": {
           "colorbar": {
            "outlinewidth": 0,
            "ticks": ""
           }
          },
          "colorscale": {
           "diverging": [
            [
             0,
             "#8e0152"
            ],
            [
             0.1,
             "#c51b7d"
            ],
            [
             0.2,
             "#de77ae"
            ],
            [
             0.3,
             "#f1b6da"
            ],
            [
             0.4,
             "#fde0ef"
            ],
            [
             0.5,
             "#f7f7f7"
            ],
            [
             0.6,
             "#e6f5d0"
            ],
            [
             0.7,
             "#b8e186"
            ],
            [
             0.8,
             "#7fbc41"
            ],
            [
             0.9,
             "#4d9221"
            ],
            [
             1,
             "#276419"
            ]
           ],
           "sequential": [
            [
             0,
             "#0d0887"
            ],
            [
             0.1111111111111111,
             "#46039f"
            ],
            [
             0.2222222222222222,
             "#7201a8"
            ],
            [
             0.3333333333333333,
             "#9c179e"
            ],
            [
             0.4444444444444444,
             "#bd3786"
            ],
            [
             0.5555555555555556,
             "#d8576b"
            ],
            [
             0.6666666666666666,
             "#ed7953"
            ],
            [
             0.7777777777777778,
             "#fb9f3a"
            ],
            [
             0.8888888888888888,
             "#fdca26"
            ],
            [
             1,
             "#f0f921"
            ]
           ],
           "sequentialminus": [
            [
             0,
             "#0d0887"
            ],
            [
             0.1111111111111111,
             "#46039f"
            ],
            [
             0.2222222222222222,
             "#7201a8"
            ],
            [
             0.3333333333333333,
             "#9c179e"
            ],
            [
             0.4444444444444444,
             "#bd3786"
            ],
            [
             0.5555555555555556,
             "#d8576b"
            ],
            [
             0.6666666666666666,
             "#ed7953"
            ],
            [
             0.7777777777777778,
             "#fb9f3a"
            ],
            [
             0.8888888888888888,
             "#fdca26"
            ],
            [
             1,
             "#f0f921"
            ]
           ]
          },
          "colorway": [
           "#636efa",
           "#EF553B",
           "#00cc96",
           "#ab63fa",
           "#FFA15A",
           "#19d3f3",
           "#FF6692",
           "#B6E880",
           "#FF97FF",
           "#FECB52"
          ],
          "font": {
           "color": "#2a3f5f"
          },
          "geo": {
           "bgcolor": "white",
           "lakecolor": "white",
           "landcolor": "white",
           "showlakes": true,
           "showland": true,
           "subunitcolor": "#C8D4E3"
          },
          "hoverlabel": {
           "align": "left"
          },
          "hovermode": "closest",
          "mapbox": {
           "style": "light"
          },
          "paper_bgcolor": "white",
          "plot_bgcolor": "white",
          "polar": {
           "angularaxis": {
            "gridcolor": "#EBF0F8",
            "linecolor": "#EBF0F8",
            "ticks": ""
           },
           "bgcolor": "white",
           "radialaxis": {
            "gridcolor": "#EBF0F8",
            "linecolor": "#EBF0F8",
            "ticks": ""
           }
          },
          "scene": {
           "xaxis": {
            "backgroundcolor": "white",
            "gridcolor": "#DFE8F3",
            "gridwidth": 2,
            "linecolor": "#EBF0F8",
            "showbackground": true,
            "ticks": "",
            "zerolinecolor": "#EBF0F8"
           },
           "yaxis": {
            "backgroundcolor": "white",
            "gridcolor": "#DFE8F3",
            "gridwidth": 2,
            "linecolor": "#EBF0F8",
            "showbackground": true,
            "ticks": "",
            "zerolinecolor": "#EBF0F8"
           },
           "zaxis": {
            "backgroundcolor": "white",
            "gridcolor": "#DFE8F3",
            "gridwidth": 2,
            "linecolor": "#EBF0F8",
            "showbackground": true,
            "ticks": "",
            "zerolinecolor": "#EBF0F8"
           }
          },
          "shapedefaults": {
           "line": {
            "color": "#2a3f5f"
           }
          },
          "ternary": {
           "aaxis": {
            "gridcolor": "#DFE8F3",
            "linecolor": "#A2B1C6",
            "ticks": ""
           },
           "baxis": {
            "gridcolor": "#DFE8F3",
            "linecolor": "#A2B1C6",
            "ticks": ""
           },
           "bgcolor": "white",
           "caxis": {
            "gridcolor": "#DFE8F3",
            "linecolor": "#A2B1C6",
            "ticks": ""
           }
          },
          "title": {
           "x": 0.05
          },
          "xaxis": {
           "automargin": true,
           "gridcolor": "#EBF0F8",
           "linecolor": "#EBF0F8",
           "ticks": "",
           "title": {
            "standoff": 15
           },
           "zerolinecolor": "#EBF0F8",
           "zerolinewidth": 2
          },
          "yaxis": {
           "automargin": true,
           "gridcolor": "#EBF0F8",
           "linecolor": "#EBF0F8",
           "ticks": "",
           "title": {
            "standoff": 15
           },
           "zerolinecolor": "#EBF0F8",
           "zerolinewidth": 2
          }
         }
        },
        "title": {
         "font": {
          "color": "#6680a8",
          "size": 20
         },
         "text": "Fire Severity Probability by Management Zone",
         "x": 0.5
        },
        "uniformtext": {
         "minsize": 8,
         "mode": "hide"
        },
        "xaxis": {
         "anchor": "y",
         "domain": [
          0,
          1
         ],
         "title": {
          "text": "Management Zone"
         }
        },
        "yaxis": {
         "anchor": "x",
         "domain": [
          0,
          1
         ],
         "title": {
          "text": "Acres"
         }
        }
       }
      }
     },
     "metadata": {},
     "output_type": "display_data"
    }
   ],
   "source": [
    "# stacked bar chart of severity by management zone\n",
    "fig = px.bar(dfMgmt_Fire, x=\"Name\", y=\"Acres\", \n",
    "            color=\"Fire Severity\",\n",
    "            text=dfMgmt_Fire['Percentage'].astype(str) + '%',\n",
    "            title=\"Fire Severity Probability by Management Zone\",\n",
    "            labels={\"Acres\": \"Acres\", \"Name\": \"Management Zone\"},\n",
    "            color_discrete_sequence=[\"#91bfdb\", \"#ffffbf\", \"#fc8d59\"],\n",
    "            custom_data=[\"Fire Severity\"]\n",
    "            )\n",
    "fig.update_traces(marker_line_color='rgb(8,48,107)',\n",
    "                    marker_line_width=0.1, opacity=0.9,\n",
    "                    textfont_size=14, textposition=\"inside\",\n",
    "                    hovertemplate=\"<br>\".join(\n",
    "                        [\"<b>%{y:,.0f}</b> of the forested area is\", \n",
    "                            \"likely to burn as <i>%{customdata[0]}</i>\"]\n",
    "                    )\n",
    "                    + \"<extra></extra>\",\n",
    "            )\n",
    "fig.update_layout(title_x=0.5, title_font_size=20,\n",
    "                    uniformtext_minsize=8, uniformtext_mode='hide',\n",
    "                    title_font_color='#6680a8',\n",
    "                    xaxis_title=\"Management Zone\",\n",
    "                    yaxis_title=\"Acres\",\n",
    "                    hovermode=\"x unified\",\n",
    "                    template=template,\n",
    "                    # displayModeBar=False,\n",
    "                    legend=dict(title_text='',\n",
    "                                orientation=\"h\",\n",
    "                                yanchor=\"bottom\",\n",
    "                                y=1.02,\n",
    "                                xanchor=\"right\",\n",
    "                                x=1),\n",
    "                    legend_title_text='Fire Severity',\n",
    "                    font_family=font,\n",
    "                    font_color='#6680a8',\n",
    "                    plot_bgcolor='white',\n",
    "                    showlegend=True\n",
    "                        )\n",
    "fig.show()\n",
    "# save to HTML\n",
    "fig.write_html(\"DataVisualizations/FireSeverity_ManagementZone.html\", full_html= False, include_plotlyjs='cdn')"
   ]
  },
  {
   "cell_type": "code",
   "execution_count": null,
   "id": "642fad75",
   "metadata": {},
   "outputs": [],
   "source": []
  }
 ],
 "metadata": {
  "kernelspec": {
   "display_name": "Python 3",
   "language": "python",
   "name": "python3"
  },
  "language_info": {
   "codemirror_mode": {
    "name": "ipython",
    "version": 3
   },
   "file_extension": ".py",
   "mimetype": "text/x-python",
   "name": "python",
   "nbconvert_exporter": "python",
   "pygments_lexer": "ipython3",
   "version": "3.11.10"
  },
  "toc": {
   "base_numbering": 1,
   "nav_menu": {},
   "number_sections": true,
   "sideBar": true,
   "skip_h1_title": false,
   "title_cell": "Table of Contents",
   "title_sidebar": "Contents",
   "toc_cell": false,
   "toc_position": {},
   "toc_section_display": true,
   "toc_window_display": false
  }
 },
 "nbformat": 4,
 "nbformat_minor": 5
}
