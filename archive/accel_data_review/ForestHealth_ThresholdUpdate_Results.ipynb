{
 "cells": [
  {
   "cell_type": "markdown",
   "id": "1a00e503",
   "metadata": {},
   "source": [
    "## Forest Health Threshold Update - Results\n",
    "* Mason Bindl mbindl@trpa.gov\n",
    "* Andrew McClary amcclary@trpa.gov"
   ]
  },
  {
   "cell_type": "markdown",
   "id": "3d9d2483",
   "metadata": {
    "heading_collapsed": true
   },
   "source": [
    "### Setup"
   ]
  },
  {
   "cell_type": "code",
   "execution_count": null,
   "id": "fbef7686",
   "metadata": {
    "hidden": true
   },
   "outputs": [],
   "source": [
    "from sqlalchemy.engine import URL, create_engine\n",
    "\n",
    "# default workspace\n",
    "workspace     = r'C:\\GIS\\Python\\Scripts\\Demographics'\n",
    "arcpy.env.workspace = \"C:\\\\GIS\\\\Scratch.gdb\"\n",
    "\n",
    "# path to database connection files\n",
    "filePath = r\"C:\\\\GIS\\\\DB_CONNECT\"\n",
    "# filePath = \"F:\\\\GIS\\\\GIS_DATA\"\n",
    "\n",
    "# database file path \n",
    "sdeBase = os.path.join(filePath, \"Vector.sde\")\n",
    "sdeCollect = os.path.join(filePath, \"Collection.sde\")\n",
    "sdeTabular = os.path.join(filePath, \"Tabular.sde\")\n",
    "\n",
    "# # sql database connection with pyodbc\n",
    "# conn = pyodbc.connect('DRIVER={ODBC Driver 17 for SQL Server};SERVER=sql12;DATABASE=sde_tabular;UID=sde;PWD=staff')\n",
    "# conn2 = pyodbc.connect('DRIVER={ODBC Driver 17 for SQL Server};SERVER=sql12;DATABASE=sde;UID=sde;PWD=staff')\n",
    "# setup sql connection\n",
    "connection_string = \"DRIVER={ODBC Driver 17 for SQL Server};SERVER=sql12;DATABASE=sde;UID=sde;PWD=staff\"\n",
    "connection_url    = URL.create(\"mssql+pyodbc\", query={\"odbc_connect\": connection_string})\n",
    "conn              = create_engine(connection_url)\n"
   ]
  },
  {
   "cell_type": "code",
   "execution_count": null,
   "id": "4b9f2f3d",
   "metadata": {
    "ExecuteTime": {
     "end_time": "2023-06-01T20:57:05.600866Z",
     "start_time": "2023-06-01T20:57:04.730789Z"
    },
    "hidden": true
   },
   "outputs": [],
   "source": [
    "import os\n",
    "import csv\n",
    "from datetime import datetime\n",
    "import getpass\n",
    "import pyodbc\n",
    "import xlrd\n",
    "import arcpy\n",
    "from arcgis.gis import GIS\n",
    "from arcgis.mapping import WebMap\n",
    "from arcgis.features import FeatureSet, GeoAccessor, GeoSeriesAccessor, FeatureLayer, FeatureLayerCollection\n",
    "import pickle\n",
    "import pandas as pd\n",
    "from pandas.api.types import CategoricalDtype\n",
    "import numpy as np\n",
    "import matplotlib\n",
    "import plotly\n",
    "import plotly.offline as py\n",
    "import plotly.graph_objs as go\n",
    "import plotly.tools as tls\n",
    "import plotly.express as px\n",
    "import plotly.figure_factory as ff\n",
    "from plotly.offline import iplot, init_notebook_mode\n",
    "from plotly.subplots import make_subplots\n",
    "py.init_notebook_mode()\n",
    "# plotly settings\n",
    "init_notebook_mode(connected=False)\n",
    "\n",
    "# pandas settings\n",
    "pd.options.plotting.backend = \"plotly\"\n",
    "# set data frame display options\n",
    "pd.set_option('display.width', 1000)\n",
    "pd.set_option('display.max_rows', 1000)\n",
    "pd.set_option('display.max_columns', 1000)\n",
    "pd.options.display.float_format = '{:,.2f}'.format\n",
    "\n",
    "# set overwrite to true\n",
    "arcpy.env.overwriteOutput = True\n",
    "\n",
    "# in memory output file path\n",
    "memory = \"memory/\"\n",
    "\n",
    "# default workspace\n",
    "workspace           = r\"\\\\TRPA-FS01\\GIS\\PROJECTS\\ForestHealth_Intiative\\ThresholdUpdate\\AnalysisProduct\"\n",
    "arcpy.env.workspace = r\"\\\\TRPA-FS01\\GIS\\PROJECTS\\ForestHealth_Intiative\\ThresholdUpdate\\Data\\ForestHealth_ThresholdUpdate.gdb\"\n",
    "\n",
    "# path to database connection files\n",
    "filePath = \"C:\\\\GIS\\\\DB_CONNECT\"\n",
    "# filePath = \"F:\\\\GIS\\\\GIS_DATA\"\n",
    "\n",
    "# database file path \n",
    "sdeBase = os.path.join(filePath, \"Vector.sde\")\n",
    "sdeCollect = os.path.join(filePath, \"Collection.sde\")\n",
    "sdeTabular = os.path.join(filePath, \"Tabular.sde\")\n",
    "\n",
    "# sql database connection with pyodbc\n",
    "conn = pyodbc.connect('DRIVER={ODBC Driver 17 for SQL Server};SERVER=sql12;DATABASE=sde_tabular;UID=sde;PWD=staff')\n",
    "conn2 = pyodbc.connect('DRIVER={ODBC Driver 17 for SQL Server};SERVER=sql12;DATABASE=sde;UID=sde;PWD=staff')\n",
    "\n",
    "# set style variables\n",
    "template = 'plotly_white'\n",
    "font     = 'Calibri'\n",
    "\n",
    "# colors for tables\n",
    "headerColor = '#6680a8'\n",
    "rowColor = 'white'\n",
    "lastrowColor = '#eeeeee'"
   ]
  },
  {
   "cell_type": "code",
   "execution_count": null,
   "id": "b9b57f32",
   "metadata": {
    "hidden": true
   },
   "outputs": [],
   "source": []
  },
  {
   "cell_type": "markdown",
   "id": "f2f63f36",
   "metadata": {
    "heading_collapsed": true
   },
   "source": [
    "### General Stats"
   ]
  },
  {
   "cell_type": "code",
   "execution_count": null,
   "id": "40f1b24e",
   "metadata": {
    "ExecuteTime": {
     "end_time": "2023-06-01T23:08:40.547135Z",
     "start_time": "2023-06-01T23:08:40.508135Z"
    },
    "hidden": true
   },
   "outputs": [],
   "source": [
    "# climate classes, acres, descriptions>\n",
    "dfClimateClass = pd.read_csv(os.path.join(workspace, \"ClimateClasses_TahoeValues.csv\"))\n",
    "dfClimateClass\n"
   ]
  },
  {
   "cell_type": "code",
   "execution_count": null,
   "id": "3b51cc40",
   "metadata": {
    "ExecuteTime": {
     "end_time": "2023-06-01T23:25:53.565415Z",
     "start_time": "2023-06-01T23:25:53.529404Z"
    },
    "hidden": true
   },
   "outputs": [],
   "source": [
    "dfClimateClass.info()"
   ]
  },
  {
   "cell_type": "code",
   "execution_count": null,
   "id": "3abaa242",
   "metadata": {
    "ExecuteTime": {
     "end_time": "2023-06-01T23:32:10.677141Z",
     "start_time": "2023-06-01T23:32:09.211955Z"
    },
    "hidden": true
   },
   "outputs": [],
   "source": [
    "# climate classes, acres, descriptions>\n",
    "dfClimateClass = pd.read_csv(os.path.join(workspace, \"ClimateClasses_TahoeValues.csv\"))\n",
    "df = dfClimateClass\n",
    "# drop fields to add up row totals\n",
    "df.drop(columns=['OID_','Count'], inplace=True)\n",
    "\n",
    "# format values\n",
    "df['Acres']   = df['Acres'].map(u\"{:,.0f}\".format)\n",
    "df['FractalIndex10thPercentile']   = df['FractalIndex10thPercentile'].map(u\"{:,.2f}\".format)\n",
    "df['FractalIndex90thPercentile']   = df['FractalIndex90thPercentile'].map(u\"{:,.2f}\".format)\n",
    "\n",
    "# format table column names\n",
    "headers = ['<b>Climate Class</b>', '<b>Stand Density 10th Percentile</b>',\n",
    "           '<b>Stand Density 90th Percentile</b>', '<b>Large Tree Density 10th Percentile</b>',\n",
    "           '<b>Large Tree Density 90th Percentile</b>',  '<b>Fractal Index 10th Percentile</b>',\n",
    "           '<b>Fractal Index 90th Percentile</b>','<b>Acres</b>']\n",
    "\n",
    "# setup table figure\n",
    "fig = go.Figure(data=[go.Table(\n",
    "    columnorder = [1,2,3,4,5,6,7,8],\n",
    "    columnwidth = [20,10,10,10,10,10,10,20],\n",
    "    header=dict(values=headers,\n",
    "                fill_color='#6680a8',\n",
    "                align='center',\n",
    "                line_color='darkslategray',\n",
    "                font=dict(color='white', size=14),\n",
    "                height=20),\n",
    "    cells=dict(values=[df['Value'] , df['StandDensity10thPercentile'], \n",
    "                       df['StandDensity90thPercentile'],df['LargeTreeDensity10thPercentile'], \n",
    "                       df['LargeTreeDensity90thPercentile'],df['FractalIndex10thPercentile'], \n",
    "                       df['FractalIndex90thPercentile'],df['Acres']],\n",
    "               fill_color = [[rowColor]],\n",
    "               line_color='darkslategray',\n",
    "               font=dict(size=14),\n",
    "               align=['left','center'],\n",
    "               height=30))\n",
    "])\n",
    "\n",
    "# update style and margins\n",
    "fig.update_layout(\n",
    "    font_family=font,\n",
    "    margin=dict(l=10, r=10, t=10, b=10)\n",
    ")\n",
    "\n",
    "fig.show()\n",
    "\n",
    "# save to HTML\n",
    "fig.write_html(os.path.join(workspace, \"ClimateClass_Table.html\"))\n",
    "# save PNG\n",
    "fig.write_image(os.path.join(workspace, \"CliamteClass_Table.png\"))"
   ]
  },
  {
   "cell_type": "markdown",
   "id": "611a6250",
   "metadata": {
    "heading_collapsed": true
   },
   "source": [
    "## Stand Density"
   ]
  },
  {
   "cell_type": "code",
   "execution_count": 46,
   "id": "ab628dbc",
   "metadata": {
    "ExecuteTime": {
     "end_time": "2023-06-01T21:47:05.841853Z",
     "start_time": "2023-06-01T21:47:05.826858Z"
    },
    "hidden": true
   },
   "outputs": [],
   "source": [
    "dfStandDensityClass = pd.read_csv(os.path.join(workspace, \"StandDensity_TPA_Classified_30m_Tahoe.csv\"))"
   ]
  },
  {
   "cell_type": "code",
   "execution_count": 47,
   "id": "883a30ea",
   "metadata": {
    "ExecuteTime": {
     "end_time": "2023-06-01T21:47:08.018057Z",
     "start_time": "2023-06-01T21:47:08.011047Z"
    },
    "hidden": true
   },
   "outputs": [],
   "source": [
    "df = dfStandDensityClass"
   ]
  },
  {
   "cell_type": "code",
   "execution_count": null,
   "id": "981b9fb7",
   "metadata": {
    "ExecuteTime": {
     "end_time": "2023-06-01T21:47:10.206246Z",
     "start_time": "2023-06-01T21:47:08.942137Z"
    },
    "hidden": true
   },
   "outputs": [],
   "source": [
    "# stand density class bar chart\n",
    "fig = px.bar(df, y=\"Acres\", x=\"Category\", \n",
    "             title=\"Stand Density Class\",\n",
    "            )\n",
    "fig.update_traces(marker_color='#6680a8', marker_line_color='rgb(8,48,107)',\n",
    "                  marker_line_width=1.5, opacity=0.6)\n",
    "# show figure\n",
    "fig.show()\n",
    "# save to HTML\n",
    "fig.write_html(os.path.join(workspace, \"StandDensityClass.html\"))\n",
    "# save to PNG\n",
    "fig.write_image(os.path.join(workspace, \"StandDensityClass.png\"))"
   ]
  },
  {
   "cell_type": "code",
   "execution_count": null,
   "id": "c386178a",
   "metadata": {
    "ExecuteTime": {
     "end_time": "2023-06-01T21:28:57.384631Z",
     "start_time": "2023-06-01T21:28:56.397555Z"
    },
    "hidden": true
   },
   "outputs": [],
   "source": [
    "df = dfStandDensityClass\n",
    "# drop fields to add up row totals\n",
    "df.drop(columns=['OID_','Value','Count'], inplace=True)\n",
    "\n",
    "# format values\n",
    "df['Acres']   = df['Acres'].map(u\"{:,.0f}\".format)\n",
    "\n",
    "# format table column names\n",
    "headers = ['<b>Class</b>','<b>Acres</b>']\n",
    "\n",
    "# setup table figure\n",
    "fig = go.Figure(data=[go.Table(\n",
    "    columnorder = [1,2],\n",
    "    columnwidth = [20,20],\n",
    "    header=dict(values=headers,\n",
    "                fill_color='#6680a8',\n",
    "                align='center',\n",
    "                line_color='darkslategray',\n",
    "                font=dict(color='white', size=14),\n",
    "                height=20),\n",
    "    cells=dict(values=[df['Category'] , df['Acres']],\n",
    "               fill_color = [[rowColor]*5+[lastrowColor]],\n",
    "               line_color='darkslategray',\n",
    "               font=dict(size=14),\n",
    "               align=['left','center'],\n",
    "               height=30))\n",
    "])\n",
    "\n",
    "# update style and margins\n",
    "fig.update_layout(\n",
    "    font_family=font,\n",
    "    margin=dict(l=10, r=10, t=10, b=10)\n",
    ")\n",
    "\n",
    "fig.show()\n",
    "\n",
    "# save to HTML\n",
    "fig.write_html(os.path.join(workspace, \"StandDensityClass_Table.html\"))\n",
    "# save PNG\n",
    "fig.write_image(os.path.join(workspace, \"StandDensityClass_Table.png\"))"
   ]
  },
  {
   "cell_type": "markdown",
   "id": "d4f19e61",
   "metadata": {
    "heading_collapsed": true
   },
   "source": [
    "## Large Tree Density"
   ]
  },
  {
   "cell_type": "code",
   "execution_count": null,
   "id": "6a20bb58",
   "metadata": {
    "ExecuteTime": {
     "end_time": "2023-06-01T21:27:37.862524Z",
     "start_time": "2023-06-01T21:27:37.834526Z"
    },
    "hidden": true
   },
   "outputs": [],
   "source": [
    "dfLargeTreeDensityClass = pd.read_csv(os.path.join(workspace, \"LargeTreeDensity_Class_10th90thPercentile.csv\"))\n",
    "dfLargeTreeDensityClass"
   ]
  },
  {
   "cell_type": "code",
   "execution_count": null,
   "id": "7f3b66fb",
   "metadata": {
    "ExecuteTime": {
     "end_time": "2023-06-01T21:26:46.588951Z",
     "start_time": "2023-06-01T21:26:45.340836Z"
    },
    "hidden": true
   },
   "outputs": [],
   "source": [
    "df = dfLargeTreeDensityClass\n",
    "# drop fields to add up row totals\n",
    "df.drop(columns=['OID_','Value','Count'], inplace=True)\n",
    "\n",
    "# format values\n",
    "df['Acres']   = df['Acres'].map(u\"{:,.0f}\".format)\n",
    "\n",
    "# format table column names\n",
    "headers = ['<b>Class</b>','<b>Acres</b>']\n",
    "\n",
    "# setup table figure\n",
    "fig = go.Figure(data=[go.Table(\n",
    "    columnorder = [1,2],\n",
    "    columnwidth = [20,20],\n",
    "    header=dict(values=headers,\n",
    "                fill_color='#6680a8',\n",
    "                align='center',\n",
    "                line_color='darkslategray',\n",
    "                font=dict(color='white', size=14),\n",
    "                height=20),\n",
    "    cells=dict(values=[df['Category'] , df['Acres']],\n",
    "               fill_color = [[rowColor]*5+[lastrowColor]],\n",
    "               line_color='darkslategray',\n",
    "               font=dict(size=14),\n",
    "               align=['left','center'],\n",
    "               height=30))\n",
    "])\n",
    "\n",
    "# update style and margins\n",
    "fig.update_layout(\n",
    "    font_family=font,\n",
    "    margin=dict(l=10, r=10, t=10, b=10)\n",
    ")\n",
    "\n",
    "fig.show()\n",
    "\n",
    "# save to HTML\n",
    "fig.write_html(os.path.join(workspace, \"LargeTreeDensityClass_Table.html\"))\n",
    "# save PNG\n",
    "fig.write_image(os.path.join(workspace, \"LargeTreeDensityClass_Table.png\"))"
   ]
  },
  {
   "cell_type": "code",
   "execution_count": null,
   "id": "a7e8ad8a",
   "metadata": {
    "ExecuteTime": {
     "end_time": "2023-06-01T21:27:44.368106Z",
     "start_time": "2023-06-01T21:27:44.348119Z"
    },
    "hidden": true
   },
   "outputs": [],
   "source": [
    "df"
   ]
  },
  {
   "cell_type": "code",
   "execution_count": null,
   "id": "3afa0ab8",
   "metadata": {
    "ExecuteTime": {
     "end_time": "2023-06-01T21:47:33.300305Z",
     "start_time": "2023-06-01T21:47:32.014199Z"
    },
    "hidden": true
   },
   "outputs": [],
   "source": [
    "\n",
    "df = dfLargeTreeDensityClass\n",
    "\n",
    "# stand density class bar chart\n",
    "fig = px.bar(df, y=\"Acres\", x=\"Category\", \n",
    "             title=\"Large Tree Density Class\",\n",
    "            )\n",
    "fig.update_traces(marker_color='#6680a8', marker_line_color='rgb(8,48,107)',\n",
    "                  marker_line_width=1.5, opacity=0.6)\n",
    "# show figure\n",
    "fig.show()\n",
    "# save to HTML\n",
    "fig.write_html(os.path.join(workspace, \"LargeTreeDensityClass.html\"))\n",
    "# save to PNG\n",
    "fig.write_image(os.path.join(workspace, \"LargeTreeDensityClass.png\"))"
   ]
  },
  {
   "cell_type": "code",
   "execution_count": null,
   "id": "a22e48d3",
   "metadata": {
    "ExecuteTime": {
     "end_time": "2023-06-01T22:12:05.584811Z",
     "start_time": "2023-06-01T22:12:04.213667Z"
    },
    "hidden": true
   },
   "outputs": [],
   "source": [
    "# using 20th and 80th percentile cutoffs\n",
    "dfLargeTreeDensityClass2080 = pd.read_csv(os.path.join(workspace, \"LargeTreeDensity_Class_20th80thPercentile.csv\"))\n",
    "df = dfLargeTreeDensityClass2080\n",
    "\n",
    "# stand density class bar chart\n",
    "fig = px.bar(df, y=\"Acres\", x=\"Category\", \n",
    "             title=\"Large Tree Density Class\",\n",
    "            )\n",
    "fig.update_traces(marker_color='#6680a8', marker_line_color='rgb(8,48,107)',\n",
    "                  marker_line_width=1.5, opacity=0.6)\n",
    "# show figure\n",
    "fig.show()\n",
    "# save to HTML\n",
    "fig.write_html(os.path.join(workspace, \"LargeTreeDensityClass2080.html\"))\n",
    "# save to PNG\n",
    "fig.write_image(os.path.join(workspace, \"LargeTreeDensityClass2080.png\"))"
   ]
  },
  {
   "cell_type": "code",
   "execution_count": null,
   "id": "8f6baa53",
   "metadata": {
    "ExecuteTime": {
     "end_time": "2023-06-01T22:13:02.436490Z",
     "start_time": "2023-06-01T22:13:01.188390Z"
    },
    "hidden": true
   },
   "outputs": [],
   "source": [
    "df = dfLargeTreeDensityClass2080\n",
    "# drop fields to add up row totals\n",
    "df.drop(columns=['OID_','Value','Count'], inplace=True)\n",
    "\n",
    "# format values\n",
    "df['Acres']   = df['Acres'].map(u\"{:,.0f}\".format)\n",
    "\n",
    "# format table column names\n",
    "headers = ['<b>Class</b>','<b>Acres</b>']\n",
    "\n",
    "# setup table figure\n",
    "fig = go.Figure(data=[go.Table(\n",
    "    columnorder = [1,2],\n",
    "    columnwidth = [20,20],\n",
    "    header=dict(values=headers,\n",
    "                fill_color='#6680a8',\n",
    "                align='center',\n",
    "                line_color='darkslategray',\n",
    "                font=dict(color='white', size=14),\n",
    "                height=20),\n",
    "    cells=dict(values=[df['Category'] , df['Acres']],\n",
    "               fill_color = [[rowColor]*5+[lastrowColor]],\n",
    "               line_color='darkslategray',\n",
    "               font=dict(size=14),\n",
    "               align=['left','center'],\n",
    "               height=30))\n",
    "])\n",
    "\n",
    "# update style and margins\n",
    "fig.update_layout(\n",
    "    font_family=font,\n",
    "    margin=dict(l=10, r=10, t=10, b=10)\n",
    ")\n",
    "\n",
    "fig.show()\n",
    "\n",
    "# save to HTML\n",
    "fig.write_html(os.path.join(workspace, \"LargeTreeDensityClass_Table2080.html\"))\n",
    "# save PNG\n",
    "fig.write_image(os.path.join(workspace, \"LargeTreeDensityClass_Table2080.png\"))"
   ]
  },
  {
   "cell_type": "code",
   "execution_count": null,
   "id": "36c66e5d",
   "metadata": {
    "hidden": true
   },
   "outputs": [],
   "source": []
  },
  {
   "cell_type": "markdown",
   "id": "bab456e8",
   "metadata": {
    "heading_collapsed": true
   },
   "source": [
    "## Horizontal Heterogeneity"
   ]
  },
  {
   "cell_type": "code",
   "execution_count": null,
   "id": "e9bd1b24",
   "metadata": {
    "hidden": true
   },
   "outputs": [],
   "source": [
    "dfFractalIndexClass = pd.read_csv()"
   ]
  },
  {
   "cell_type": "markdown",
   "id": "5fcea2ef",
   "metadata": {
    "heading_collapsed": true
   },
   "source": [
    "## Seral Stage and Canopy Cover"
   ]
  },
  {
   "cell_type": "code",
   "execution_count": null,
   "id": "9336dc58",
   "metadata": {
    "hidden": true
   },
   "outputs": [],
   "source": [
    "dfSeral = \n",
    "dfCanopy=\n"
   ]
  },
  {
   "cell_type": "markdown",
   "id": "16babb88",
   "metadata": {
    "heading_collapsed": true
   },
   "source": [
    "## Functional Fire"
   ]
  },
  {
   "cell_type": "code",
   "execution_count": null,
   "id": "1a3fff41",
   "metadata": {
    "hidden": true
   },
   "outputs": [],
   "source": [
    "dfFire = pd.read_csv()\n"
   ]
  }
 ],
 "metadata": {
  "kernelspec": {
   "display_name": "ArcGISPro",
   "language": "Python",
   "name": "python3"
  },
  "language_info": {
   "file_extension": ".py",
   "name": "python",
   "version": "3"
  },
  "toc": {
   "base_numbering": 1,
   "nav_menu": {},
   "number_sections": true,
   "sideBar": true,
   "skip_h1_title": false,
   "title_cell": "Table of Contents",
   "title_sidebar": "Contents",
   "toc_cell": false,
   "toc_position": {},
   "toc_section_display": true,
   "toc_window_display": false
  }
 },
 "nbformat": 4,
 "nbformat_minor": 5
}
